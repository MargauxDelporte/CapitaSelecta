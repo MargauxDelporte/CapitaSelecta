{
 "cells": [
  {
   "cell_type": "markdown",
   "metadata": {},
   "source": [
    "# EXAM PAPER MARGAUX DELPORTE (r0595384)"
   ]
  },
  {
   "cell_type": "markdown",
   "metadata": {},
   "source": [
    "My exam paper consists of an analysis of the movie review section of the New York times. This site contains an API that gives access to over 22,000 New York Times movie reviews from today back to 1924. In the first part I create a function to make the search in the API automated. Since the text of the reviews is not included in the API, the second part is scraping the movie reviews pages. A sentiment analysis of a review is included in the third part. The fourth path integrates the previous three parts in one function; when you search for a movie in the API, you get the movie, the text and the sentiment analysis. In the last part I use text mining to predict whether the movie is recommended by the New York times critics or not.\n"
   ]
  },
  {
   "cell_type": "markdown",
   "metadata": {},
   "source": [
    "## PART 0: loading the packages in Python"
   ]
  },
  {
   "cell_type": "code",
   "execution_count": 1,
   "metadata": {},
   "outputs": [],
   "source": [
    "import requests\n",
    "import pandas as pd\n",
    "import random\n",
    "from sklearn.feature_extraction.text import CountVectorizer\n",
    "from time import sleep\n",
    "from requests_html import HTMLSession\n",
    "from afinn import Afinn\n",
    "from sklearn.linear_model import LogisticRegression\n",
    "from sklearn.feature_extraction.text import TfidfVectorizer \n",
    "from sklearn.metrics import classification_report, confusion_matrix, accuracy_score\n",
    "from sklearn.naive_bayes import MultinomialNB\n",
    "from sklearn.neighbors import KNeighborsClassifier\n",
    "from sklearn.pipeline import Pipeline\n",
    "from sklearn.utils import resample\n",
    "from sklearn.model_selection import cross_val_score\n",
    "import numpy as np\n",
    "import collections\n",
    "import matplotlib.pyplot as plt \n",
    "plt.rc(\"font\", size=14)\n",
    "import seaborn as sns\n",
    "sns.set(style=\"white\")\n",
    "sns.set(style=\"whitegrid\", color_codes=True)\n",
    "from sklearn.model_selection import GridSearchCV"
   ]
  },
  {
   "cell_type": "markdown",
   "metadata": {},
   "source": [
    "## PART 1: API "
   ]
  },
  {
   "cell_type": "markdown",
   "metadata": {},
   "source": [
    "In this part I create a function to make the search in the API easier. In addition, I overcome the issue that the returned dataframe from the API only contains the last page of results. Notice that a key is also necessary, I have obtained it for free from the developer site of the New York Times (https://developer.nytimes.com/indexV2.html)."
   ]
  },
  {
   "cell_type": "markdown",
   "metadata": {},
   "source": [
    "### Case study"
   ]
  },
  {
   "cell_type": "markdown",
   "metadata": {},
   "source": [
    "I start exploring the API to examine which information the API contains. To start, I look for the word beauty. The result also includes the movies with as title translations of the word beauty. The New York Times developer site states that searching by text takes into account all original, translated and alternative names and titles."
   ]
  },
  {
   "cell_type": "markdown",
   "metadata": {},
   "source": [
    "I first define the strings I will use to make the search in the API."
   ]
  },
  {
   "cell_type": "code",
   "execution_count": 2,
   "metadata": {},
   "outputs": [],
   "source": [
    "base_url='https://api.nytimes.com/svc/movies/v2/reviews/search.json'\n",
    "parameters='?query=beauty&api-key=Q7eVW6F5GkZLlP2VzTgyenJlu3Wan5Ey'"
   ]
  },
  {
   "cell_type": "markdown",
   "metadata": {},
   "source": [
    "Next, I make the call in the API and ask for the keys. In this way I get an idea which information the API contains. The results key looks the most promising. "
   ]
  },
  {
   "cell_type": "code",
   "execution_count": 3,
   "metadata": {
    "scrolled": false
   },
   "outputs": [
    {
     "data": {
      "text/plain": [
       "dict_keys(['status', 'copyright', 'has_more', 'num_results', 'results'])"
      ]
     },
     "execution_count": 3,
     "metadata": {},
     "output_type": "execute_result"
    }
   ],
   "source": [
    "r = requests.get(base_url + parameters)\n",
    "search_json = r.json()\n",
    "search_json.keys()"
   ]
  },
  {
   "cell_type": "markdown",
   "metadata": {},
   "source": [
    "The results key is further explored. This key contains all the relevant information for the analysis: the title, dates, critics pick, the links and a short summary. "
   ]
  },
  {
   "cell_type": "code",
   "execution_count": 4,
   "metadata": {},
   "outputs": [
    {
     "data": {
      "text/plain": [
       "dict_keys(['display_title', 'mpaa_rating', 'critics_pick', 'byline', 'headline', 'summary_short', 'publication_date', 'opening_date', 'date_updated', 'link', 'multimedia'])"
      ]
     },
     "execution_count": 4,
     "metadata": {},
     "output_type": "execute_result"
    }
   ],
   "source": [
    "first_item = search_json['results'][0]\n",
    "\n",
    "first_item.keys()"
   ]
  },
  {
   "cell_type": "markdown",
   "metadata": {},
   "source": [
    "The JSON file is transformed in a panda dataframe to make it easier to work with. Notice that I only use the results dictionary. This dictionary contains all the information I need."
   ]
  },
  {
   "cell_type": "code",
   "execution_count": 5,
   "metadata": {
    "scrolled": true
   },
   "outputs": [
    {
     "data": {
      "text/html": [
       "<div>\n",
       "<style scoped>\n",
       "    .dataframe tbody tr th:only-of-type {\n",
       "        vertical-align: middle;\n",
       "    }\n",
       "\n",
       "    .dataframe tbody tr th {\n",
       "        vertical-align: top;\n",
       "    }\n",
       "\n",
       "    .dataframe thead th {\n",
       "        text-align: right;\n",
       "    }\n",
       "</style>\n",
       "<table border=\"1\" class=\"dataframe\">\n",
       "  <thead>\n",
       "    <tr style=\"text-align: right;\">\n",
       "      <th></th>\n",
       "      <th>byline</th>\n",
       "      <th>critics_pick</th>\n",
       "      <th>date_updated</th>\n",
       "      <th>display_title</th>\n",
       "      <th>headline</th>\n",
       "      <th>link</th>\n",
       "      <th>mpaa_rating</th>\n",
       "      <th>multimedia</th>\n",
       "      <th>opening_date</th>\n",
       "      <th>publication_date</th>\n",
       "      <th>summary_short</th>\n",
       "    </tr>\n",
       "  </thead>\n",
       "  <tbody>\n",
       "    <tr>\n",
       "      <th>0</th>\n",
       "      <td>JEANNETTE CATSOULIS</td>\n",
       "      <td>1</td>\n",
       "      <td>2018-04-22 16:44:02</td>\n",
       "      <td>Beauty and the Dogs</td>\n",
       "      <td>Review: Seeking Justice After a Rape in ‘Beaut...</td>\n",
       "      <td>{'type': 'article', 'url': 'http://www.nytimes...</td>\n",
       "      <td></td>\n",
       "      <td>{'type': 'mediumThreeByTwo210', 'src': 'https:...</td>\n",
       "      <td>None</td>\n",
       "      <td>2018-03-22</td>\n",
       "      <td>In this film inspired by a true story, the dir...</td>\n",
       "    </tr>\n",
       "    <tr>\n",
       "      <th>1</th>\n",
       "      <td>A.O. SCOTT</td>\n",
       "      <td>1</td>\n",
       "      <td>2017-11-02 04:18:26</td>\n",
       "      <td>Beauty and the Beast</td>\n",
       "      <td>Review: ‘Beauty and the Beast’ Revels in Joy a...</td>\n",
       "      <td>{'type': 'article', 'url': 'http://www.nytimes...</td>\n",
       "      <td>PG</td>\n",
       "      <td>{'type': 'mediumThreeByTwo210', 'src': 'https:...</td>\n",
       "      <td>2017-03-17</td>\n",
       "      <td>2017-03-03</td>\n",
       "      <td>A compassionate Belle and a splendid monster a...</td>\n",
       "    </tr>\n",
       "    <tr>\n",
       "      <th>2</th>\n",
       "      <td>MANOHLA DARGIS</td>\n",
       "      <td>0</td>\n",
       "      <td>2017-11-02 04:18:26</td>\n",
       "      <td>Collateral Beauty</td>\n",
       "      <td>Review: Lots of Plastic in the Face of ‘Collat...</td>\n",
       "      <td>{'type': 'article', 'url': 'http://www.nytimes...</td>\n",
       "      <td>PG-13</td>\n",
       "      <td>{'type': 'mediumThreeByTwo210', 'src': 'https:...</td>\n",
       "      <td>2016-12-16</td>\n",
       "      <td>2016-12-15</td>\n",
       "      <td>The movie, starring Will Smith, riffs on “A Ch...</td>\n",
       "    </tr>\n",
       "    <tr>\n",
       "      <th>3</th>\n",
       "      <td>STEPHEN HOLDEN</td>\n",
       "      <td>0</td>\n",
       "      <td>2017-11-02 04:16:39</td>\n",
       "      <td>An Eye for Beauty</td>\n",
       "      <td>Review: In ‘An Eye for Beauty,’ Gorgeous Peopl...</td>\n",
       "      <td>{'type': 'article', 'url': 'http://www.nytimes...</td>\n",
       "      <td>Not Rated</td>\n",
       "      <td>{'type': 'mediumThreeByTwo210', 'src': 'https:...</td>\n",
       "      <td>None</td>\n",
       "      <td>2016-04-14</td>\n",
       "      <td>A married man succumbs to the charms of a pred...</td>\n",
       "    </tr>\n",
       "    <tr>\n",
       "      <th>4</th>\n",
       "      <td>HELEN T. VERONGOS</td>\n",
       "      <td>0</td>\n",
       "      <td>2017-11-02 04:18:22</td>\n",
       "      <td>The Beauty Inside</td>\n",
       "      <td>Review: &amp;#8216;The Beauty Inside&amp;#8217; Featur...</td>\n",
       "      <td>{'type': 'article', 'url': 'http://www.nytimes...</td>\n",
       "      <td></td>\n",
       "      <td>{'type': 'mediumThreeByTwo210', 'src': 'https:...</td>\n",
       "      <td>2015-09-11</td>\n",
       "      <td>2015-09-10</td>\n",
       "      <td>This quirky romance from South Korea is about ...</td>\n",
       "    </tr>\n",
       "    <tr>\n",
       "      <th>5</th>\n",
       "      <td>A. O. SCOTT</td>\n",
       "      <td>0</td>\n",
       "      <td>2017-11-02 04:16:38</td>\n",
       "      <td>Bella Addormentata</td>\n",
       "      <td>Woman in an Endless Coma, Circled by Endless D...</td>\n",
       "      <td>{'type': 'article', 'url': 'http://www.nytimes...</td>\n",
       "      <td></td>\n",
       "      <td>{'type': 'mediumThreeByTwo210', 'src': 'https:...</td>\n",
       "      <td>None</td>\n",
       "      <td>2014-06-05</td>\n",
       "      <td>The filmmaker Marco Bellocchio’s 2012 drama, “...</td>\n",
       "    </tr>\n",
       "  </tbody>\n",
       "</table>\n",
       "</div>"
      ],
      "text/plain": [
       "                byline  critics_pick         date_updated  \\\n",
       "0  JEANNETTE CATSOULIS             1  2018-04-22 16:44:02   \n",
       "1           A.O. SCOTT             1  2017-11-02 04:18:26   \n",
       "2       MANOHLA DARGIS             0  2017-11-02 04:18:26   \n",
       "3       STEPHEN HOLDEN             0  2017-11-02 04:16:39   \n",
       "4    HELEN T. VERONGOS             0  2017-11-02 04:18:22   \n",
       "5          A. O. SCOTT             0  2017-11-02 04:16:38   \n",
       "\n",
       "          display_title                                           headline  \\\n",
       "0   Beauty and the Dogs  Review: Seeking Justice After a Rape in ‘Beaut...   \n",
       "1  Beauty and the Beast  Review: ‘Beauty and the Beast’ Revels in Joy a...   \n",
       "2     Collateral Beauty  Review: Lots of Plastic in the Face of ‘Collat...   \n",
       "3     An Eye for Beauty  Review: In ‘An Eye for Beauty,’ Gorgeous Peopl...   \n",
       "4     The Beauty Inside  Review: &#8216;The Beauty Inside&#8217; Featur...   \n",
       "5    Bella Addormentata  Woman in an Endless Coma, Circled by Endless D...   \n",
       "\n",
       "                                                link mpaa_rating  \\\n",
       "0  {'type': 'article', 'url': 'http://www.nytimes...               \n",
       "1  {'type': 'article', 'url': 'http://www.nytimes...          PG   \n",
       "2  {'type': 'article', 'url': 'http://www.nytimes...       PG-13   \n",
       "3  {'type': 'article', 'url': 'http://www.nytimes...   Not Rated   \n",
       "4  {'type': 'article', 'url': 'http://www.nytimes...               \n",
       "5  {'type': 'article', 'url': 'http://www.nytimes...               \n",
       "\n",
       "                                          multimedia opening_date  \\\n",
       "0  {'type': 'mediumThreeByTwo210', 'src': 'https:...         None   \n",
       "1  {'type': 'mediumThreeByTwo210', 'src': 'https:...   2017-03-17   \n",
       "2  {'type': 'mediumThreeByTwo210', 'src': 'https:...   2016-12-16   \n",
       "3  {'type': 'mediumThreeByTwo210', 'src': 'https:...         None   \n",
       "4  {'type': 'mediumThreeByTwo210', 'src': 'https:...   2015-09-11   \n",
       "5  {'type': 'mediumThreeByTwo210', 'src': 'https:...         None   \n",
       "\n",
       "  publication_date                                      summary_short  \n",
       "0       2018-03-22  In this film inspired by a true story, the dir...  \n",
       "1       2017-03-03  A compassionate Belle and a splendid monster a...  \n",
       "2       2016-12-15  The movie, starring Will Smith, riffs on “A Ch...  \n",
       "3       2016-04-14  A married man succumbs to the charms of a pred...  \n",
       "4       2015-09-10  This quirky romance from South Korea is about ...  \n",
       "5       2014-06-05  The filmmaker Marco Bellocchio’s 2012 drama, “...  "
      ]
     },
     "execution_count": 5,
     "metadata": {},
     "output_type": "execute_result"
    }
   ],
   "source": [
    "df = pd.DataFrame(search_json['results'])\n",
    "\n",
    "df.head(6)"
   ]
  },
  {
   "cell_type": "markdown",
   "metadata": {},
   "source": [
    "The column does not display all the information. Therefore I enlarge the column width to 1000 characters."
   ]
  },
  {
   "cell_type": "code",
   "execution_count": 6,
   "metadata": {},
   "outputs": [],
   "source": [
    "pd.set_option('max_colwidth', 1000)"
   ]
  },
  {
   "cell_type": "markdown",
   "metadata": {},
   "source": [
    "I call the first four movies of the dataframe. The columns are sufficiently wide now. "
   ]
  },
  {
   "cell_type": "code",
   "execution_count": 7,
   "metadata": {},
   "outputs": [
    {
     "data": {
      "text/html": [
       "<div>\n",
       "<style scoped>\n",
       "    .dataframe tbody tr th:only-of-type {\n",
       "        vertical-align: middle;\n",
       "    }\n",
       "\n",
       "    .dataframe tbody tr th {\n",
       "        vertical-align: top;\n",
       "    }\n",
       "\n",
       "    .dataframe thead th {\n",
       "        text-align: right;\n",
       "    }\n",
       "</style>\n",
       "<table border=\"1\" class=\"dataframe\">\n",
       "  <thead>\n",
       "    <tr style=\"text-align: right;\">\n",
       "      <th></th>\n",
       "      <th>byline</th>\n",
       "      <th>critics_pick</th>\n",
       "      <th>date_updated</th>\n",
       "      <th>display_title</th>\n",
       "      <th>headline</th>\n",
       "      <th>link</th>\n",
       "      <th>mpaa_rating</th>\n",
       "      <th>multimedia</th>\n",
       "      <th>opening_date</th>\n",
       "      <th>publication_date</th>\n",
       "      <th>summary_short</th>\n",
       "    </tr>\n",
       "  </thead>\n",
       "  <tbody>\n",
       "    <tr>\n",
       "      <th>0</th>\n",
       "      <td>JEANNETTE CATSOULIS</td>\n",
       "      <td>1</td>\n",
       "      <td>2018-04-22 16:44:02</td>\n",
       "      <td>Beauty and the Dogs</td>\n",
       "      <td>Review: Seeking Justice After a Rape in ‘Beauty and the Dogs’</td>\n",
       "      <td>{'type': 'article', 'url': 'http://www.nytimes.com/2018/03/22/movies/beauty-and-the-dogs-review.html', 'suggested_link_text': 'Read the New York Times Review of Beauty and the Dogs'}</td>\n",
       "      <td></td>\n",
       "      <td>{'type': 'mediumThreeByTwo210', 'src': 'https://static01.nyt.com/images/2018/03/23/arts/23beautyandthedogspix/23beautyandthedogspix-mediumThreeByTwo210-v2.jpg', 'width': 210, 'height': 140}</td>\n",
       "      <td>None</td>\n",
       "      <td>2018-03-22</td>\n",
       "      <td>In this film inspired by a true story, the director Kaouther Ben Hania leans hard on official corruption and a bureaucracy dominated by male power.</td>\n",
       "    </tr>\n",
       "    <tr>\n",
       "      <th>1</th>\n",
       "      <td>A.O. SCOTT</td>\n",
       "      <td>1</td>\n",
       "      <td>2017-11-02 04:18:26</td>\n",
       "      <td>Beauty and the Beast</td>\n",
       "      <td>Review: ‘Beauty and the Beast’ Revels in Joy and Enchantment</td>\n",
       "      <td>{'type': 'article', 'url': 'http://www.nytimes.com/2017/03/03/movies/beauty-and-the-beast-review.html', 'suggested_link_text': 'Read the New York Times Review of Beauty and the Beast'}</td>\n",
       "      <td>PG</td>\n",
       "      <td>{'type': 'mediumThreeByTwo210', 'src': 'https://static01.nyt.com/images/2017/03/04/arts/04beauty-beast/04beauty-beast-mediumThreeByTwo210-v4.jpg', 'width': 210, 'height': 140}</td>\n",
       "      <td>2017-03-17</td>\n",
       "      <td>2017-03-03</td>\n",
       "      <td>A compassionate Belle and a splendid monster are the hallmarks of this live-action remake of the 1991 animated film.</td>\n",
       "    </tr>\n",
       "    <tr>\n",
       "      <th>2</th>\n",
       "      <td>MANOHLA DARGIS</td>\n",
       "      <td>0</td>\n",
       "      <td>2017-11-02 04:18:26</td>\n",
       "      <td>Collateral Beauty</td>\n",
       "      <td>Review: Lots of Plastic in the Face of ‘Collateral Beauty’</td>\n",
       "      <td>{'type': 'article', 'url': 'http://www.nytimes.com/2016/12/15/movies/collateral-beauty-review-will-smith.html', 'suggested_link_text': 'Read the New York Times Review of Collateral Beauty'}</td>\n",
       "      <td>PG-13</td>\n",
       "      <td>{'type': 'mediumThreeByTwo210', 'src': 'https://static01.nyt.com/images/2016/12/16/arts/16COLLATERAL1/16COLLATERAL1-mediumThreeByTwo210.jpg', 'width': 210, 'height': 140}</td>\n",
       "      <td>2016-12-16</td>\n",
       "      <td>2016-12-15</td>\n",
       "      <td>The movie, starring Will Smith, riffs on “A Christmas Carol” as it tells a story of a man who experiences the loss of a child.</td>\n",
       "    </tr>\n",
       "    <tr>\n",
       "      <th>3</th>\n",
       "      <td>STEPHEN HOLDEN</td>\n",
       "      <td>0</td>\n",
       "      <td>2017-11-02 04:16:39</td>\n",
       "      <td>An Eye for Beauty</td>\n",
       "      <td>Review: In ‘An Eye for Beauty,’ Gorgeous People Suffer, Too</td>\n",
       "      <td>{'type': 'article', 'url': 'http://www.nytimes.com/2016/04/15/movies/an-eye-for-beauty-review.html', 'suggested_link_text': 'Read the New York Times Review of An Eye for Beauty'}</td>\n",
       "      <td>Not Rated</td>\n",
       "      <td>{'type': 'mediumThreeByTwo210', 'src': 'https://static01.nyt.com/images/2016/04/15/arts/15EYE/15EYE-mediumThreeByTwo210.jpg', 'width': 210, 'height': 140}</td>\n",
       "      <td>None</td>\n",
       "      <td>2016-04-14</td>\n",
       "      <td>A married man succumbs to the charms of a predatory about-to-be-divorced beauty who bluntly propositions him within minutes of their meeting.</td>\n",
       "    </tr>\n",
       "  </tbody>\n",
       "</table>\n",
       "</div>"
      ],
      "text/plain": [
       "                byline  critics_pick         date_updated  \\\n",
       "0  JEANNETTE CATSOULIS             1  2018-04-22 16:44:02   \n",
       "1           A.O. SCOTT             1  2017-11-02 04:18:26   \n",
       "2       MANOHLA DARGIS             0  2017-11-02 04:18:26   \n",
       "3       STEPHEN HOLDEN             0  2017-11-02 04:16:39   \n",
       "\n",
       "          display_title  \\\n",
       "0   Beauty and the Dogs   \n",
       "1  Beauty and the Beast   \n",
       "2     Collateral Beauty   \n",
       "3     An Eye for Beauty   \n",
       "\n",
       "                                                        headline  \\\n",
       "0  Review: Seeking Justice After a Rape in ‘Beauty and the Dogs’   \n",
       "1   Review: ‘Beauty and the Beast’ Revels in Joy and Enchantment   \n",
       "2     Review: Lots of Plastic in the Face of ‘Collateral Beauty’   \n",
       "3    Review: In ‘An Eye for Beauty,’ Gorgeous People Suffer, Too   \n",
       "\n",
       "                                                                                                                                                                                            link  \\\n",
       "0         {'type': 'article', 'url': 'http://www.nytimes.com/2018/03/22/movies/beauty-and-the-dogs-review.html', 'suggested_link_text': 'Read the New York Times Review of Beauty and the Dogs'}   \n",
       "1       {'type': 'article', 'url': 'http://www.nytimes.com/2017/03/03/movies/beauty-and-the-beast-review.html', 'suggested_link_text': 'Read the New York Times Review of Beauty and the Beast'}   \n",
       "2  {'type': 'article', 'url': 'http://www.nytimes.com/2016/12/15/movies/collateral-beauty-review-will-smith.html', 'suggested_link_text': 'Read the New York Times Review of Collateral Beauty'}   \n",
       "3             {'type': 'article', 'url': 'http://www.nytimes.com/2016/04/15/movies/an-eye-for-beauty-review.html', 'suggested_link_text': 'Read the New York Times Review of An Eye for Beauty'}   \n",
       "\n",
       "  mpaa_rating  \\\n",
       "0               \n",
       "1          PG   \n",
       "2       PG-13   \n",
       "3   Not Rated   \n",
       "\n",
       "                                                                                                                                                                                      multimedia  \\\n",
       "0  {'type': 'mediumThreeByTwo210', 'src': 'https://static01.nyt.com/images/2018/03/23/arts/23beautyandthedogspix/23beautyandthedogspix-mediumThreeByTwo210-v2.jpg', 'width': 210, 'height': 140}   \n",
       "1                {'type': 'mediumThreeByTwo210', 'src': 'https://static01.nyt.com/images/2017/03/04/arts/04beauty-beast/04beauty-beast-mediumThreeByTwo210-v4.jpg', 'width': 210, 'height': 140}   \n",
       "2                     {'type': 'mediumThreeByTwo210', 'src': 'https://static01.nyt.com/images/2016/12/16/arts/16COLLATERAL1/16COLLATERAL1-mediumThreeByTwo210.jpg', 'width': 210, 'height': 140}   \n",
       "3                                     {'type': 'mediumThreeByTwo210', 'src': 'https://static01.nyt.com/images/2016/04/15/arts/15EYE/15EYE-mediumThreeByTwo210.jpg', 'width': 210, 'height': 140}   \n",
       "\n",
       "  opening_date publication_date  \\\n",
       "0         None       2018-03-22   \n",
       "1   2017-03-17       2017-03-03   \n",
       "2   2016-12-16       2016-12-15   \n",
       "3         None       2016-04-14   \n",
       "\n",
       "                                                                                                                                         summary_short  \n",
       "0  In this film inspired by a true story, the director Kaouther Ben Hania leans hard on official corruption and a bureaucracy dominated by male power.  \n",
       "1                                 A compassionate Belle and a splendid monster are the hallmarks of this live-action remake of the 1991 animated film.  \n",
       "2                       The movie, starring Will Smith, riffs on “A Christmas Carol” as it tells a story of a man who experiences the loss of a child.  \n",
       "3        A married man succumbs to the charms of a predatory about-to-be-divorced beauty who bluntly propositions him within minutes of their meeting.  "
      ]
     },
     "execution_count": 7,
     "metadata": {},
     "output_type": "execute_result"
    }
   ],
   "source": [
    "df.head(4)"
   ]
  },
  {
   "cell_type": "markdown",
   "metadata": {},
   "source": [
    "Now I will extract the url from the API. These urls are in the dictionary of the link column. To start, only the url from the first movie is extracted. Later in the notebook a function is created that extracts the url from each movie in the dataframe."
   ]
  },
  {
   "cell_type": "code",
   "execution_count": 8,
   "metadata": {},
   "outputs": [],
   "source": [
    "thisdict=df['link'][0]"
   ]
  },
  {
   "cell_type": "code",
   "execution_count": 9,
   "metadata": {},
   "outputs": [
    {
     "name": "stdout",
     "output_type": "stream",
     "text": [
      "http://www.nytimes.com/2018/03/22/movies/beauty-and-the-dogs-review.html\n"
     ]
    }
   ],
   "source": [
    "x=thisdict[\"url\"]\n",
    "print(x)"
   ]
  },
  {
   "cell_type": "markdown",
   "metadata": {},
   "source": [
    "### Make a function to search in the API"
   ]
  },
  {
   "cell_type": "markdown",
   "metadata": {},
   "source": [
    "In this section I make a function in order to make searching for titles based on keywords in the API automated. The goal is to create a function where I only need to specify the keyword to obtain a dataframe with movie titles."
   ]
  },
  {
   "cell_type": "markdown",
   "metadata": {},
   "source": [
    "I first perform a small case study in order to make sure I incorporate all the necessary information in my function. The case study returns the results of a search for 'horse' in the API."
   ]
  },
  {
   "cell_type": "code",
   "execution_count": 10,
   "metadata": {},
   "outputs": [
    {
     "data": {
      "text/html": [
       "<div>\n",
       "<style scoped>\n",
       "    .dataframe tbody tr th:only-of-type {\n",
       "        vertical-align: middle;\n",
       "    }\n",
       "\n",
       "    .dataframe tbody tr th {\n",
       "        vertical-align: top;\n",
       "    }\n",
       "\n",
       "    .dataframe thead th {\n",
       "        text-align: right;\n",
       "    }\n",
       "</style>\n",
       "<table border=\"1\" class=\"dataframe\">\n",
       "  <thead>\n",
       "    <tr style=\"text-align: right;\">\n",
       "      <th></th>\n",
       "      <th>byline</th>\n",
       "      <th>critics_pick</th>\n",
       "      <th>date_updated</th>\n",
       "      <th>display_title</th>\n",
       "      <th>headline</th>\n",
       "      <th>link</th>\n",
       "      <th>mpaa_rating</th>\n",
       "      <th>multimedia</th>\n",
       "      <th>opening_date</th>\n",
       "      <th>publication_date</th>\n",
       "      <th>summary_short</th>\n",
       "    </tr>\n",
       "  </thead>\n",
       "  <tbody>\n",
       "    <tr>\n",
       "      <th>0</th>\n",
       "      <td>TEO BUGBEE</td>\n",
       "      <td>1</td>\n",
       "      <td>2017-11-17 17:44:01</td>\n",
       "      <td>Window Horses: The Poetic Persian Epiphany of Rosie Ming</td>\n",
       "      <td>Review: ‘Window Horses’ Animates a Young Poet’s Self-Discovery</td>\n",
       "      <td>{'type': 'article', 'url': 'http://www.nytimes.com/2017/11/09/movies/window-horses-review.html', 'suggested_link_text': 'Read the New York Times Review of Window Horses: The Poetic Persian Epiphany of Rosie Ming'}</td>\n",
       "      <td></td>\n",
       "      <td>{'type': 'mediumThreeByTwo210', 'src': 'https://static01.nyt.com/images/2017/11/10/arts/10windowhorses/windowhorses1-mediumThreeByTwo210.jpg', 'width': 210, 'height': 140}</td>\n",
       "      <td>2017-11-10</td>\n",
       "      <td>2017-11-09</td>\n",
       "      <td>Ann Marie Fleming’s film explores the passions of a sheltered poet who travels to Shiraz, Iran, for a poetry festival.</td>\n",
       "    </tr>\n",
       "    <tr>\n",
       "      <th>1</th>\n",
       "      <td>JEANNETTE CATSOULIS</td>\n",
       "      <td>1</td>\n",
       "      <td>2017-11-02 04:18:24</td>\n",
       "      <td>Dark Horse</td>\n",
       "      <td>Review: In ‘Dark Horse,’ a Real-Life Steeplechase Champion Inspires a Town</td>\n",
       "      <td>{'type': 'article', 'url': 'http://www.nytimes.com/2016/05/06/movies/dark-horse-review.html', 'suggested_link_text': 'Read the New York Times Review of Dark Horse'}</td>\n",
       "      <td>PG</td>\n",
       "      <td>{'type': 'mediumThreeByTwo210', 'src': 'https://static01.nyt.com/images/2016/05/06/arts/06DARKHORSE/06DARKHORSE-mediumThreeByTwo210.jpg', 'width': 210, 'height': 140}</td>\n",
       "      <td>2016-05-06</td>\n",
       "      <td>2016-05-05</td>\n",
       "      <td>Subtitled “The Incredible True Story of Dream Alliance,” this documentary recounts the rise of a foal who restored a Welsh village’s spirits.</td>\n",
       "    </tr>\n",
       "    <tr>\n",
       "      <th>2</th>\n",
       "      <td>STEPHEN HOLDEN</td>\n",
       "      <td>1</td>\n",
       "      <td>2017-11-02 04:18:24</td>\n",
       "      <td>The Dark Horse</td>\n",
       "      <td>Review: ‘The Dark Horse’ Dramatizes the Tale of a Chess Coach</td>\n",
       "      <td>{'type': 'article', 'url': 'http://www.nytimes.com/2016/04/01/movies/the-dark-horse-review.html', 'suggested_link_text': 'Read the New York Times Review of The Dark Horse'}</td>\n",
       "      <td>R</td>\n",
       "      <td>{'type': 'mediumThreeByTwo210', 'src': 'https://static01.nyt.com/images/2016/04/01/arts/01DARKHORSE/01DARKHORSE-mediumThreeByTwo210.jpg', 'width': 210, 'height': 140}</td>\n",
       "      <td>2016-04-01</td>\n",
       "      <td>2016-03-31</td>\n",
       "      <td>“The Dark Horse,” a film inspired by a documentary, is about Gen Potini, a Maori speed-chess player who used his skill to help young players.</td>\n",
       "    </tr>\n",
       "  </tbody>\n",
       "</table>\n",
       "</div>"
      ],
      "text/plain": [
       "                byline  critics_pick         date_updated  \\\n",
       "0           TEO BUGBEE             1  2017-11-17 17:44:01   \n",
       "1  JEANNETTE CATSOULIS             1  2017-11-02 04:18:24   \n",
       "2       STEPHEN HOLDEN             1  2017-11-02 04:18:24   \n",
       "\n",
       "                                              display_title  \\\n",
       "0  Window Horses: The Poetic Persian Epiphany of Rosie Ming   \n",
       "1                                                Dark Horse   \n",
       "2                                            The Dark Horse   \n",
       "\n",
       "                                                                     headline  \\\n",
       "0              Review: ‘Window Horses’ Animates a Young Poet’s Self-Discovery   \n",
       "1  Review: In ‘Dark Horse,’ a Real-Life Steeplechase Champion Inspires a Town   \n",
       "2               Review: ‘The Dark Horse’ Dramatizes the Tale of a Chess Coach   \n",
       "\n",
       "                                                                                                                                                                                                                    link  \\\n",
       "0  {'type': 'article', 'url': 'http://www.nytimes.com/2017/11/09/movies/window-horses-review.html', 'suggested_link_text': 'Read the New York Times Review of Window Horses: The Poetic Persian Epiphany of Rosie Ming'}   \n",
       "1                                                   {'type': 'article', 'url': 'http://www.nytimes.com/2016/05/06/movies/dark-horse-review.html', 'suggested_link_text': 'Read the New York Times Review of Dark Horse'}   \n",
       "2                                           {'type': 'article', 'url': 'http://www.nytimes.com/2016/04/01/movies/the-dark-horse-review.html', 'suggested_link_text': 'Read the New York Times Review of The Dark Horse'}   \n",
       "\n",
       "  mpaa_rating  \\\n",
       "0               \n",
       "1          PG   \n",
       "2           R   \n",
       "\n",
       "                                                                                                                                                                    multimedia  \\\n",
       "0  {'type': 'mediumThreeByTwo210', 'src': 'https://static01.nyt.com/images/2017/11/10/arts/10windowhorses/windowhorses1-mediumThreeByTwo210.jpg', 'width': 210, 'height': 140}   \n",
       "1       {'type': 'mediumThreeByTwo210', 'src': 'https://static01.nyt.com/images/2016/05/06/arts/06DARKHORSE/06DARKHORSE-mediumThreeByTwo210.jpg', 'width': 210, 'height': 140}   \n",
       "2       {'type': 'mediumThreeByTwo210', 'src': 'https://static01.nyt.com/images/2016/04/01/arts/01DARKHORSE/01DARKHORSE-mediumThreeByTwo210.jpg', 'width': 210, 'height': 140}   \n",
       "\n",
       "  opening_date publication_date  \\\n",
       "0   2017-11-10       2017-11-09   \n",
       "1   2016-05-06       2016-05-05   \n",
       "2   2016-04-01       2016-03-31   \n",
       "\n",
       "                                                                                                                                   summary_short  \n",
       "0                         Ann Marie Fleming’s film explores the passions of a sheltered poet who travels to Shiraz, Iran, for a poetry festival.  \n",
       "1  Subtitled “The Incredible True Story of Dream Alliance,” this documentary recounts the rise of a foal who restored a Welsh village’s spirits.  \n",
       "2  “The Dark Horse,” a film inspired by a documentary, is about Gen Potini, a Maori speed-chess player who used his skill to help young players.  "
      ]
     },
     "execution_count": 10,
     "metadata": {},
     "output_type": "execute_result"
    }
   ],
   "source": [
    "base_url='https://api.nytimes.com/svc/movies/v2/reviews/search.json'\n",
    "parameters='?query=horse&api-key=Q7eVW6F5GkZLlP2VzTgyenJlu3Wan5Ey'\n",
    "r = requests.get(base_url + parameters)\n",
    "search_json = r.json()\n",
    "df = pd.DataFrame(search_json['results'])\n",
    "df.head(3)"
   ]
  },
  {
   "cell_type": "markdown",
   "metadata": {},
   "source": [
    "Since the case study proved my code works, I generalize it into a function."
   ]
  },
  {
   "cell_type": "code",
   "execution_count": 11,
   "metadata": {},
   "outputs": [],
   "source": [
    "def get_movie(search_term):\n",
    "    '''make calls to the nyt movies API'''\n",
    "    \n",
    "    base_url   = 'https://api.nytimes.com/svc/movies/v2/reviews/search.json'\n",
    "    parameters = {'query': search_term,\n",
    "                  'api-key' : 'Q7eVW6F5GkZLlP2VzTgyenJlu3Wan5Ey'}\n",
    "    \n",
    "    r = requests.get(base_url, params = parameters)\n",
    "    search_json = r.json()\n",
    "    new_df = pd.DataFrame(search_json['results'])\n",
    "    return new_df"
   ]
  },
  {
   "cell_type": "markdown",
   "metadata": {},
   "source": [
    "The search with the keyword 'man' demonstrates my function provides the correct results. "
   ]
  },
  {
   "cell_type": "code",
   "execution_count": 12,
   "metadata": {},
   "outputs": [
    {
     "data": {
      "text/html": [
       "<div>\n",
       "<style scoped>\n",
       "    .dataframe tbody tr th:only-of-type {\n",
       "        vertical-align: middle;\n",
       "    }\n",
       "\n",
       "    .dataframe tbody tr th {\n",
       "        vertical-align: top;\n",
       "    }\n",
       "\n",
       "    .dataframe thead th {\n",
       "        text-align: right;\n",
       "    }\n",
       "</style>\n",
       "<table border=\"1\" class=\"dataframe\">\n",
       "  <thead>\n",
       "    <tr style=\"text-align: right;\">\n",
       "      <th></th>\n",
       "      <th>byline</th>\n",
       "      <th>critics_pick</th>\n",
       "      <th>date_updated</th>\n",
       "      <th>display_title</th>\n",
       "      <th>headline</th>\n",
       "      <th>link</th>\n",
       "      <th>mpaa_rating</th>\n",
       "      <th>multimedia</th>\n",
       "      <th>opening_date</th>\n",
       "      <th>publication_date</th>\n",
       "      <th>summary_short</th>\n",
       "    </tr>\n",
       "  </thead>\n",
       "  <tbody>\n",
       "    <tr>\n",
       "      <th>18</th>\n",
       "      <td>A.O. SCOTT</td>\n",
       "      <td>0</td>\n",
       "      <td>2019-04-26 16:44:02</td>\n",
       "      <td>The Man Who Killed Don Quixote</td>\n",
       "      <td>Review: ‘The Man Who Killed Don Quixote’ Brings Him Back to Life</td>\n",
       "      <td>{'type': 'article', 'url': 'http://www.nytimes.com/2019/04/18/movies/man-who-killed-don-quixote-review.html', 'suggested_link_text': 'Read the New York Times Review of The Man Who Killed Don Quixote'}</td>\n",
       "      <td>Not Rated</td>\n",
       "      <td>{'type': 'mediumThreeByTwo210', 'src': 'https://static01.nyt.com/images/2019/04/19/arts/18manwho1/merlin_153439065_4f784f3f-bef0-44dd-89c0-3c8f7a820f27-mediumThreeByTwo210.jpg', 'width': 210, 'height': 140}</td>\n",
       "      <td>None</td>\n",
       "      <td>2019-04-18</td>\n",
       "      <td>Terry Gilliam’s long-deferred tribute to Cervantes’s knight errant finally arrives, starring Jonathan Pryce and Adam Driver.</td>\n",
       "    </tr>\n",
       "    <tr>\n",
       "      <th>19</th>\n",
       "      <td>BEN KENIGSBERG</td>\n",
       "      <td>0</td>\n",
       "      <td>2019-05-13 16:44:02</td>\n",
       "      <td>Rafiki</td>\n",
       "      <td>‘Rafiki’ Review: Falling in Love, Illegally</td>\n",
       "      <td>{'type': 'article', 'url': 'http://www.nytimes.com/2019/04/18/movies/rafiki-review.html', 'suggested_link_text': 'Read the New York Times Review of Rafiki'}</td>\n",
       "      <td></td>\n",
       "      <td>{'type': 'mediumThreeByTwo210', 'src': 'https://static01.nyt.com/images/2019/04/19/arts/18rafiki/18rafiki-mediumThreeByTwo210.jpg', 'width': 210, 'height': 140}</td>\n",
       "      <td>2019-04-19</td>\n",
       "      <td>2019-04-18</td>\n",
       "      <td>The story of a romance between two Kenyan women was shown at Cannes after being banned in Kenya.</td>\n",
       "    </tr>\n",
       "  </tbody>\n",
       "</table>\n",
       "</div>"
      ],
      "text/plain": [
       "            byline  critics_pick         date_updated  \\\n",
       "18      A.O. SCOTT             0  2019-04-26 16:44:02   \n",
       "19  BEN KENIGSBERG             0  2019-05-13 16:44:02   \n",
       "\n",
       "                     display_title  \\\n",
       "18  The Man Who Killed Don Quixote   \n",
       "19                          Rafiki   \n",
       "\n",
       "                                                            headline  \\\n",
       "18  Review: ‘The Man Who Killed Don Quixote’ Brings Him Back to Life   \n",
       "19                       ‘Rafiki’ Review: Falling in Love, Illegally   \n",
       "\n",
       "                                                                                                                                                                                                        link  \\\n",
       "18  {'type': 'article', 'url': 'http://www.nytimes.com/2019/04/18/movies/man-who-killed-don-quixote-review.html', 'suggested_link_text': 'Read the New York Times Review of The Man Who Killed Don Quixote'}   \n",
       "19                                              {'type': 'article', 'url': 'http://www.nytimes.com/2019/04/18/movies/rafiki-review.html', 'suggested_link_text': 'Read the New York Times Review of Rafiki'}   \n",
       "\n",
       "   mpaa_rating  \\\n",
       "18   Not Rated   \n",
       "19               \n",
       "\n",
       "                                                                                                                                                                                                        multimedia  \\\n",
       "18  {'type': 'mediumThreeByTwo210', 'src': 'https://static01.nyt.com/images/2019/04/19/arts/18manwho1/merlin_153439065_4f784f3f-bef0-44dd-89c0-3c8f7a820f27-mediumThreeByTwo210.jpg', 'width': 210, 'height': 140}   \n",
       "19                                                {'type': 'mediumThreeByTwo210', 'src': 'https://static01.nyt.com/images/2019/04/19/arts/18rafiki/18rafiki-mediumThreeByTwo210.jpg', 'width': 210, 'height': 140}   \n",
       "\n",
       "   opening_date publication_date  \\\n",
       "18         None       2019-04-18   \n",
       "19   2019-04-19       2019-04-18   \n",
       "\n",
       "                                                                                                                   summary_short  \n",
       "18  Terry Gilliam’s long-deferred tribute to Cervantes’s knight errant finally arrives, starring Jonathan Pryce and Adam Driver.  \n",
       "19                              The story of a romance between two Kenyan women was shown at Cannes after being banned in Kenya.  "
      ]
     },
     "execution_count": 12,
     "metadata": {},
     "output_type": "execute_result"
    }
   ],
   "source": [
    "get_movie('man').tail(2)"
   ]
  },
  {
   "cell_type": "markdown",
   "metadata": {},
   "source": [
    "The call returns the results correctly. Still, after conducting a few searches I discovered my dataframe can contain a maximum of 19 movies. This is probably because my API only returns the first page of results."
   ]
  },
  {
   "cell_type": "markdown",
   "metadata": {},
   "source": [
    "On the NYT developer site I discovered that there is a so called 'offset' parameter. This offset parameter paginates through results. More specifically, it sets the starting point of my results. The site also states it must be a multiple of 20. I redefine my function to incorporate this offset parameter."
   ]
  },
  {
   "cell_type": "code",
   "execution_count": 13,
   "metadata": {},
   "outputs": [],
   "source": [
    "def get_movie(search_term,start):\n",
    "    '''make calls to the nyt movies API'''\n",
    "    \n",
    "    base_url   = 'https://api.nytimes.com/svc/movies/v2/reviews/search.json'\n",
    "    parameters = {'query': search_term,\n",
    "                  'offset':start,\n",
    "                  'api-key' : 'Q7eVW6F5GkZLlP2VzTgyenJlu3Wan5Ey'}\n",
    "    \n",
    "    r = requests.get(base_url, params = parameters)\n",
    "    search_json = r.json()\n",
    "    new_df = pd.DataFrame(search_json['results'])\n",
    "    return new_df"
   ]
  },
  {
   "cell_type": "markdown",
   "metadata": {},
   "source": [
    "Now I ask the API to return result 60 until result 79 of the call for 'man'. I display the last three results of the call. Notice that the total number of results equals 19. "
   ]
  },
  {
   "cell_type": "code",
   "execution_count": 14,
   "metadata": {
    "scrolled": true
   },
   "outputs": [
    {
     "data": {
      "text/html": [
       "<div>\n",
       "<style scoped>\n",
       "    .dataframe tbody tr th:only-of-type {\n",
       "        vertical-align: middle;\n",
       "    }\n",
       "\n",
       "    .dataframe tbody tr th {\n",
       "        vertical-align: top;\n",
       "    }\n",
       "\n",
       "    .dataframe thead th {\n",
       "        text-align: right;\n",
       "    }\n",
       "</style>\n",
       "<table border=\"1\" class=\"dataframe\">\n",
       "  <thead>\n",
       "    <tr style=\"text-align: right;\">\n",
       "      <th></th>\n",
       "      <th>byline</th>\n",
       "      <th>critics_pick</th>\n",
       "      <th>date_updated</th>\n",
       "      <th>display_title</th>\n",
       "      <th>headline</th>\n",
       "      <th>link</th>\n",
       "      <th>mpaa_rating</th>\n",
       "      <th>multimedia</th>\n",
       "      <th>opening_date</th>\n",
       "      <th>publication_date</th>\n",
       "      <th>summary_short</th>\n",
       "    </tr>\n",
       "  </thead>\n",
       "  <tbody>\n",
       "    <tr>\n",
       "      <th>17</th>\n",
       "      <td>TEO BUGBEE</td>\n",
       "      <td>0</td>\n",
       "      <td>2018-09-28 16:44:01</td>\n",
       "      <td>A Paris Education</td>\n",
       "      <td>Review: University Spoils a Cinephile in ‘A Paris Education’</td>\n",
       "      <td>{'type': 'article', 'url': 'http://www.nytimes.com/2018/08/30/movies/a-paris-education-review.html', 'suggested_link_text': 'Read the New York Times Review of A Paris Education'}</td>\n",
       "      <td></td>\n",
       "      <td>{'type': 'mediumThreeByTwo210', 'src': 'https://static01.nyt.com/images/2018/08/31/arts/31pariseducation1/pariseducation1-mediumThreeByTwo210-v2.jpg', 'width': 210, 'height': 140}</td>\n",
       "      <td>2018-08-31</td>\n",
       "      <td>2018-08-30</td>\n",
       "      <td>A student befriends artists and fellow film lovers in this drama from Jean Paul Civeyrac.</td>\n",
       "    </tr>\n",
       "    <tr>\n",
       "      <th>18</th>\n",
       "      <td>GLENN KENNY</td>\n",
       "      <td>1</td>\n",
       "      <td>2018-08-31 16:44:02</td>\n",
       "      <td>Maison du bonheur</td>\n",
       "      <td>Review: ‘Maison du Bonheur,’ a Beguiling Portrait of a Woman in Paris</td>\n",
       "      <td>{'type': 'article', 'url': 'http://www.nytimes.com/2018/08/23/movies/maison-du-bonheur-review.html', 'suggested_link_text': 'Read the New York Times Review of Maison du bonheur'}</td>\n",
       "      <td></td>\n",
       "      <td>{'type': 'mediumThreeByTwo210', 'src': 'https://static01.nyt.com/images/2018/08/24/arts/24maison/merlin_142506297_1b35d654-cee7-4b2b-bb46-4a695be42887-mediumThreeByTwo210.jpg', 'width': 210, 'height': 140}</td>\n",
       "      <td>None</td>\n",
       "      <td>2018-08-23</td>\n",
       "      <td>Sofia Bohdanowicz’s documentary captures a way of life through the observations of a delightful woman who has occupied the same apartment for 50 years.</td>\n",
       "    </tr>\n",
       "    <tr>\n",
       "      <th>19</th>\n",
       "      <td>BEN KENIGSBERG</td>\n",
       "      <td>0</td>\n",
       "      <td>2018-08-31 16:44:02</td>\n",
       "      <td>Hot to Trot</td>\n",
       "      <td>Review: In ‘Hot to Trot,’ a Look at Same-Sex Ballroom Dancing</td>\n",
       "      <td>{'type': 'article', 'url': 'http://www.nytimes.com/2018/08/23/movies/hot-to-trot-review-same-sex-ballroom-dancing.html', 'suggested_link_text': 'Read the New York Times Review of Hot to Trot'}</td>\n",
       "      <td></td>\n",
       "      <td>{'type': 'mediumThreeByTwo210', 'src': 'https://static01.nyt.com/images/2018/08/24/arts/24hottotrot/24hottotrot-mediumThreeByTwo210.jpg', 'width': 210, 'height': 140}</td>\n",
       "      <td>2018-08-24</td>\n",
       "      <td>2018-08-23</td>\n",
       "      <td>The documentary follows the format that was so successful for the spelling-bee film “Spellbound,” but it doesn’t have the same results.</td>\n",
       "    </tr>\n",
       "  </tbody>\n",
       "</table>\n",
       "</div>"
      ],
      "text/plain": [
       "            byline  critics_pick         date_updated      display_title  \\\n",
       "17      TEO BUGBEE             0  2018-09-28 16:44:01  A Paris Education   \n",
       "18     GLENN KENNY             1  2018-08-31 16:44:02  Maison du bonheur   \n",
       "19  BEN KENIGSBERG             0  2018-08-31 16:44:02        Hot to Trot   \n",
       "\n",
       "                                                                 headline  \\\n",
       "17           Review: University Spoils a Cinephile in ‘A Paris Education’   \n",
       "18  Review: ‘Maison du Bonheur,’ a Beguiling Portrait of a Woman in Paris   \n",
       "19          Review: In ‘Hot to Trot,’ a Look at Same-Sex Ballroom Dancing   \n",
       "\n",
       "                                                                                                                                                                                                link  \\\n",
       "17                {'type': 'article', 'url': 'http://www.nytimes.com/2018/08/30/movies/a-paris-education-review.html', 'suggested_link_text': 'Read the New York Times Review of A Paris Education'}   \n",
       "18                {'type': 'article', 'url': 'http://www.nytimes.com/2018/08/23/movies/maison-du-bonheur-review.html', 'suggested_link_text': 'Read the New York Times Review of Maison du bonheur'}   \n",
       "19  {'type': 'article', 'url': 'http://www.nytimes.com/2018/08/23/movies/hot-to-trot-review-same-sex-ballroom-dancing.html', 'suggested_link_text': 'Read the New York Times Review of Hot to Trot'}   \n",
       "\n",
       "   mpaa_rating  \\\n",
       "17               \n",
       "18               \n",
       "19               \n",
       "\n",
       "                                                                                                                                                                                                       multimedia  \\\n",
       "17                            {'type': 'mediumThreeByTwo210', 'src': 'https://static01.nyt.com/images/2018/08/31/arts/31pariseducation1/pariseducation1-mediumThreeByTwo210-v2.jpg', 'width': 210, 'height': 140}   \n",
       "18  {'type': 'mediumThreeByTwo210', 'src': 'https://static01.nyt.com/images/2018/08/24/arts/24maison/merlin_142506297_1b35d654-cee7-4b2b-bb46-4a695be42887-mediumThreeByTwo210.jpg', 'width': 210, 'height': 140}   \n",
       "19                                         {'type': 'mediumThreeByTwo210', 'src': 'https://static01.nyt.com/images/2018/08/24/arts/24hottotrot/24hottotrot-mediumThreeByTwo210.jpg', 'width': 210, 'height': 140}   \n",
       "\n",
       "   opening_date publication_date  \\\n",
       "17   2018-08-31       2018-08-30   \n",
       "18         None       2018-08-23   \n",
       "19   2018-08-24       2018-08-23   \n",
       "\n",
       "                                                                                                                                              summary_short  \n",
       "17                                                                A student befriends artists and fellow film lovers in this drama from Jean Paul Civeyrac.  \n",
       "18  Sofia Bohdanowicz’s documentary captures a way of life through the observations of a delightful woman who has occupied the same apartment for 50 years.  \n",
       "19                  The documentary follows the format that was so successful for the spelling-bee film “Spellbound,” but it doesn’t have the same results.  "
      ]
     },
     "execution_count": 14,
     "metadata": {},
     "output_type": "execute_result"
    }
   ],
   "source": [
    "get_movie('man',60).tail(3)"
   ]
  },
  {
   "cell_type": "markdown",
   "metadata": {},
   "source": [
    "In order to have a dataframe with more than 19 movies, I set up an empty dataframe and append the items from each page of results. As a case study, I create a large dataframe that incorporates up to 80 movies with 'crime' in the title."
   ]
  },
  {
   "cell_type": "code",
   "execution_count": 15,
   "metadata": {},
   "outputs": [
    {
     "name": "stdout",
     "output_type": "stream",
     "text": [
      "<class 'pandas.core.frame.DataFrame'>\n",
      "RangeIndex: 54 entries, 0 to 53\n",
      "Data columns (total 11 columns):\n",
      "byline              54 non-null object\n",
      "critics_pick        54 non-null int64\n",
      "date_updated        54 non-null object\n",
      "display_title       54 non-null object\n",
      "headline            54 non-null object\n",
      "link                54 non-null object\n",
      "mpaa_rating         54 non-null object\n",
      "multimedia          7 non-null object\n",
      "opening_date        40 non-null object\n",
      "publication_date    54 non-null object\n",
      "summary_short       54 non-null object\n",
      "dtypes: int64(1), object(10)\n",
      "memory usage: 4.7+ KB\n"
     ]
    }
   ],
   "source": [
    "dfs = []\n",
    "pm=[0,20,40,60]\n",
    "for x in pm:\n",
    "    new_df = get_movie('crime',x)    \n",
    "    dfs.append(new_df) \n",
    "    sleep(1)\n",
    "      \n",
    "df = pd.concat(dfs, ignore_index = True)\n",
    "df.info()"
   ]
  },
  {
   "cell_type": "markdown",
   "metadata": {},
   "source": [
    "I display the last three results of my dataframe, which demonstrates my API returns 54 movies."
   ]
  },
  {
   "cell_type": "code",
   "execution_count": 16,
   "metadata": {},
   "outputs": [
    {
     "data": {
      "text/html": [
       "<div>\n",
       "<style scoped>\n",
       "    .dataframe tbody tr th:only-of-type {\n",
       "        vertical-align: middle;\n",
       "    }\n",
       "\n",
       "    .dataframe tbody tr th {\n",
       "        vertical-align: top;\n",
       "    }\n",
       "\n",
       "    .dataframe thead th {\n",
       "        text-align: right;\n",
       "    }\n",
       "</style>\n",
       "<table border=\"1\" class=\"dataframe\">\n",
       "  <thead>\n",
       "    <tr style=\"text-align: right;\">\n",
       "      <th></th>\n",
       "      <th>byline</th>\n",
       "      <th>critics_pick</th>\n",
       "      <th>date_updated</th>\n",
       "      <th>display_title</th>\n",
       "      <th>headline</th>\n",
       "      <th>link</th>\n",
       "      <th>mpaa_rating</th>\n",
       "      <th>multimedia</th>\n",
       "      <th>opening_date</th>\n",
       "      <th>publication_date</th>\n",
       "      <th>summary_short</th>\n",
       "    </tr>\n",
       "  </thead>\n",
       "  <tbody>\n",
       "    <tr>\n",
       "      <th>51</th>\n",
       "      <td>B.R.C.</td>\n",
       "      <td>0</td>\n",
       "      <td>2017-11-02 04:16:54</td>\n",
       "      <td>Journal of a Crime</td>\n",
       "      <td>Journal of a Crime</td>\n",
       "      <td>{'type': 'article', 'url': 'http://www.nytimes.com/1934/04/28/archives/murder-backstage.html', 'suggested_link_text': 'Read the New York Times Review of Journal of a Crime'}</td>\n",
       "      <td></td>\n",
       "      <td>None</td>\n",
       "      <td>1934-03-10</td>\n",
       "      <td>1934-04-28</td>\n",
       "      <td>Woman kills husband's lover then loses memory. Chatterton always worth watching.</td>\n",
       "    </tr>\n",
       "    <tr>\n",
       "      <th>52</th>\n",
       "      <td>MORDAUNT HALL.</td>\n",
       "      <td>0</td>\n",
       "      <td>2017-11-02 04:16:52</td>\n",
       "      <td>The Crime of the Century</td>\n",
       "      <td>Crime of the Century, The</td>\n",
       "      <td>{'type': 'article', 'url': 'http://www.nytimes.com/1933/03/13/archives/nancy-carroll-cary-grant-and-john-halliday-in-a-pictorial-story.html', 'suggested_link_text': 'Read the New York Times Review of The Crime of the Century'}</td>\n",
       "      <td></td>\n",
       "      <td>None</td>\n",
       "      <td>1933-02-17</td>\n",
       "      <td>1933-03-13</td>\n",
       "      <td>Not by a long shot.</td>\n",
       "    </tr>\n",
       "    <tr>\n",
       "      <th>53</th>\n",
       "      <td>MORDAUNT HALL.</td>\n",
       "      <td>0</td>\n",
       "      <td>2017-11-02 04:16:46</td>\n",
       "      <td>Splendid Crime</td>\n",
       "      <td>Splendid Crime, The</td>\n",
       "      <td>{'type': 'article', 'url': 'http://www.nytimes.com/1925/12/17/archives/the-screen-jennys-last-burglary.html', 'suggested_link_text': 'Read the New York Times Review of Splendid Crime'}</td>\n",
       "      <td></td>\n",
       "      <td>None</td>\n",
       "      <td>1926-01-04</td>\n",
       "      <td>1925-12-17</td>\n",
       "      <td></td>\n",
       "    </tr>\n",
       "  </tbody>\n",
       "</table>\n",
       "</div>"
      ],
      "text/plain": [
       "            byline  critics_pick         date_updated  \\\n",
       "51          B.R.C.             0  2017-11-02 04:16:54   \n",
       "52  MORDAUNT HALL.             0  2017-11-02 04:16:52   \n",
       "53  MORDAUNT HALL.             0  2017-11-02 04:16:46   \n",
       "\n",
       "               display_title                   headline  \\\n",
       "51        Journal of a Crime         Journal of a Crime   \n",
       "52  The Crime of the Century  Crime of the Century, The   \n",
       "53            Splendid Crime        Splendid Crime, The   \n",
       "\n",
       "                                                                                                                                                                                                                                  link  \\\n",
       "51                                                       {'type': 'article', 'url': 'http://www.nytimes.com/1934/04/28/archives/murder-backstage.html', 'suggested_link_text': 'Read the New York Times Review of Journal of a Crime'}   \n",
       "52  {'type': 'article', 'url': 'http://www.nytimes.com/1933/03/13/archives/nancy-carroll-cary-grant-and-john-halliday-in-a-pictorial-story.html', 'suggested_link_text': 'Read the New York Times Review of The Crime of the Century'}   \n",
       "53                                            {'type': 'article', 'url': 'http://www.nytimes.com/1925/12/17/archives/the-screen-jennys-last-burglary.html', 'suggested_link_text': 'Read the New York Times Review of Splendid Crime'}   \n",
       "\n",
       "   mpaa_rating multimedia opening_date publication_date  \\\n",
       "51                   None   1934-03-10       1934-04-28   \n",
       "52                   None   1933-02-17       1933-03-13   \n",
       "53                   None   1926-01-04       1925-12-17   \n",
       "\n",
       "                                                                       summary_short  \n",
       "51  Woman kills husband's lover then loses memory. Chatterton always worth watching.  \n",
       "52                                                               Not by a long shot.  \n",
       "53                                                                                    "
      ]
     },
     "execution_count": 16,
     "metadata": {},
     "output_type": "execute_result"
    }
   ],
   "source": [
    "df.tail(3)"
   ]
  },
  {
   "cell_type": "markdown",
   "metadata": {},
   "source": [
    "I incorporate this in the function, so my dataframe can contain 80 movies instead of 19. Sadly there is a limit to the number of movies you can call in a day (and in a minute). Hence, increasing this number, even with the sleep function, is not a good idea. Still, I can easily extend the offset parameter in the function. I will do this later in the notebook. "
   ]
  },
  {
   "cell_type": "code",
   "execution_count": 17,
   "metadata": {},
   "outputs": [],
   "source": [
    "def get_80movies(keyword,order):\n",
    "    dfs = []\n",
    "    pm=[0,20,40,60]\n",
    "    for x in pm:\n",
    "        new_df = get_movie(keyword,x,order)    \n",
    "        dfs.append(new_df) \n",
    "        sleep(1)\n",
    "  \n",
    "    df = pd.concat(dfs, ignore_index = True)\n",
    "    return df"
   ]
  },
  {
   "cell_type": "markdown",
   "metadata": {},
   "source": [
    "In addition, I will add the order parameter to my function next to the offset parameter, so I can sort my dataframe by the opening date (by-opening-date), publication date (by-publication-date) or title (by-title)."
   ]
  },
  {
   "cell_type": "code",
   "execution_count": 18,
   "metadata": {},
   "outputs": [],
   "source": [
    "def get_movie(search_term,start,order):\n",
    "    '''make calls to the nyt movies API'''\n",
    "    \n",
    "    base_url   = 'https://api.nytimes.com/svc/movies/v2/reviews/search.json'\n",
    "    parameters = {'query': search_term,\n",
    "                  'offset':start,\n",
    "                  'order':order,\n",
    "                  'api-key' : 'Q7eVW6F5GkZLlP2VzTgyenJlu3Wan5Ey'}\n",
    "    \n",
    "    r = requests.get(base_url, params = parameters)\n",
    "    search_json = r.json()\n",
    "    new_df = pd.DataFrame(search_json['results'])\n",
    "    return new_df"
   ]
  },
  {
   "cell_type": "markdown",
   "metadata": {},
   "source": [
    "I now test my function with the 'woman' keyword sorted by title. The resulting last three movies demonstrate that the function works perfectly and indeed returns 80 movies instead of 19."
   ]
  },
  {
   "cell_type": "code",
   "execution_count": 21,
   "metadata": {},
   "outputs": [
    {
     "data": {
      "text/html": [
       "<div>\n",
       "<style scoped>\n",
       "    .dataframe tbody tr th:only-of-type {\n",
       "        vertical-align: middle;\n",
       "    }\n",
       "\n",
       "    .dataframe tbody tr th {\n",
       "        vertical-align: top;\n",
       "    }\n",
       "\n",
       "    .dataframe thead th {\n",
       "        text-align: right;\n",
       "    }\n",
       "</style>\n",
       "<table border=\"1\" class=\"dataframe\">\n",
       "  <thead>\n",
       "    <tr style=\"text-align: right;\">\n",
       "      <th></th>\n",
       "      <th>byline</th>\n",
       "      <th>critics_pick</th>\n",
       "      <th>date_updated</th>\n",
       "      <th>display_title</th>\n",
       "      <th>headline</th>\n",
       "      <th>link</th>\n",
       "      <th>mpaa_rating</th>\n",
       "      <th>multimedia</th>\n",
       "      <th>opening_date</th>\n",
       "      <th>publication_date</th>\n",
       "      <th>summary_short</th>\n",
       "    </tr>\n",
       "  </thead>\n",
       "  <tbody>\n",
       "    <tr>\n",
       "      <th>77</th>\n",
       "      <td>JANET MASLIN</td>\n",
       "      <td>0</td>\n",
       "      <td>2017-11-02 04:17:37</td>\n",
       "      <td>A Woman or Two</td>\n",
       "      <td>ONE WOMAN OR TWO (MOVIE)</td>\n",
       "      <td>{'type': 'article', 'url': 'http://www.nytimes.com/1987/02/06/movies/film-gerard-deparkieu-in-one-woman-or-two.html', 'suggested_link_text': 'Read the New York Times Review of A Woman or Two'}</td>\n",
       "      <td>PG-13</td>\n",
       "      <td>None</td>\n",
       "      <td>1987-02-20</td>\n",
       "      <td>1987-02-06</td>\n",
       "      <td>One's enough here. Bumptious dip into Hepburn-Grant ``Bringing Up Baby'' territory.</td>\n",
       "    </tr>\n",
       "    <tr>\n",
       "      <th>78</th>\n",
       "      <td>A.H. WEILER.</td>\n",
       "      <td>0</td>\n",
       "      <td>2017-11-02 04:17:22</td>\n",
       "      <td>The Hole</td>\n",
       "      <td>Onibaba (Movie)</td>\n",
       "      <td>{'type': 'article', 'url': 'http://www.nytimes.com/1965/02/10/archives/onibaba-at-toho.html', 'suggested_link_text': 'Read the New York Times Review of The Hole'}</td>\n",
       "      <td>Not Rated</td>\n",
       "      <td>None</td>\n",
       "      <td>1965-02-04</td>\n",
       "      <td>1965-02-10</td>\n",
       "      <td>Women in feudal Japan murder soldiers to survive. Stark, brooding and sometimes shocking.</td>\n",
       "    </tr>\n",
       "    <tr>\n",
       "      <th>79</th>\n",
       "      <td>ANDRE SENNWALD.</td>\n",
       "      <td>0</td>\n",
       "      <td>2017-11-02 04:16:55</td>\n",
       "      <td>Outcast Lady</td>\n",
       "      <td>Outcast Lady</td>\n",
       "      <td>{'type': 'article', 'url': 'http://www.nytimes.com/1934/11/03/archives/a-new-edition-of-the-green-hat-at-the-capitol-6day-bike-rider-at.html', 'suggested_link_text': 'Read the New York Times Review of Outcast Lady'}</td>\n",
       "      <td></td>\n",
       "      <td>None</td>\n",
       "      <td>1934-09-28</td>\n",
       "      <td>1934-11-03</td>\n",
       "      <td>Middling version of Michael Arlen's ``Green Hat.'' But Bennett shines as doomed socialite Irish March. Good girl.</td>\n",
       "    </tr>\n",
       "  </tbody>\n",
       "</table>\n",
       "</div>"
      ],
      "text/plain": [
       "             byline  critics_pick         date_updated   display_title  \\\n",
       "77     JANET MASLIN             0  2017-11-02 04:17:37  A Woman or Two   \n",
       "78     A.H. WEILER.             0  2017-11-02 04:17:22        The Hole   \n",
       "79  ANDRE SENNWALD.             0  2017-11-02 04:16:55    Outcast Lady   \n",
       "\n",
       "                    headline  \\\n",
       "77  ONE WOMAN OR TWO (MOVIE)   \n",
       "78           Onibaba (Movie)   \n",
       "79              Outcast Lady   \n",
       "\n",
       "                                                                                                                                                                                                                       link  \\\n",
       "77                         {'type': 'article', 'url': 'http://www.nytimes.com/1987/02/06/movies/film-gerard-deparkieu-in-one-woman-or-two.html', 'suggested_link_text': 'Read the New York Times Review of A Woman or Two'}   \n",
       "78                                                       {'type': 'article', 'url': 'http://www.nytimes.com/1965/02/10/archives/onibaba-at-toho.html', 'suggested_link_text': 'Read the New York Times Review of The Hole'}   \n",
       "79  {'type': 'article', 'url': 'http://www.nytimes.com/1934/11/03/archives/a-new-edition-of-the-green-hat-at-the-capitol-6day-bike-rider-at.html', 'suggested_link_text': 'Read the New York Times Review of Outcast Lady'}   \n",
       "\n",
       "   mpaa_rating multimedia opening_date publication_date  \\\n",
       "77       PG-13       None   1987-02-20       1987-02-06   \n",
       "78   Not Rated       None   1965-02-04       1965-02-10   \n",
       "79                   None   1934-09-28       1934-11-03   \n",
       "\n",
       "                                                                                                        summary_short  \n",
       "77                                One's enough here. Bumptious dip into Hepburn-Grant ``Bringing Up Baby'' territory.  \n",
       "78                          Women in feudal Japan murder soldiers to survive. Stark, brooding and sometimes shocking.  \n",
       "79  Middling version of Michael Arlen's ``Green Hat.'' But Bennett shines as doomed socialite Irish March. Good girl.  "
      ]
     },
     "execution_count": 21,
     "metadata": {},
     "output_type": "execute_result"
    }
   ],
   "source": [
    "get_80movies('woman','by-title').tail(3)"
   ]
  },
  {
   "cell_type": "markdown",
   "metadata": {},
   "source": [
    "## PART 2: SCRAPE A MOVIE REVIEWS PAGE"
   ]
  },
  {
   "cell_type": "markdown",
   "metadata": {},
   "source": [
    "The API does not provide the text from the reviews. Therefore, the movie review pages need to be scraped. I first scrape the page of a review as a case study and then create a function. This function only needs the url to automatically scrape the webpage. A small issue is that there is a difference between the code of articles before and after 1996. In 1996 the reviews became digital. As a consequence, I create two different functions and incorporate them into one single function."
   ]
  },
  {
   "cell_type": "markdown",
   "metadata": {},
   "source": [
    "### Case study of the articles after 1996"
   ]
  },
  {
   "cell_type": "markdown",
   "metadata": {},
   "source": [
    "I call the HTMLSession function and specify the url."
   ]
  },
  {
   "cell_type": "code",
   "execution_count": 22,
   "metadata": {},
   "outputs": [],
   "source": [
    "session = HTMLSession()"
   ]
  },
  {
   "cell_type": "code",
   "execution_count": 23,
   "metadata": {},
   "outputs": [],
   "source": [
    "url = 'https://www.nytimes.com/2019/05/02/movies/long-shot-review.html?rref=collection%2Fcollection%2Fmovie-guide&action=click&contentCollection=undefined&region=stream&module=stream_unit&version=latest-stories&contentPlacement=1&pgtype=collection'\n",
    "r = session.get(url)"
   ]
  },
  {
   "cell_type": "markdown",
   "metadata": {},
   "source": [
    "I parse my html code. "
   ]
  },
  {
   "cell_type": "code",
   "execution_count": 24,
   "metadata": {},
   "outputs": [],
   "source": [
    "parsed_html = r.html"
   ]
  },
  {
   "cell_type": "markdown",
   "metadata": {},
   "source": [
    "The title can be extracted easily by using the find function and specying to display the text."
   ]
  },
  {
   "cell_type": "code",
   "execution_count": 25,
   "metadata": {},
   "outputs": [
    {
     "data": {
      "text/plain": [
       "'‘Long Shot’ Review: Charlize Theron and Seth Rogen Give Good Heart - The New York Times'"
      ]
     },
     "execution_count": 25,
     "metadata": {},
     "output_type": "execute_result"
    }
   ],
   "source": [
    "parsed_html.find('title')[0].text"
   ]
  },
  {
   "cell_type": "markdown",
   "metadata": {},
   "source": [
    "The text of an article is all over the html code. Therefore I create a for-loop that prints all the item text from the class 'meteredContent'."
   ]
  },
  {
   "cell_type": "code",
   "execution_count": 26,
   "metadata": {
    "scrolled": true
   },
   "outputs": [
    {
     "name": "stdout",
     "output_type": "stream",
     "text": [
      "“Long Shot” isn’t going to save the romantic comedy, but it’s an adrenaline shot of pure pleasure to the genre’s failing heart. The outline is familiar: Two people meet, retreat and then circle each other, all while talking and talking. The romantic comedy turns on people who fit together — in bed, on the dance floor — but also talk to each other, exchanging words that stop flowing and faltering only with a culminating kiss and teasing fade-out. The difference here is that unlike a lot of romances, the woman retains her power and identity, and that’s how the movie likes it.\n",
      "In “Long Shot,” Charlotte Field (Charlize Theron), the secretary of state of the United States, and Fred Flarsky (Seth Rogen), a struggling journalist, talk a lot. They connect while attending a charity event — Boyz II Men is crooning onstage — spotting each other across a crowded room. It’s a classic meet cute, in the parlance of the romantic comedy, but with a twist. Charlotte used to babysit Fred (she’s a few years older), a fact that still looms large in his memory. They haven’t seen each other since, but when they meet again they quickly spark, lighting a long fuse that winds through the story as nostalgia turns into something sweeter and then heavier.\n",
      "It’s preposterous: She’s a giant, a goddess and he’s … Seth Rogen. It doesn’t bode well that the movie initially seems more interested in Fred than in Charlotte, an apparent imbalance that suggests this will be another weak chuckle-fest in which the female lead is a convenience or decoration, on hand mainly to vouch for her guy’s heterosexuality. The opener, though — with Fred undercover in a roomful of neo-Nazis — proves tactical. It sets a strangely uneasy mood for a comedy, one that’s funny ha-ha but also unsettling. More to the story’s point, it also places Fred in the most toxic of man caves imaginable: a homosocial world of booze-chugging, chest-thumping, sieg-heiling bros.\n",
      "Image\n",
      "The journalist and Madam Secretary.CreditMurray Close/Lionsgate\n",
      "Of course Fred escapes — taunting the enemy, he briefly turns into a self-proclaimed Jewish superhero — and his adventure is folded into a subplot. It’s a shrewd introduction, one that establishes Fred’s ethical principles and willingness to take risks; it also gives him an early, crucial triumph. Just as important, it offers a semi-comic glimpse at a culture that fetishizes manliness and devalues women. When Fred flees, he breaks away from baddies but also from the ultimate in masculinity cults. It’s in keeping with a character who may have a best dude on speed dial (the amusing O’Shea Jackson Jr.) yet doesn’t suffer from the usual movie male maladies, including fear of women.\n",
      "Charlotte soon enters, effortlessly dominating every scene and room while juggling and suffering assorted fools, including the president of the United States (Bob Odenkirk in peerless form). Theron, a natural screen presence who has developed into an undeniable one, is wonderful in “Long Shot.” She’s a fascinating performer with a watchfulness that can make her seem detached. She seems supremely and confidently alone onscreen, which in moments can create an internal tension with her physical superfluidity, her outward, inviting flow. It’s an ideal combination for this character who never breaks stride as she agilely evades obstacles, most of which are men (Andy Serkis, Alexander Skarsgard).\n",
      "“Long Shot” humorously skitters over these and other hurdles, including the imperative that powerful single women must have men by their side, mostly to make everyone feel comfortable with all that female power. That’s a tricky idea for any romantic comedy to take on, one that “Long Shot” doesn’t solve but instead slides over after Charlotte hires Fred as a speechwriter. Much of what happens isn’t surprising, but Dan Sterling and Liz Hannah’s script is consistently, genially funny, filled with patter and nonsense, and spiked with sincerity and a few gross-out flourishes. And while the director, Jonathan Levine, doesn’t do much visually, he pulls off the occasional, well-timed sight gags and often puts Charlotte and Fred in the same shot — they even share the frame — rather than loading up on the usual TV-friendly close-ups of single heads.\n",
      "Movies have long segregated men and women by genre, but at some point we seemed to enter a new age of his-or-her cinema. Straight men and women went their separate, generally unequal ways and stopped talking, really talking, to each other in movies. Men retreated into buddy pictures à la Butch and Sundance or swooned into bromances; for their part, women prepped for weddings that felt like battles or indulged in a hangover-inducing hurrah. The romantic comedies in which men and women hook up have often been excruciating (“The Ugly Truth,” “The Proposal”), fueled by sexist stereotypes and gender policing that suggested women’s lib had given Hollywood a permanent headache.\n",
      "Yet we just can’t quit romantic comedy, even if contemporary American movies as a whole are more comfortable making war than peace, much less love. The reasons are cultural, social and industrial, at once obvious and obscure. One problem is the current business model in which big studios pour tremendous resources into globally salable male-driven blockbusters. The other problem is the industry’s deep-seated, long-maintained fear of female power. In a business long defined by aesthetic and economic conservatism, and that has a bad habit of selling the same stories, women — including those who are sexually desirable, desiring and sovereign — remain a puzzle and a threat.\n",
      "It’s no wonder that after decades of putting women in rigidly circumscribed roles the industry has had a tough time figuring out what to do with them. If things have started to shift it’s partly because heroines like Katniss Everdeen and creators like Amy Schumer are helping redefine the female lead. Like Mindy Kaling and other funny women, Schumer is doing it with laughs and stumbles, but also with an earnestness that affirms something real is at stake: love, hearts and maybe, possibly, a gender-fluid happily ever after. “Long Shot” mostly just toys with some of these ideas; it’s awfully straight, in all senses. But it doesn’t just put a woman on top, it also leaves her there, blissfully.\n"
     ]
    }
   ],
   "source": [
    "for item in parsed_html.find('.meteredContent'):\n",
    "    print(item.text)"
   ]
  },
  {
   "cell_type": "markdown",
   "metadata": {},
   "source": [
    "I create a new object that contains all the review text instead of printing seperate blocks of text behind eachother. This is necessary for the sentiment analysis later in the notebook. "
   ]
  },
  {
   "cell_type": "code",
   "execution_count": 27,
   "metadata": {},
   "outputs": [
    {
     "name": "stdout",
     "output_type": "stream",
     "text": [
      "“Long Shot” isn’t going to save the romantic comedy, but it’s an adrenaline shot of pure pleasure to the genre’s failing heart. The outline is familiar: Two people meet, retreat and then circle each other, all while talking and talking. The romantic comedy turns on people who fit together — in bed, on the dance floor — but also talk to each other, exchanging words that stop flowing and faltering only with a culminating kiss and teasing fade-out. The difference here is that unlike a lot of romances, the woman retains her power and identity, and that’s how the movie likes it.\n",
      "In “Long Shot,” Charlotte Field (Charlize Theron), the secretary of state of the United States, and Fred Flarsky (Seth Rogen), a struggling journalist, talk a lot. They connect while attending a charity event — Boyz II Men is crooning onstage — spotting each other across a crowded room. It’s a classic meet cute, in the parlance of the romantic comedy, but with a twist. Charlotte used to babysit Fred (she’s a few years older), a fact that still looms large in his memory. They haven’t seen each other since, but when they meet again they quickly spark, lighting a long fuse that winds through the story as nostalgia turns into something sweeter and then heavier.\n",
      "It’s preposterous: She’s a giant, a goddess and he’s … Seth Rogen. It doesn’t bode well that the movie initially seems more interested in Fred than in Charlotte, an apparent imbalance that suggests this will be another weak chuckle-fest in which the female lead is a convenience or decoration, on hand mainly to vouch for her guy’s heterosexuality. The opener, though — with Fred undercover in a roomful of neo-Nazis — proves tactical. It sets a strangely uneasy mood for a comedy, one that’s funny ha-ha but also unsettling. More to the story’s point, it also places Fred in the most toxic of man caves imaginable: a homosocial world of booze-chugging, chest-thumping, sieg-heiling bros.\n",
      "Image\n",
      "The journalist and Madam Secretary.CreditMurray Close/Lionsgate\n",
      "Of course Fred escapes — taunting the enemy, he briefly turns into a self-proclaimed Jewish superhero — and his adventure is folded into a subplot. It’s a shrewd introduction, one that establishes Fred’s ethical principles and willingness to take risks; it also gives him an early, crucial triumph. Just as important, it offers a semi-comic glimpse at a culture that fetishizes manliness and devalues women. When Fred flees, he breaks away from baddies but also from the ultimate in masculinity cults. It’s in keeping with a character who may have a best dude on speed dial (the amusing O’Shea Jackson Jr.) yet doesn’t suffer from the usual movie male maladies, including fear of women.\n",
      "Charlotte soon enters, effortlessly dominating every scene and room while juggling and suffering assorted fools, including the president of the United States (Bob Odenkirk in peerless form). Theron, a natural screen presence who has developed into an undeniable one, is wonderful in “Long Shot.” She’s a fascinating performer with a watchfulness that can make her seem detached. She seems supremely and confidently alone onscreen, which in moments can create an internal tension with her physical superfluidity, her outward, inviting flow. It’s an ideal combination for this character who never breaks stride as she agilely evades obstacles, most of which are men (Andy Serkis, Alexander Skarsgard).\n",
      "“Long Shot” humorously skitters over these and other hurdles, including the imperative that powerful single women must have men by their side, mostly to make everyone feel comfortable with all that female power. That’s a tricky idea for any romantic comedy to take on, one that “Long Shot” doesn’t solve but instead slides over after Charlotte hires Fred as a speechwriter. Much of what happens isn’t surprising, but Dan Sterling and Liz Hannah’s script is consistently, genially funny, filled with patter and nonsense, and spiked with sincerity and a few gross-out flourishes. And while the director, Jonathan Levine, doesn’t do much visually, he pulls off the occasional, well-timed sight gags and often puts Charlotte and Fred in the same shot — they even share the frame — rather than loading up on the usual TV-friendly close-ups of single heads.\n",
      "Movies have long segregated men and women by genre, but at some point we seemed to enter a new age of his-or-her cinema. Straight men and women went their separate, generally unequal ways and stopped talking, really talking, to each other in movies. Men retreated into buddy pictures à la Butch and Sundance or swooned into bromances; for their part, women prepped for weddings that felt like battles or indulged in a hangover-inducing hurrah. The romantic comedies in which men and women hook up have often been excruciating (“The Ugly Truth,” “The Proposal”), fueled by sexist stereotypes and gender policing that suggested women’s lib had given Hollywood a permanent headache.\n",
      "Yet we just can’t quit romantic comedy, even if contemporary American movies as a whole are more comfortable making war than peace, much less love. The reasons are cultural, social and industrial, at once obvious and obscure. One problem is the current business model in which big studios pour tremendous resources into globally salable male-driven blockbusters. The other problem is the industry’s deep-seated, long-maintained fear of female power. In a business long defined by aesthetic and economic conservatism, and that has a bad habit of selling the same stories, women — including those who are sexually desirable, desiring and sovereign — remain a puzzle and a threat.\n",
      "It’s no wonder that after decades of putting women in rigidly circumscribed roles the industry has had a tough time figuring out what to do with them. If things have started to shift it’s partly because heroines like Katniss Everdeen and creators like Amy Schumer are helping redefine the female lead. Like Mindy Kaling and other funny women, Schumer is doing it with laughs and stumbles, but also with an earnestness that affirms something real is at stake: love, hearts and maybe, possibly, a gender-fluid happily ever after. “Long Shot” mostly just toys with some of these ideas; it’s awfully straight, in all senses. But it doesn’t just put a woman on top, it also leaves her there, blissfully.\n"
     ]
    }
   ],
   "source": [
    "review=''\n",
    "for item in parsed_html.find('.meteredContent'):\n",
    "    review=review+(item.text)\n",
    "print(review)"
   ]
  },
  {
   "cell_type": "markdown",
   "metadata": {},
   "source": [
    " ### Scraper function for movies after 1996"
   ]
  },
  {
   "cell_type": "markdown",
   "metadata": {},
   "source": [
    "I generalize the case study into a function that creates an object with all the text from the review."
   ]
  },
  {
   "cell_type": "code",
   "execution_count": 28,
   "metadata": {},
   "outputs": [],
   "source": [
    "def review_text(url):\n",
    "    #scraper function to extract the text of each article based on the url\n",
    "    session = HTMLSession()\n",
    "    r = session.get(url)\n",
    "    parsed_html = r.html\n",
    "    review=''\n",
    "    for item in parsed_html.find('.meteredContent'):\n",
    "        review=review+(item.text)\n",
    "    return(review)"
   ]
  },
  {
   "cell_type": "markdown",
   "metadata": {},
   "source": [
    "I now test the function with a random url of the dataframe from the API. The result indicates that the function works correctly. "
   ]
  },
  {
   "cell_type": "code",
   "execution_count": 29,
   "metadata": {},
   "outputs": [
    {
     "name": "stdout",
     "output_type": "stream",
     "text": [
      "http://www.nytimes.com/2018/08/22/movies/crime-punishment-review.html\n"
     ]
    }
   ],
   "source": [
    "thisdict=df['link'][1]\n",
    "x=thisdict[\"url\"]\n",
    "print(x)\n"
   ]
  },
  {
   "cell_type": "code",
   "execution_count": 30,
   "metadata": {},
   "outputs": [
    {
     "name": "stdout",
     "output_type": "stream",
     "text": [
      "Theo Love’s documentary “The Legend of Cocaine Island,” now streaming on Netflix, chronicles the harebrained execution of a preposterous scheme.\n",
      "As fans of the “Florida man” meme may have sussed out, the story takes place in that state.\n",
      "Love chronicles a hapless, middle-aged nincompoop’s efforts to recover a stash of cocaine with a mix of interviews and re-enactments, and in a flashy, colorful style that lands between “Pain & Gain,” Michael Bay’s tale of inane Sunshine State swindlers, and “Fargo” with gators.\n",
      "Trailer: ‘The Legend of Cocaine Island’CreditCreditNetflix\n",
      "The director (2014’s “Little Hope Was Arson”) can lay it on thick with the comic scene setups and James Bond-like soundtrack. Then again, this underlines the silliness of Rodney Hyden’s odyssey.\n",
      "A contractor in Central Florida, Hyden was hit hard by the 2008 recession. Needing cash, he eventually set out to retrieve the bags of coke an eccentric neighbor claimed he had buried on Culebra, an island off Puerto Rico. (The documentary was presented at the 2018 Tribeca Film Festival as “White Tide: The Legend of Culebra.”)\n",
      "Since Hyden had no idea how to either get the drugs or sell them, he hooked up with a Z team that included a doped-up goofball and a mysterious operator named Carlos. “I just liked that guy,” Hyden says. Carlos reminds him of Tony Montana, and unfortunately, Hyden has watched “Scarface” a lot.\n",
      "Love is not judgmental about Hyden, and lets him be his sunny, deluded self — down to a willful obliviousness about the realities of drug trafficking and use.\n",
      "Charged with intent to distribute cocaine, Hyden got 60 days in prison, a year of home detention and community service. It’s hard not to ponder what the verdict would have been had he not been white.\n"
     ]
    }
   ],
   "source": [
    "text=review_text('http://www.nytimes.com/2019/03/29/movies/the-legend-of-cocaine-island-review.html')\n",
    "print(text)"
   ]
  },
  {
   "cell_type": "markdown",
   "metadata": {},
   "source": [
    "### Articles before 1996"
   ]
  },
  {
   "cell_type": "markdown",
   "metadata": {},
   "source": [
    "It is important to note that some movies are digitized versions of articles from The New York Times' print archive, before the start of online publication in 1996. As a consequence, the code has a different structure compared to the code of the previous articles. The following result occurs when using the scraping function on an old movie review from 1993. The function results in no output."
   ]
  },
  {
   "cell_type": "code",
   "execution_count": 31,
   "metadata": {},
   "outputs": [
    {
     "name": "stdout",
     "output_type": "stream",
     "text": [
      "\n"
     ]
    }
   ],
   "source": [
    "print(review_text('https://www.nytimes.com/1993/08/18/movies/review-film-after-the-riot-at-ground-zero.html?mtrref=www.google.com&gwh=7F3E125596A073858299D49EAD3B756A&gwt=pay'))"
   ]
  },
  {
   "cell_type": "markdown",
   "metadata": {},
   "source": [
    "Since the output is empty, I have to create a new function to scrape the text from older reviews. I start with parsing the html code."
   ]
  },
  {
   "cell_type": "code",
   "execution_count": 32,
   "metadata": {},
   "outputs": [],
   "source": [
    "from requests_html import HTMLSession\n",
    "session = HTMLSession()\n",
    "url = 'https://www.nytimes.com/1993/08/18/movies/review-film-after-the-riot-at-ground-zero.html?mtrref=www.google.com&gwh=7F3E125596A073858299D49EAD3B756A&gwt=pay)'\n",
    "r = session.get(url)\n",
    "parsed_html = r.html"
   ]
  },
  {
   "cell_type": "markdown",
   "metadata": {},
   "source": [
    "The only difference with articles after 1996 is that the review text has the class 'story-content' instead of 'meteredContent'. The remaining code is copied from the previous section."
   ]
  },
  {
   "cell_type": "code",
   "execution_count": 33,
   "metadata": {},
   "outputs": [
    {
     "name": "stdout",
     "output_type": "stream",
     "text": [
      "\"112th and Central: Through the Eyes of the Children,\" a documentary about the effects of the 1992 Los Angeles riots on the lives of the young people who lived through them, has one strikingly unusual feature. When the film-making team of Jim Chambers, Hal Hisey and Vondie Curtis-Hall undertook the project, they invited their subjects to be their creative collaborators.They equipped 25 mostly black and Hispanic students from the Los Angeles Achievement Center, a youth guidance program in South-Central Los Angeles, with super-8 video cameras and had them interview one another and their friends and families. The result is a documentary film that is crude, and occasionally rambling and inarticulate, but one that captures a more intimate sense of community than could probably have been conveyed through more conventionally polished methods.Those who tell their stories run from shy young schoolchildren to hardened former gang members. Although the points of view range from bitterly defiant to hopeful, the common denominator of attitude is saddened resignation of the war-weary.Several officials -- including Willie Williams, who succeeded Daryl F. Gates as the chief of the Los Angeles Police Department, City Councilman Michael Woo and Representative Maxine Waters -- also comment on the riots. But their remarks lack the poignancy and candor that the area's everyday residents provide.\"112th and Central,\" which opens today at the Village East, begins with a Los Angeles Achievement Center meeting at which many of the participants introduce themselves and give their impressions of the riots; the impressions are interwoven with excerpts from television coverage. After this formal beginning, the film -- whose material is roughly organized into five subjects: family and friends, relations with the police, the truce between gangs, art, and the future -- progressively loosens up.At least half a dozen vivid personalities stand out. The most endearing is Cleophas Jackson, a smart, chubby grade-schooler whose announced ambition is to be an Attorney General.Kartoon, the most flamboyant, is a cocky 35-year-old former gang member who serves as the movie's one-person Greek chorus and whose street poetry recalls the stretched-out 1970's narratives of Curtis Mayfield. The most disturbing is Yolanda Woods, a tough, fiercely intelligent 16-year-old former gang member whose boyfriend was shot and killed while she was pregnant and who subsequently had an abortion. The goal of this cynical, heartbroken teen-ager is to be a mortician.Teresa Allison, a woman whose says her young nephew was killed by the police in front of his home during a blackout, is the most anguished. Her son, Dewayne Holmes, interviewed in prison, where he is serving an eight-year sentence for stealing $10, is credited by several in the film for initiating a truce between the Crips and the Bloods that has drastically reduced gang violence in the neighborhood. The film portrays him as a soft-spoken local hero who is being persecuted.That gang truce is treated as a major turning point in the recent history of South-Central, and the film goes out of its way to show young men who were once each other's deadly enemies embracing and emotionally pledging their mutual support.But how much optimism can there be in a environment as desolate as South-Central? Except for glances at some public artworks commemorating recent events, the film's ground-level view of the riot-scarred landscape, with housing developments that look like army barracks, is a portrait of bleakness. 112th and Central Through the Eyes of the ChildrenDirected by Jim Chambers; cinematography by John Simmons; edited by Michael Schultz; music by Delfeayo Marsalis; produced by Mr. Chambers, Vondie Curtis-Hall and Hal Hisey; released by Flatfields. Village East Cinemas, Second Avenue and 12th Street, East Village. Running time: 108 minutes. This film has no rating.A version of this review appears in print on August 18, 1993, on Page C00018 of the National edition with the headline: Review/Film; After the Riot, at Ground Zero. Order Reprints| Today's Paper|Subscribe\n"
     ]
    }
   ],
   "source": [
    "review=''\n",
    "for item in parsed_html.find('.story-content'):\n",
    "    review=review+(item.text)\n",
    "print(review)"
   ]
  },
  {
   "cell_type": "markdown",
   "metadata": {},
   "source": [
    "I build a function to scrape old movie reviews. The function is equal to the previous function, except for the name of the class."
   ]
  },
  {
   "cell_type": "code",
   "execution_count": 34,
   "metadata": {},
   "outputs": [],
   "source": [
    "def review_oldertext(url):\n",
    "    #scraper function to extract the text of each article based on the url\n",
    "    session = HTMLSession()\n",
    "    r = session.get(url)\n",
    "    parsed_html = r.html\n",
    "    review=''\n",
    "    for item in parsed_html.find('.story-content'):\n",
    "        review=review+(item.text)\n",
    "    return(review)"
   ]
  },
  {
   "cell_type": "markdown",
   "metadata": {},
   "source": [
    "### Combining the two scraping functions into a single function"
   ]
  },
  {
   "cell_type": "markdown",
   "metadata": {},
   "source": [
    "Since I do not want to use trial and error to find out which scraper function I need to apply, I will write a new function that decides for me which result it needs to keep. This is particularly important when I will use the function on a dataframe, where I do not want to specify for each movie which of the functions is required."
   ]
  },
  {
   "cell_type": "markdown",
   "metadata": {},
   "source": [
    "Before creating the function, I start with a case study. The url belongs to an older article from 1993."
   ]
  },
  {
   "cell_type": "code",
   "execution_count": 35,
   "metadata": {},
   "outputs": [],
   "source": [
    "url = 'https://www.nytimes.com/1993/08/18/movies/review-film-after-the-riot-at-ground-zero.html?mtrref=www.google.com&gwh=7F3E125596A073858299D49EAD3B756A&gwt=pay)'"
   ]
  },
  {
   "cell_type": "markdown",
   "metadata": {},
   "source": [
    "I first apply both functions on the movie review."
   ]
  },
  {
   "cell_type": "code",
   "execution_count": 36,
   "metadata": {},
   "outputs": [],
   "source": [
    "review1=review_oldertext(url)\n",
    "review2=review_text(url)\n"
   ]
  },
  {
   "cell_type": "markdown",
   "metadata": {},
   "source": [
    "Next, an ifelse function is created that checks whether the first scraper function results in no output. If this is the case, the other scraping function is applied. If this is not the case, the first scraping function is applied."
   ]
  },
  {
   "cell_type": "code",
   "execution_count": 37,
   "metadata": {},
   "outputs": [
    {
     "name": "stdout",
     "output_type": "stream",
     "text": [
      "\"112th and Central: Through the Eyes of the Children,\" a documentary about the effects of the 1992 Los Angeles riots on the lives of the young people who lived through them, has one strikingly unusual feature. When the film-making team of Jim Chambers, Hal Hisey and Vondie Curtis-Hall undertook the project, they invited their subjects to be their creative collaborators.They equipped 25 mostly black and Hispanic students from the Los Angeles Achievement Center, a youth guidance program in South-Central Los Angeles, with super-8 video cameras and had them interview one another and their friends and families. The result is a documentary film that is crude, and occasionally rambling and inarticulate, but one that captures a more intimate sense of community than could probably have been conveyed through more conventionally polished methods.Those who tell their stories run from shy young schoolchildren to hardened former gang members. Although the points of view range from bitterly defiant to hopeful, the common denominator of attitude is saddened resignation of the war-weary.Several officials -- including Willie Williams, who succeeded Daryl F. Gates as the chief of the Los Angeles Police Department, City Councilman Michael Woo and Representative Maxine Waters -- also comment on the riots. But their remarks lack the poignancy and candor that the area's everyday residents provide.\"112th and Central,\" which opens today at the Village East, begins with a Los Angeles Achievement Center meeting at which many of the participants introduce themselves and give their impressions of the riots; the impressions are interwoven with excerpts from television coverage. After this formal beginning, the film -- whose material is roughly organized into five subjects: family and friends, relations with the police, the truce between gangs, art, and the future -- progressively loosens up.At least half a dozen vivid personalities stand out. The most endearing is Cleophas Jackson, a smart, chubby grade-schooler whose announced ambition is to be an Attorney General.Kartoon, the most flamboyant, is a cocky 35-year-old former gang member who serves as the movie's one-person Greek chorus and whose street poetry recalls the stretched-out 1970's narratives of Curtis Mayfield. The most disturbing is Yolanda Woods, a tough, fiercely intelligent 16-year-old former gang member whose boyfriend was shot and killed while she was pregnant and who subsequently had an abortion. The goal of this cynical, heartbroken teen-ager is to be a mortician.Teresa Allison, a woman whose says her young nephew was killed by the police in front of his home during a blackout, is the most anguished. Her son, Dewayne Holmes, interviewed in prison, where he is serving an eight-year sentence for stealing $10, is credited by several in the film for initiating a truce between the Crips and the Bloods that has drastically reduced gang violence in the neighborhood. The film portrays him as a soft-spoken local hero who is being persecuted.That gang truce is treated as a major turning point in the recent history of South-Central, and the film goes out of its way to show young men who were once each other's deadly enemies embracing and emotionally pledging their mutual support.But how much optimism can there be in a environment as desolate as South-Central? Except for glances at some public artworks commemorating recent events, the film's ground-level view of the riot-scarred landscape, with housing developments that look like army barracks, is a portrait of bleakness. 112th and Central Through the Eyes of the ChildrenDirected by Jim Chambers; cinematography by John Simmons; edited by Michael Schultz; music by Delfeayo Marsalis; produced by Mr. Chambers, Vondie Curtis-Hall and Hal Hisey; released by Flatfields. Village East Cinemas, Second Avenue and 12th Street, East Village. Running time: 108 minutes. This film has no rating.A version of this review appears in print on August 18, 1993, on Page C00018 of the National edition with the headline: Review/Film; After the Riot, at Ground Zero. Order Reprints| Today's Paper|Subscribe\n"
     ]
    }
   ],
   "source": [
    "if review1=='':\n",
    "  review=review2\n",
    "else:\n",
    "  review=review1\n",
    "print(review)"
   ]
  },
  {
   "cell_type": "markdown",
   "metadata": {},
   "source": [
    "Now I make a scraper function that uses the previous ifelse function to decide which scraper function it needs to apply."
   ]
  },
  {
   "cell_type": "code",
   "execution_count": 38,
   "metadata": {},
   "outputs": [],
   "source": [
    "def get_reviewtext(url):\n",
    "    review1=review_oldertext(url)\n",
    "    review2=review_text(url)\n",
    "    if review1=='':\n",
    "        review=review2\n",
    "    else:\n",
    "      review=review1\n",
    "    return(review)\n",
    "\n",
    "    "
   ]
  },
  {
   "cell_type": "markdown",
   "metadata": {},
   "source": [
    "To test my function, I apply it on a article that is published in 2019. Hence, the first scraper function needs to be applied. The result demonstrates my function works correctly."
   ]
  },
  {
   "cell_type": "code",
   "execution_count": 39,
   "metadata": {},
   "outputs": [
    {
     "data": {
      "text/plain": [
       "'“Long Shot” isn’t going to save the romantic comedy, but it’s an adrenaline shot of pure pleasure to the genre’s failing heart. The outline is familiar: Two people meet, retreat and then circle each other, all while talking and talking. The romantic comedy turns on people who fit together — in bed, on the dance floor — but also talk to each other, exchanging words that stop flowing and faltering only with a culminating kiss and teasing fade-out. The difference here is that unlike a lot of romances, the woman retains her power and identity, and that’s how the movie likes it.\\nIn “Long Shot,” Charlotte Field (Charlize Theron), the secretary of state of the United States, and Fred Flarsky (Seth Rogen), a struggling journalist, talk a lot. They connect while attending a charity event — Boyz II Men is crooning onstage — spotting each other across a crowded room. It’s a classic meet cute, in the parlance of the romantic comedy, but with a twist. Charlotte used to babysit Fred (she’s a few years older), a fact that still looms large in his memory. They haven’t seen each other since, but when they meet again they quickly spark, lighting a long fuse that winds through the story as nostalgia turns into something sweeter and then heavier.\\nIt’s preposterous: She’s a giant, a goddess and he’s … Seth Rogen. It doesn’t bode well that the movie initially seems more interested in Fred than in Charlotte, an apparent imbalance that suggests this will be another weak chuckle-fest in which the female lead is a convenience or decoration, on hand mainly to vouch for her guy’s heterosexuality. The opener, though — with Fred undercover in a roomful of neo-Nazis — proves tactical. It sets a strangely uneasy mood for a comedy, one that’s funny ha-ha but also unsettling. More to the story’s point, it also places Fred in the most toxic of man caves imaginable: a homosocial world of booze-chugging, chest-thumping, sieg-heiling bros.\\nImage\\nThe journalist and Madam Secretary.CreditMurray Close/Lionsgate\\nOf course Fred escapes — taunting the enemy, he briefly turns into a self-proclaimed Jewish superhero — and his adventure is folded into a subplot. It’s a shrewd introduction, one that establishes Fred’s ethical principles and willingness to take risks; it also gives him an early, crucial triumph. Just as important, it offers a semi-comic glimpse at a culture that fetishizes manliness and devalues women. When Fred flees, he breaks away from baddies but also from the ultimate in masculinity cults. It’s in keeping with a character who may have a best dude on speed dial (the amusing O’Shea Jackson Jr.) yet doesn’t suffer from the usual movie male maladies, including fear of women.\\nCharlotte soon enters, effortlessly dominating every scene and room while juggling and suffering assorted fools, including the president of the United States (Bob Odenkirk in peerless form). Theron, a natural screen presence who has developed into an undeniable one, is wonderful in “Long Shot.” She’s a fascinating performer with a watchfulness that can make her seem detached. She seems supremely and confidently alone onscreen, which in moments can create an internal tension with her physical superfluidity, her outward, inviting flow. It’s an ideal combination for this character who never breaks stride as she agilely evades obstacles, most of which are men (Andy Serkis, Alexander Skarsgard).\\n“Long Shot” humorously skitters over these and other hurdles, including the imperative that powerful single women must have men by their side, mostly to make everyone feel comfortable with all that female power. That’s a tricky idea for any romantic comedy to take on, one that “Long Shot” doesn’t solve but instead slides over after Charlotte hires Fred as a speechwriter. Much of what happens isn’t surprising, but Dan Sterling and Liz Hannah’s script is consistently, genially funny, filled with patter and nonsense, and spiked with sincerity and a few gross-out flourishes. And while the director, Jonathan Levine, doesn’t do much visually, he pulls off the occasional, well-timed sight gags and often puts Charlotte and Fred in the same shot — they even share the frame — rather than loading up on the usual TV-friendly close-ups of single heads.\\nMovies have long segregated men and women by genre, but at some point we seemed to enter a new age of his-or-her cinema. Straight men and women went their separate, generally unequal ways and stopped talking, really talking, to each other in movies. Men retreated into buddy pictures à la Butch and Sundance or swooned into bromances; for their part, women prepped for weddings that felt like battles or indulged in a hangover-inducing hurrah. The romantic comedies in which men and women hook up have often been excruciating (“The Ugly Truth,” “The Proposal”), fueled by sexist stereotypes and gender policing that suggested women’s lib had given Hollywood a permanent headache.\\nYet we just can’t quit romantic comedy, even if contemporary American movies as a whole are more comfortable making war than peace, much less love. The reasons are cultural, social and industrial, at once obvious and obscure. One problem is the current business model in which big studios pour tremendous resources into globally salable male-driven blockbusters. The other problem is the industry’s deep-seated, long-maintained fear of female power. In a business long defined by aesthetic and economic conservatism, and that has a bad habit of selling the same stories, women — including those who are sexually desirable, desiring and sovereign — remain a puzzle and a threat.\\nIt’s no wonder that after decades of putting women in rigidly circumscribed roles the industry has had a tough time figuring out what to do with them. If things have started to shift it’s partly because heroines like Katniss Everdeen and creators like Amy Schumer are helping redefine the female lead. Like Mindy Kaling and other funny women, Schumer is doing it with laughs and stumbles, but also with an earnestness that affirms something real is at stake: love, hearts and maybe, possibly, a gender-fluid happily ever after. “Long Shot” mostly just toys with some of these ideas; it’s awfully straight, in all senses. But it doesn’t just put a woman on top, it also leaves her there, blissfully.'"
      ]
     },
     "execution_count": 39,
     "metadata": {},
     "output_type": "execute_result"
    }
   ],
   "source": [
    "url = 'https://www.nytimes.com/2019/05/02/movies/long-shot-review.html?rref=collection%2Fcollection%2Fmovie-guide&action=click&contentCollection=undefined&region=stream&module=stream_unit&version=latest-stories&contentPlacement=1&pgtype=collection'\n",
    "get_reviewtext(url)"
   ]
  },
  {
   "cell_type": "markdown",
   "metadata": {},
   "source": [
    "## PART 3 SENTIMENT ANALYSIS"
   ]
  },
  {
   "cell_type": "markdown",
   "metadata": {},
   "source": [
    "In this part I will conduct a sentiment analysis of the movie reviews. In addition, I will divide the sentiment of the text by the word count. In this way, longer texts do not have higher Afinn scores. Lastly, I create a function that calculates the sentiment divided by the word count."
   ]
  },
  {
   "cell_type": "markdown",
   "metadata": {},
   "source": [
    "First I need to set up Afinn and specify its language as English. I use Afinn instead of Vader since the texts are not from social media, but from newspapers. Hence, I do not expect smileys and slang words."
   ]
  },
  {
   "cell_type": "code",
   "execution_count": 40,
   "metadata": {},
   "outputs": [],
   "source": [
    "afinn = Afinn(language='en')"
   ]
  },
  {
   "cell_type": "markdown",
   "metadata": {},
   "source": [
    "Next I use it on a single movie review text to check if it is working."
   ]
  },
  {
   "cell_type": "code",
   "execution_count": 41,
   "metadata": {},
   "outputs": [
    {
     "name": "stdout",
     "output_type": "stream",
     "text": [
      "“Ugliness is a crime against humanity.”\n",
      "Because that smug, straight-faced remark by Luc (Éric Bruneau), a handsome, successful architect to a group of supercilious friends in “An Eye for Beauty” is not entirely facetious, you may never forgive him for it. Nor should you.\n",
      "Written and directed by the Canadian filmmaker Denys Arcand (“The Barbarian Invasions,” which won a 2004 Academy Award for best foreign picture), “An Eye for Beauty” is the cinematic equivalent of a photo spread in Vogue or Architectural Digest that taunts you with images of rich, well-to-do beautiful people leading the tastefully glamorous life.\n",
      "If the movie were a satire, which it should be, the vanity and snobbery of Luc and his circle of friends, many of them in their 30s, wouldn’t be so suffocating. These people who appraise everything in sight with the icy scrutiny of art-world sharks, might as well be humanoids for all the warmth they exude. They also love to complain. How unfortunate it is, one laments, that ancient sites like Machu Picchu and Angkor Wat are being overrun with tourists. The name Ikea is spoken with such contempt that it sounds like a curse. At least we don’t hear the “p” word (that would be “peasants”) applied to those less fortunate, which is almost everybody with less refined taste.\n",
      "The first sign of a crack in the facade of this cold, perfect world is the discomfort of Luc’s beautiful wife, Stéphanie (Mélanie Thierry), while watching a television documentary showing the fall of Muammar el-Qaddafi. It disturbs the serenity of the couple’s modern aerie outside Quebec City and prompts her to wonder nervously, “Are we real?”\n",
      "Good question.\n",
      "The film’s temperature rises to slightly above freezing in its second half when Stéphanie’s angst leads to full-scale panic attacks that result in her hospitalization. Luc, while visiting Toronto to accept an award, succumbs to the charms of Lindsay (Melanie Merkosky), a predatory, about-to-be-divorced beauty who bluntly propositions him within minutes of their meeting. Showing up in Quebec weeks later, she tells him she loves him, although there are no signs of an emotional bond beyond games of footsie leading to cool, picture-perfect sex in which not a hair is ruffled or genuine passion exhibited.\n",
      "The message that “An Eye for Beauty” wants to send is that gorgeous people suffer just like the rest of us. But it is so enamored of them that the message gets lost en route to the screen. What really matters is the lighting.\n",
      "A low point in the director’s career, this sleek chilly film isn’t acted so much as posed.\n",
      "“An Eye for Beauty” is not rated, is in English and French with English subtitles, and runs 1 hour 42 minutes.\n"
     ]
    }
   ],
   "source": [
    "text_1=get_reviewtext('http://www.nytimes.com/2016/04/15/movies/an-eye-for-beauty-review.html')\n",
    "print(text_1)"
   ]
  },
  {
   "cell_type": "code",
   "execution_count": 42,
   "metadata": {},
   "outputs": [
    {
     "data": {
      "text/plain": [
       "50.0"
      ]
     },
     "execution_count": 42,
     "metadata": {},
     "output_type": "execute_result"
    }
   ],
   "source": [
    "afinn.score(text_1)"
   ]
  },
  {
   "cell_type": "markdown",
   "metadata": {},
   "source": [
    "I divide the Afinn score by the number of words, so longer text do not have larger absolute Afinn scores. First I create a function that counts the words."
   ]
  },
  {
   "cell_type": "code",
   "execution_count": 43,
   "metadata": {},
   "outputs": [],
   "source": [
    "def word_count(text_string):\n",
    "    '''Calculate the number of words in a review'''\n",
    "    return len(text_string.split())"
   ]
  },
  {
   "cell_type": "markdown",
   "metadata": {},
   "source": [
    "Next I apply it to the review text."
   ]
  },
  {
   "cell_type": "code",
   "execution_count": 44,
   "metadata": {},
   "outputs": [
    {
     "data": {
      "text/plain": [
       "0.11037527593818984"
      ]
     },
     "execution_count": 44,
     "metadata": {},
     "output_type": "execute_result"
    }
   ],
   "source": [
    "afinn.score(text_1)/word_count(text_1)"
   ]
  },
  {
   "cell_type": "markdown",
   "metadata": {},
   "source": [
    "I build a function that calculates the Afinn score and divides it by the number of words in one step."
   ]
  },
  {
   "cell_type": "code",
   "execution_count": 45,
   "metadata": {},
   "outputs": [],
   "source": [
    "def sentiment_norm(text):\n",
    "    score=afinn.score(text)/word_count(text)\n",
    "    return score"
   ]
  },
  {
   "cell_type": "markdown",
   "metadata": {},
   "source": [
    "## PART 4 FUNCTION"
   ]
  },
  {
   "cell_type": "markdown",
   "metadata": {},
   "source": [
    "The goal of this section is to incorporate  the  url  from  the  API,  the  text  of  the  scraping  and  the  sentiment  analysis  into  a function.  In this way, I can obtain the sentiment and the review text when I search for a movie name. First I will conduct some case studies in order to make sure that my code is correct. Next, I write the function."
   ]
  },
  {
   "cell_type": "markdown",
   "metadata": {},
   "source": [
    "### Case study to get the url function"
   ]
  },
  {
   "cell_type": "markdown",
   "metadata": {},
   "source": [
    " The url function is not created yet, in contrast to the function to get the sentiment and the review text. The url is already present in the API, but in the dictionary of the link column. I create a function that makes a new column that contains only the link."
   ]
  },
  {
   "cell_type": "markdown",
   "metadata": {},
   "source": [
    "First I get a dataframe from the API with the 'night' keyword."
   ]
  },
  {
   "cell_type": "code",
   "execution_count": 46,
   "metadata": {},
   "outputs": [],
   "source": [
    "df_test=get_80movies('night','by-title')"
   ]
  },
  {
   "cell_type": "markdown",
   "metadata": {},
   "source": [
    "I take the second row and obtain the url from the dictionary in the link column."
   ]
  },
  {
   "cell_type": "code",
   "execution_count": 47,
   "metadata": {},
   "outputs": [
    {
     "data": {
      "text/plain": [
       "'http://www.nytimes.com/1986/09/30/movies/film-festival-dexter-gordon-stars-in-round-midnight.html'"
      ]
     },
     "execution_count": 47,
     "metadata": {},
     "output_type": "execute_result"
    }
   ],
   "source": [
    "df_test['link'][1][\"url\"]"
   ]
  },
  {
   "cell_type": "markdown",
   "metadata": {},
   "source": [
    "The link can also be obtained in a slightly other way. Here I obtain the link of the first movie."
   ]
  },
  {
   "cell_type": "code",
   "execution_count": 48,
   "metadata": {},
   "outputs": [
    {
     "name": "stdout",
     "output_type": "stream",
     "text": [
      "http://www.nytimes.com/1986/09/12/movies/film-sissy-spacek-in-night-mother.html\n"
     ]
    }
   ],
   "source": [
    "url=str(df_test.at[0,'link'][\"url\"])\n",
    "print(url)"
   ]
  },
  {
   "cell_type": "markdown",
   "metadata": {},
   "source": [
    "Now I create a new column for the dataframe that only contains the url."
   ]
  },
  {
   "cell_type": "markdown",
   "metadata": {},
   "source": [
    "I create the column with a for-loop. Hence, I need the length of the column as a parameter."
   ]
  },
  {
   "cell_type": "code",
   "execution_count": 49,
   "metadata": {},
   "outputs": [
    {
     "name": "stdout",
     "output_type": "stream",
     "text": [
      "80\n"
     ]
    }
   ],
   "source": [
    "y=len(df_test['link'])\n",
    "print(y)"
   ]
  },
  {
   "cell_type": "markdown",
   "metadata": {},
   "source": [
    "The for-loop is a generalization of obtaining the url of a single row; I repeat this action for every row."
   ]
  },
  {
   "cell_type": "code",
   "execution_count": 50,
   "metadata": {},
   "outputs": [],
   "source": [
    "for x in range(0,y):\n",
    "    df_test.at[x,'url']=df_test.at[x,'link'][\"url\"]"
   ]
  },
  {
   "cell_type": "markdown",
   "metadata": {},
   "source": [
    "The loop indeed results in a column containing only the link of a certain movie."
   ]
  },
  {
   "cell_type": "code",
   "execution_count": 51,
   "metadata": {
    "scrolled": true
   },
   "outputs": [
    {
     "data": {
      "text/html": [
       "<div>\n",
       "<style scoped>\n",
       "    .dataframe tbody tr th:only-of-type {\n",
       "        vertical-align: middle;\n",
       "    }\n",
       "\n",
       "    .dataframe tbody tr th {\n",
       "        vertical-align: top;\n",
       "    }\n",
       "\n",
       "    .dataframe thead th {\n",
       "        text-align: right;\n",
       "    }\n",
       "</style>\n",
       "<table border=\"1\" class=\"dataframe\">\n",
       "  <thead>\n",
       "    <tr style=\"text-align: right;\">\n",
       "      <th></th>\n",
       "      <th>byline</th>\n",
       "      <th>critics_pick</th>\n",
       "      <th>date_updated</th>\n",
       "      <th>display_title</th>\n",
       "      <th>headline</th>\n",
       "      <th>link</th>\n",
       "      <th>mpaa_rating</th>\n",
       "      <th>multimedia</th>\n",
       "      <th>opening_date</th>\n",
       "      <th>publication_date</th>\n",
       "      <th>summary_short</th>\n",
       "      <th>url</th>\n",
       "    </tr>\n",
       "  </thead>\n",
       "  <tbody>\n",
       "    <tr>\n",
       "      <th>0</th>\n",
       "      <td>JANET MASLIN</td>\n",
       "      <td>0</td>\n",
       "      <td>2017-11-02 04:16:08</td>\n",
       "      <td>'Night Mother</td>\n",
       "      <td>NIGHT, MOTHER (MOVIE)</td>\n",
       "      <td>{'type': 'article', 'url': 'http://www.nytimes.com/1986/09/12/movies/film-sissy-spacek-in-night-mother.html', 'suggested_link_text': 'Read the New York Times Review of 'Night Mother'}</td>\n",
       "      <td>PG-13</td>\n",
       "      <td>None</td>\n",
       "      <td>None</td>\n",
       "      <td>1986-09-12</td>\n",
       "      <td>Talky and tedious. Camera skewers Norman's Pulitzer play about suicide-bent daughter.</td>\n",
       "      <td>http://www.nytimes.com/1986/09/12/movies/film-sissy-spacek-in-night-mother.html</td>\n",
       "    </tr>\n",
       "    <tr>\n",
       "      <th>1</th>\n",
       "      <td>Janet Maslin</td>\n",
       "      <td>1</td>\n",
       "      <td>2017-11-02 04:17:36</td>\n",
       "      <td>Round Midnight</td>\n",
       "      <td>ROUND MIDNIGHT (MOVIE)</td>\n",
       "      <td>{'type': 'article', 'url': 'http://www.nytimes.com/1986/09/30/movies/film-festival-dexter-gordon-stars-in-round-midnight.html', 'suggested_link_text': 'Read the New York Times Review of Round Midnight'}</td>\n",
       "      <td>R</td>\n",
       "      <td>None</td>\n",
       "      <td>1986-10-03</td>\n",
       "      <td>1986-09-30</td>\n",
       "      <td>American expatriate jazz musician and idolizing young Frenchman, Paris, 1959. Effective drama, marvelous music.</td>\n",
       "      <td>http://www.nytimes.com/1986/09/30/movies/film-festival-dexter-gordon-stars-in-round-midnight.html</td>\n",
       "    </tr>\n",
       "    <tr>\n",
       "      <th>2</th>\n",
       "      <td>NEIL GENZLINGER</td>\n",
       "      <td>0</td>\n",
       "      <td>2017-11-02 04:18:26</td>\n",
       "      <td>1 Night</td>\n",
       "      <td>Review: In ‘1 Night,’ a Hotel, 2 Couples, a Bad Prom and a Reckoning</td>\n",
       "      <td>{'type': 'article', 'url': 'http://www.nytimes.com/2017/02/09/movies/1-night-review-isabelle-fuhrman.html', 'suggested_link_text': 'Read the New York Times Review of 1 Night'}</td>\n",
       "      <td></td>\n",
       "      <td>{'type': 'mediumThreeByTwo210', 'src': 'https://static01.nyt.com/images/2017/02/10/arts/10ONENIGHT1/10ONENIGHT1-mediumThreeByTwo210.jpg', 'width': 210, 'height': 140}</td>\n",
       "      <td>2017-02-10</td>\n",
       "      <td>2017-02-09</td>\n",
       "      <td>This debut feature by Minhal Baig has two high school students, a couple in their 30s and a dash of charm.</td>\n",
       "      <td>http://www.nytimes.com/2017/02/09/movies/1-night-review-isabelle-fuhrman.html</td>\n",
       "    </tr>\n",
       "    <tr>\n",
       "      <th>3</th>\n",
       "      <td>STEPHEN HOLDEN</td>\n",
       "      <td>0</td>\n",
       "      <td>2017-11-02 04:16:39</td>\n",
       "      <td>1,000 Times Good Night</td>\n",
       "      <td>Insatiably, She Leaps Into the Fray</td>\n",
       "      <td>{'type': 'article', 'url': 'http://www.nytimes.com/2014/10/24/movies/1000-times-good-night-starring-juliette-binoche.html', 'suggested_link_text': 'Read the New York Times Review of 1,000 Times Good Night'}</td>\n",
       "      <td></td>\n",
       "      <td>{'type': 'mediumThreeByTwo210', 'src': 'https://static01.nyt.com/images/2014/10/24/arts/24THOUSAND/THOUSAND-mediumThreeByTwo210.jpg', 'width': 210, 'height': 140}</td>\n",
       "      <td>None</td>\n",
       "      <td>2014-10-23</td>\n",
       "      <td>&amp;#8220;1,000 Times Good Night&amp;#8221; centers on a war photographer, played by Juliette Binoche, whose risk-taking unnerves her family.</td>\n",
       "      <td>http://www.nytimes.com/2014/10/24/movies/1000-times-good-night-starring-juliette-binoche.html</td>\n",
       "    </tr>\n",
       "    <tr>\n",
       "      <th>4</th>\n",
       "      <td>RICHARD F. SHEPARD</td>\n",
       "      <td>0</td>\n",
       "      <td>2017-11-02 04:17:32</td>\n",
       "      <td>10 to Midnight</td>\n",
       "      <td>10 to Midnight (Movie)</td>\n",
       "      <td>{'type': 'article', 'url': 'http://www.nytimes.com/1983/03/13/movies/10-to-midnight.html', 'suggested_link_text': 'Read the New York Times Review of 10 to Midnight'}</td>\n",
       "      <td>R</td>\n",
       "      <td>None</td>\n",
       "      <td>1983-03-11</td>\n",
       "      <td>1983-03-13</td>\n",
       "      <td>Gore galore.</td>\n",
       "      <td>http://www.nytimes.com/1983/03/13/movies/10-to-midnight.html</td>\n",
       "    </tr>\n",
       "  </tbody>\n",
       "</table>\n",
       "</div>"
      ],
      "text/plain": [
       "               byline  critics_pick         date_updated  \\\n",
       "0        JANET MASLIN             0  2017-11-02 04:16:08   \n",
       "1        Janet Maslin             1  2017-11-02 04:17:36   \n",
       "2     NEIL GENZLINGER             0  2017-11-02 04:18:26   \n",
       "3      STEPHEN HOLDEN             0  2017-11-02 04:16:39   \n",
       "4  RICHARD F. SHEPARD             0  2017-11-02 04:17:32   \n",
       "\n",
       "            display_title  \\\n",
       "0           'Night Mother   \n",
       "1          Round Midnight   \n",
       "2                 1 Night   \n",
       "3  1,000 Times Good Night   \n",
       "4          10 to Midnight   \n",
       "\n",
       "                                                               headline  \\\n",
       "0                                                 NIGHT, MOTHER (MOVIE)   \n",
       "1                                                ROUND MIDNIGHT (MOVIE)   \n",
       "2  Review: In ‘1 Night,’ a Hotel, 2 Couples, a Bad Prom and a Reckoning   \n",
       "3                                  Insatiably, She Leaps Into the Fray    \n",
       "4                                                10 to Midnight (Movie)   \n",
       "\n",
       "                                                                                                                                                                                                             link  \\\n",
       "0                         {'type': 'article', 'url': 'http://www.nytimes.com/1986/09/12/movies/film-sissy-spacek-in-night-mother.html', 'suggested_link_text': 'Read the New York Times Review of 'Night Mother'}   \n",
       "1      {'type': 'article', 'url': 'http://www.nytimes.com/1986/09/30/movies/film-festival-dexter-gordon-stars-in-round-midnight.html', 'suggested_link_text': 'Read the New York Times Review of Round Midnight'}   \n",
       "2                                 {'type': 'article', 'url': 'http://www.nytimes.com/2017/02/09/movies/1-night-review-isabelle-fuhrman.html', 'suggested_link_text': 'Read the New York Times Review of 1 Night'}   \n",
       "3  {'type': 'article', 'url': 'http://www.nytimes.com/2014/10/24/movies/1000-times-good-night-starring-juliette-binoche.html', 'suggested_link_text': 'Read the New York Times Review of 1,000 Times Good Night'}   \n",
       "4                                           {'type': 'article', 'url': 'http://www.nytimes.com/1983/03/13/movies/10-to-midnight.html', 'suggested_link_text': 'Read the New York Times Review of 10 to Midnight'}   \n",
       "\n",
       "  mpaa_rating  \\\n",
       "0       PG-13   \n",
       "1           R   \n",
       "2               \n",
       "3               \n",
       "4           R   \n",
       "\n",
       "                                                                                                                                                               multimedia  \\\n",
       "0                                                                                                                                                                    None   \n",
       "1                                                                                                                                                                    None   \n",
       "2  {'type': 'mediumThreeByTwo210', 'src': 'https://static01.nyt.com/images/2017/02/10/arts/10ONENIGHT1/10ONENIGHT1-mediumThreeByTwo210.jpg', 'width': 210, 'height': 140}   \n",
       "3      {'type': 'mediumThreeByTwo210', 'src': 'https://static01.nyt.com/images/2014/10/24/arts/24THOUSAND/THOUSAND-mediumThreeByTwo210.jpg', 'width': 210, 'height': 140}   \n",
       "4                                                                                                                                                                    None   \n",
       "\n",
       "  opening_date publication_date  \\\n",
       "0         None       1986-09-12   \n",
       "1   1986-10-03       1986-09-30   \n",
       "2   2017-02-10       2017-02-09   \n",
       "3         None       2014-10-23   \n",
       "4   1983-03-11       1983-03-13   \n",
       "\n",
       "                                                                                                                            summary_short  \\\n",
       "0                                                   Talky and tedious. Camera skewers Norman's Pulitzer play about suicide-bent daughter.   \n",
       "1                         American expatriate jazz musician and idolizing young Frenchman, Paris, 1959. Effective drama, marvelous music.   \n",
       "2                              This debut feature by Minhal Baig has two high school students, a couple in their 30s and a dash of charm.   \n",
       "3  &#8220;1,000 Times Good Night&#8221; centers on a war photographer, played by Juliette Binoche, whose risk-taking unnerves her family.   \n",
       "4                                                                                                                            Gore galore.   \n",
       "\n",
       "                                                                                                 url  \n",
       "0                    http://www.nytimes.com/1986/09/12/movies/film-sissy-spacek-in-night-mother.html  \n",
       "1  http://www.nytimes.com/1986/09/30/movies/film-festival-dexter-gordon-stars-in-round-midnight.html  \n",
       "2                      http://www.nytimes.com/2017/02/09/movies/1-night-review-isabelle-fuhrman.html  \n",
       "3      http://www.nytimes.com/2014/10/24/movies/1000-times-good-night-starring-juliette-binoche.html  \n",
       "4                                       http://www.nytimes.com/1983/03/13/movies/10-to-midnight.html  "
      ]
     },
     "execution_count": 51,
     "metadata": {},
     "output_type": "execute_result"
    }
   ],
   "source": [
    "df_test.head(5)"
   ]
  },
  {
   "cell_type": "markdown",
   "metadata": {},
   "source": [
    "### Case study to add sentiment"
   ]
  },
  {
   "cell_type": "markdown",
   "metadata": {},
   "source": [
    "In the same dataframe as above, I create a new column that contains the sentiment of the review text. First I get the review text of a random movie in the dataframe."
   ]
  },
  {
   "cell_type": "code",
   "execution_count": 52,
   "metadata": {},
   "outputs": [
    {
     "name": "stdout",
     "output_type": "stream",
     "text": [
      "http://www.nytimes.com/2014/10/24/movies/1000-times-good-night-starring-juliette-binoche.html\n"
     ]
    }
   ],
   "source": [
    "print(df_test['url'][3])"
   ]
  },
  {
   "cell_type": "code",
   "execution_count": 53,
   "metadata": {},
   "outputs": [
    {
     "name": "stdout",
     "output_type": "stream",
     "text": [
      "Heroic messenger or adrenaline addict? Truth teller or vulture? In “1,000 Times Good Night,” Rebecca (Juliette Binoche), a celebrated, morally self-righteous war photographer hooked on risk-taking, leads two lives that are in continual conflict.\n",
      "Between grueling assignments in which she faces death by venturing into the heart of the fray, camera in hand, Rebecca returns to a picture-perfect existence at her home on the Irish seacoast. She is married to Marcus (Nikolaj Coster-Waldau, from “Game of Thrones”), a dashing marine biologist who frets every time she departs for a war front. They have two daughters; the elder, Stephanie (Lauryn Canny), is a teenager and a precociously talented artist.\n",
      "These glossily photographed domestic interludes resemble a high-end magazine spread in which the camera slavers over images of virtuous, beautiful people savoring the good life. You have the impression that, to a degree, Rebecca’s hazardous work is a form of atonement for good fortune that she feels she doesn’t deserve.\n",
      "The character is a stand-in for the film’s Norwegian director, Erik Poppe, a former photojournalist who, in a statement, recalls his thinking in that earlier career: “I wanted to tell my readers all over the world, ‘This is what you should be concerned about.’ ” My skeptical retort to that in today’s hyperactive media culture, in which more pictures of horror are spread than can possibly be assimilated, amounts to four words: “Good luck with that.”\n",
      "As the movie begins, Rebecca, while working undercover on a story about life inside the Taliban, is snapping pictures of explosives being strapped onto a female suicide bomber by other women. The screenplay, by Harald Rosenlow Eeg, implicitly compares Rebecca’s willingness to die for her work with the women’s embrace of sacrifice for a religious cause.\n",
      "Rebecca is so avid to be at the center of the action that she rides in the car carrying the bomber into the heart of the Afghan capital. After hurriedly exiting on the street, she can’t resist taking one more shot. When the police notice, the bomb is prematurely detonated and Rebecca, who later blames herself, is seriously injured. The scene brings up the subject of how a photojournalist’s presence can shape events. Her guilty conscience is no palliative for lives lost.\n",
      "Rebecca, who suffers a punctured lung, returns home. When Marcus insists she stop covering wars, she halfheartedly agrees. The movie brings in, then wisely drops, a half-baked subplot about possible government censorship of photojournalists.\n",
      "What makes “1,000 Times Good Night” more than a dramatic essay on wartime journalism is Ms. Binoche’s wrenchingly honest portrayal of a woman of conscience driven by a mixture of guilt, nobility and self-importance, reckoning belatedly with her destructive impulses. Her final challenge is a trip with Steph to the Kakuma refugee camp in Kenya to help her daughter gather material for a school project on Africa. On a journey that she is assured involves no risk, a surprise attack on the camp puts them in harm’s way, and Rebecca disobeys orders and compulsively rushes into the melee.\n",
      "Rebecca has already explained to her daughter that she is gripped by an unassuageable anger. Even when Ms. Binoche smiles, it registers as a shadow of sorrow on the face of someone who has seen too much of the world’s horrors to forget them. She is one of a few screen actors who can convey multiple conflicting emotions in a single glance. With an astonishing transparency, she disappears into the truth of her characters.\n",
      "That truth can be ugly. When Rebecca is shown crouching over a fresh corpse and aiming her camera, she suggests nothing so much as a ravenous bird of prey.\n"
     ]
    }
   ],
   "source": [
    "print(get_reviewtext(df_test['url'][3]))"
   ]
  },
  {
   "cell_type": "markdown",
   "metadata": {},
   "source": [
    "I perform sentiment analysis on the review text. The average sentiment is slightly negative."
   ]
  },
  {
   "cell_type": "code",
   "execution_count": 54,
   "metadata": {},
   "outputs": [
    {
     "data": {
      "text/plain": [
       "-0.023064250411861616"
      ]
     },
     "execution_count": 54,
     "metadata": {},
     "output_type": "execute_result"
    }
   ],
   "source": [
    "sentiment_norm(get_reviewtext(df_test.at[3,'url']))"
   ]
  },
  {
   "cell_type": "markdown",
   "metadata": {},
   "source": [
    "Lastly, I calculate the sentiment for each movie in the dataframe with a for-loop. The for-loop is similar to the previous for-loop that adds a column with the url."
   ]
  },
  {
   "cell_type": "code",
   "execution_count": 55,
   "metadata": {},
   "outputs": [],
   "source": [
    "y=len(df_test['link']\n",
    "for x in range(0,y):\n",
    "    df_test.at[x,'sentiment']=sentiment_norm(get_reviewtext(df_test.at[x,'url']))"
   ]
  },
  {
   "cell_type": "markdown",
   "metadata": {},
   "source": [
    "The loop works correctly."
   ]
  },
  {
   "cell_type": "code",
   "execution_count": 56,
   "metadata": {},
   "outputs": [
    {
     "data": {
      "text/html": [
       "<div>\n",
       "<style scoped>\n",
       "    .dataframe tbody tr th:only-of-type {\n",
       "        vertical-align: middle;\n",
       "    }\n",
       "\n",
       "    .dataframe tbody tr th {\n",
       "        vertical-align: top;\n",
       "    }\n",
       "\n",
       "    .dataframe thead th {\n",
       "        text-align: right;\n",
       "    }\n",
       "</style>\n",
       "<table border=\"1\" class=\"dataframe\">\n",
       "  <thead>\n",
       "    <tr style=\"text-align: right;\">\n",
       "      <th></th>\n",
       "      <th>byline</th>\n",
       "      <th>critics_pick</th>\n",
       "      <th>date_updated</th>\n",
       "      <th>display_title</th>\n",
       "      <th>headline</th>\n",
       "      <th>link</th>\n",
       "      <th>mpaa_rating</th>\n",
       "      <th>multimedia</th>\n",
       "      <th>opening_date</th>\n",
       "      <th>publication_date</th>\n",
       "      <th>summary_short</th>\n",
       "      <th>url</th>\n",
       "      <th>sentiment</th>\n",
       "    </tr>\n",
       "  </thead>\n",
       "  <tbody>\n",
       "    <tr>\n",
       "      <th>0</th>\n",
       "      <td>JANET MASLIN</td>\n",
       "      <td>0</td>\n",
       "      <td>2017-11-02 04:16:08</td>\n",
       "      <td>'Night Mother</td>\n",
       "      <td>NIGHT, MOTHER (MOVIE)</td>\n",
       "      <td>{'type': 'article', 'url': 'http://www.nytimes.com/1986/09/12/movies/film-sissy-spacek-in-night-mother.html', 'suggested_link_text': 'Read the New York Times Review of 'Night Mother'}</td>\n",
       "      <td>PG-13</td>\n",
       "      <td>None</td>\n",
       "      <td>None</td>\n",
       "      <td>1986-09-12</td>\n",
       "      <td>Talky and tedious. Camera skewers Norman's Pulitzer play about suicide-bent daughter.</td>\n",
       "      <td>http://www.nytimes.com/1986/09/12/movies/film-sissy-spacek-in-night-mother.html</td>\n",
       "      <td>-0.031763</td>\n",
       "    </tr>\n",
       "    <tr>\n",
       "      <th>1</th>\n",
       "      <td>Janet Maslin</td>\n",
       "      <td>1</td>\n",
       "      <td>2017-11-02 04:17:36</td>\n",
       "      <td>Round Midnight</td>\n",
       "      <td>ROUND MIDNIGHT (MOVIE)</td>\n",
       "      <td>{'type': 'article', 'url': 'http://www.nytimes.com/1986/09/30/movies/film-festival-dexter-gordon-stars-in-round-midnight.html', 'suggested_link_text': 'Read the New York Times Review of Round Midnight'}</td>\n",
       "      <td>R</td>\n",
       "      <td>None</td>\n",
       "      <td>1986-10-03</td>\n",
       "      <td>1986-09-30</td>\n",
       "      <td>American expatriate jazz musician and idolizing young Frenchman, Paris, 1959. Effective drama, marvelous music.</td>\n",
       "      <td>http://www.nytimes.com/1986/09/30/movies/film-festival-dexter-gordon-stars-in-round-midnight.html</td>\n",
       "      <td>0.057368</td>\n",
       "    </tr>\n",
       "    <tr>\n",
       "      <th>2</th>\n",
       "      <td>NEIL GENZLINGER</td>\n",
       "      <td>0</td>\n",
       "      <td>2017-11-02 04:18:26</td>\n",
       "      <td>1 Night</td>\n",
       "      <td>Review: In ‘1 Night,’ a Hotel, 2 Couples, a Bad Prom and a Reckoning</td>\n",
       "      <td>{'type': 'article', 'url': 'http://www.nytimes.com/2017/02/09/movies/1-night-review-isabelle-fuhrman.html', 'suggested_link_text': 'Read the New York Times Review of 1 Night'}</td>\n",
       "      <td></td>\n",
       "      <td>{'type': 'mediumThreeByTwo210', 'src': 'https://static01.nyt.com/images/2017/02/10/arts/10ONENIGHT1/10ONENIGHT1-mediumThreeByTwo210.jpg', 'width': 210, 'height': 140}</td>\n",
       "      <td>2017-02-10</td>\n",
       "      <td>2017-02-09</td>\n",
       "      <td>This debut feature by Minhal Baig has two high school students, a couple in their 30s and a dash of charm.</td>\n",
       "      <td>http://www.nytimes.com/2017/02/09/movies/1-night-review-isabelle-fuhrman.html</td>\n",
       "      <td>0.019048</td>\n",
       "    </tr>\n",
       "  </tbody>\n",
       "</table>\n",
       "</div>"
      ],
      "text/plain": [
       "            byline  critics_pick         date_updated   display_title  \\\n",
       "0     JANET MASLIN             0  2017-11-02 04:16:08   'Night Mother   \n",
       "1     Janet Maslin             1  2017-11-02 04:17:36  Round Midnight   \n",
       "2  NEIL GENZLINGER             0  2017-11-02 04:18:26         1 Night   \n",
       "\n",
       "                                                               headline  \\\n",
       "0                                                 NIGHT, MOTHER (MOVIE)   \n",
       "1                                                ROUND MIDNIGHT (MOVIE)   \n",
       "2  Review: In ‘1 Night,’ a Hotel, 2 Couples, a Bad Prom and a Reckoning   \n",
       "\n",
       "                                                                                                                                                                                                         link  \\\n",
       "0                     {'type': 'article', 'url': 'http://www.nytimes.com/1986/09/12/movies/film-sissy-spacek-in-night-mother.html', 'suggested_link_text': 'Read the New York Times Review of 'Night Mother'}   \n",
       "1  {'type': 'article', 'url': 'http://www.nytimes.com/1986/09/30/movies/film-festival-dexter-gordon-stars-in-round-midnight.html', 'suggested_link_text': 'Read the New York Times Review of Round Midnight'}   \n",
       "2                             {'type': 'article', 'url': 'http://www.nytimes.com/2017/02/09/movies/1-night-review-isabelle-fuhrman.html', 'suggested_link_text': 'Read the New York Times Review of 1 Night'}   \n",
       "\n",
       "  mpaa_rating  \\\n",
       "0       PG-13   \n",
       "1           R   \n",
       "2               \n",
       "\n",
       "                                                                                                                                                               multimedia  \\\n",
       "0                                                                                                                                                                    None   \n",
       "1                                                                                                                                                                    None   \n",
       "2  {'type': 'mediumThreeByTwo210', 'src': 'https://static01.nyt.com/images/2017/02/10/arts/10ONENIGHT1/10ONENIGHT1-mediumThreeByTwo210.jpg', 'width': 210, 'height': 140}   \n",
       "\n",
       "  opening_date publication_date  \\\n",
       "0         None       1986-09-12   \n",
       "1   1986-10-03       1986-09-30   \n",
       "2   2017-02-10       2017-02-09   \n",
       "\n",
       "                                                                                                     summary_short  \\\n",
       "0                            Talky and tedious. Camera skewers Norman's Pulitzer play about suicide-bent daughter.   \n",
       "1  American expatriate jazz musician and idolizing young Frenchman, Paris, 1959. Effective drama, marvelous music.   \n",
       "2       This debut feature by Minhal Baig has two high school students, a couple in their 30s and a dash of charm.   \n",
       "\n",
       "                                                                                                 url  \\\n",
       "0                    http://www.nytimes.com/1986/09/12/movies/film-sissy-spacek-in-night-mother.html   \n",
       "1  http://www.nytimes.com/1986/09/30/movies/film-festival-dexter-gordon-stars-in-round-midnight.html   \n",
       "2                      http://www.nytimes.com/2017/02/09/movies/1-night-review-isabelle-fuhrman.html   \n",
       "\n",
       "   sentiment  \n",
       "0  -0.031763  \n",
       "1   0.057368  \n",
       "2   0.019048  "
      ]
     },
     "execution_count": 56,
     "metadata": {},
     "output_type": "execute_result"
    }
   ],
   "source": [
    "df_test.head(3)"
   ]
  },
  {
   "cell_type": "markdown",
   "metadata": {},
   "source": [
    "### Case study to add the review text"
   ]
  },
  {
   "cell_type": "markdown",
   "metadata": {},
   "source": [
    "The last case study is creating a new column with the review text in the dataframe. I again apply a for-loop."
   ]
  },
  {
   "cell_type": "code",
   "execution_count": 57,
   "metadata": {},
   "outputs": [],
   "source": [
    "y=len(df_test['link'])\n",
    "for x in range(0,y):\n",
    "    df_test.at[x,'text']=get_reviewtext(df_test.at[x,'url'])"
   ]
  },
  {
   "cell_type": "markdown",
   "metadata": {},
   "source": [
    "The loop correctly adds a column with the review text."
   ]
  },
  {
   "cell_type": "code",
   "execution_count": 58,
   "metadata": {},
   "outputs": [
    {
     "data": {
      "text/html": [
       "<div>\n",
       "<style scoped>\n",
       "    .dataframe tbody tr th:only-of-type {\n",
       "        vertical-align: middle;\n",
       "    }\n",
       "\n",
       "    .dataframe tbody tr th {\n",
       "        vertical-align: top;\n",
       "    }\n",
       "\n",
       "    .dataframe thead th {\n",
       "        text-align: right;\n",
       "    }\n",
       "</style>\n",
       "<table border=\"1\" class=\"dataframe\">\n",
       "  <thead>\n",
       "    <tr style=\"text-align: right;\">\n",
       "      <th></th>\n",
       "      <th>byline</th>\n",
       "      <th>critics_pick</th>\n",
       "      <th>date_updated</th>\n",
       "      <th>display_title</th>\n",
       "      <th>headline</th>\n",
       "      <th>link</th>\n",
       "      <th>mpaa_rating</th>\n",
       "      <th>multimedia</th>\n",
       "      <th>opening_date</th>\n",
       "      <th>publication_date</th>\n",
       "      <th>summary_short</th>\n",
       "      <th>url</th>\n",
       "      <th>sentiment</th>\n",
       "      <th>text</th>\n",
       "    </tr>\n",
       "  </thead>\n",
       "  <tbody>\n",
       "    <tr>\n",
       "      <th>0</th>\n",
       "      <td>JANET MASLIN</td>\n",
       "      <td>0</td>\n",
       "      <td>2017-11-02 04:16:08</td>\n",
       "      <td>'Night Mother</td>\n",
       "      <td>NIGHT, MOTHER (MOVIE)</td>\n",
       "      <td>{'type': 'article', 'url': 'http://www.nytimes.com/1986/09/12/movies/film-sissy-spacek-in-night-mother.html', 'suggested_link_text': 'Read the New York Times Review of 'Night Mother'}</td>\n",
       "      <td>PG-13</td>\n",
       "      <td>None</td>\n",
       "      <td>None</td>\n",
       "      <td>1986-09-12</td>\n",
       "      <td>Talky and tedious. Camera skewers Norman's Pulitzer play about suicide-bent daughter.</td>\n",
       "      <td>http://www.nytimes.com/1986/09/12/movies/film-sissy-spacek-in-night-mother.html</td>\n",
       "      <td>-0.031763</td>\n",
       "      <td>THE crucial part of the Broadway set for Marsha Norman's '' 'night, Mother'' was ''a point of both threat and promise,'' according to Miss Norman's stage directions, ''an ordinary door that opens onto absolute nothingness.'' It was through this doorway, centered between the kitchen and living room of an otherwise unremarkable house, that one of the play's two characters planned to make an irreversible passage.Only moments into the play, Jessie Cates, a young woman living alone with her garrulous, dependent mother, announced her intention to barricade herself behind her bedroom door and shoot herself later that same evening. She appeared resolute in her determination. And so great was Miss Norman's virtuosity that the play's apparently pre-ordained conclusion actually generated suspense: about the rationale for such a drastic step, the life leading up to it, the depths of character that would be revealed as the evening progressed. '' 'Night, Mother'' broke the most basic rules, but ...</td>\n",
       "    </tr>\n",
       "    <tr>\n",
       "      <th>1</th>\n",
       "      <td>Janet Maslin</td>\n",
       "      <td>1</td>\n",
       "      <td>2017-11-02 04:17:36</td>\n",
       "      <td>Round Midnight</td>\n",
       "      <td>ROUND MIDNIGHT (MOVIE)</td>\n",
       "      <td>{'type': 'article', 'url': 'http://www.nytimes.com/1986/09/30/movies/film-festival-dexter-gordon-stars-in-round-midnight.html', 'suggested_link_text': 'Read the New York Times Review of Round Midnight'}</td>\n",
       "      <td>R</td>\n",
       "      <td>None</td>\n",
       "      <td>1986-10-03</td>\n",
       "      <td>1986-09-30</td>\n",
       "      <td>American expatriate jazz musician and idolizing young Frenchman, Paris, 1959. Effective drama, marvelous music.</td>\n",
       "      <td>http://www.nytimes.com/1986/09/30/movies/film-festival-dexter-gordon-stars-in-round-midnight.html</td>\n",
       "      <td>0.057368</td>\n",
       "      <td>NO actor could do what the great jazz saxophonist Dexter Gordon does in '' 'Round Midnight,'' Bertrand Tavernier's glowing tribute to the golden age of be-bop. Mr. Gordon, who stars in the film as an expatriate American named Dale Turner, becomes the very embodiment of the music itself. It's in his heavy-lidded eyes, in his hoarse, smoky voice, in the way his long, graceful fingers seem to be playing silent accompaniment to his conversation. It's even in the way he habitually calls anyone or anything ''Lady,'' as in ''Well, Lady Sweets, are you ready for tonight?'' In that instance, he's addressing his saxophone.The film, with its lovely, elegiac pacing and its tremendous depth of feeling, was, according to an opening title, ''inspired by incidents in the lives of Bud Powell and Francis Paudras,'' the American pianist and the French jazz enthusiast who befriended him. Drifting easily between French and English, it takes place largely in Paris in 1959, among the expatriate jazz musi...</td>\n",
       "    </tr>\n",
       "  </tbody>\n",
       "</table>\n",
       "</div>"
      ],
      "text/plain": [
       "         byline  critics_pick         date_updated   display_title  \\\n",
       "0  JANET MASLIN             0  2017-11-02 04:16:08   'Night Mother   \n",
       "1  Janet Maslin             1  2017-11-02 04:17:36  Round Midnight   \n",
       "\n",
       "                 headline  \\\n",
       "0   NIGHT, MOTHER (MOVIE)   \n",
       "1  ROUND MIDNIGHT (MOVIE)   \n",
       "\n",
       "                                                                                                                                                                                                         link  \\\n",
       "0                     {'type': 'article', 'url': 'http://www.nytimes.com/1986/09/12/movies/film-sissy-spacek-in-night-mother.html', 'suggested_link_text': 'Read the New York Times Review of 'Night Mother'}   \n",
       "1  {'type': 'article', 'url': 'http://www.nytimes.com/1986/09/30/movies/film-festival-dexter-gordon-stars-in-round-midnight.html', 'suggested_link_text': 'Read the New York Times Review of Round Midnight'}   \n",
       "\n",
       "  mpaa_rating multimedia opening_date publication_date  \\\n",
       "0       PG-13       None         None       1986-09-12   \n",
       "1           R       None   1986-10-03       1986-09-30   \n",
       "\n",
       "                                                                                                     summary_short  \\\n",
       "0                            Talky and tedious. Camera skewers Norman's Pulitzer play about suicide-bent daughter.   \n",
       "1  American expatriate jazz musician and idolizing young Frenchman, Paris, 1959. Effective drama, marvelous music.   \n",
       "\n",
       "                                                                                                 url  \\\n",
       "0                    http://www.nytimes.com/1986/09/12/movies/film-sissy-spacek-in-night-mother.html   \n",
       "1  http://www.nytimes.com/1986/09/30/movies/film-festival-dexter-gordon-stars-in-round-midnight.html   \n",
       "\n",
       "   sentiment  \\\n",
       "0  -0.031763   \n",
       "1   0.057368   \n",
       "\n",
       "                                                                                                                                                                                                                                                                                                                                                                                                                                                                                                                                                                                                                                                                                                                                                                                                                                                                                                                                                                                                                                      text  \n",
       "0  THE crucial part of the Broadway set for Marsha Norman's '' 'night, Mother'' was ''a point of both threat and promise,'' according to Miss Norman's stage directions, ''an ordinary door that opens onto absolute nothingness.'' It was through this doorway, centered between the kitchen and living room of an otherwise unremarkable house, that one of the play's two characters planned to make an irreversible passage.Only moments into the play, Jessie Cates, a young woman living alone with her garrulous, dependent mother, announced her intention to barricade herself behind her bedroom door and shoot herself later that same evening. She appeared resolute in her determination. And so great was Miss Norman's virtuosity that the play's apparently pre-ordained conclusion actually generated suspense: about the rationale for such a drastic step, the life leading up to it, the depths of character that would be revealed as the evening progressed. '' 'Night, Mother'' broke the most basic rules, but ...  \n",
       "1  NO actor could do what the great jazz saxophonist Dexter Gordon does in '' 'Round Midnight,'' Bertrand Tavernier's glowing tribute to the golden age of be-bop. Mr. Gordon, who stars in the film as an expatriate American named Dale Turner, becomes the very embodiment of the music itself. It's in his heavy-lidded eyes, in his hoarse, smoky voice, in the way his long, graceful fingers seem to be playing silent accompaniment to his conversation. It's even in the way he habitually calls anyone or anything ''Lady,'' as in ''Well, Lady Sweets, are you ready for tonight?'' In that instance, he's addressing his saxophone.The film, with its lovely, elegiac pacing and its tremendous depth of feeling, was, according to an opening title, ''inspired by incidents in the lives of Bud Powell and Francis Paudras,'' the American pianist and the French jazz enthusiast who befriended him. Drifting easily between French and English, it takes place largely in Paris in 1959, among the expatriate jazz musi...  "
      ]
     },
     "execution_count": 58,
     "metadata": {},
     "output_type": "execute_result"
    }
   ],
   "source": [
    "df_test.head(2)"
   ]
  },
  {
   "cell_type": "markdown",
   "metadata": {},
   "source": [
    "### Function to add url, text and sentiment to dataframe obtained from the API"
   ]
  },
  {
   "cell_type": "markdown",
   "metadata": {},
   "source": [
    "This section combines the three for-loops I created in the case studies into a single funtion. In this way I enrich the search result of the API with a separate url column, a sentiment and the review text."
   ]
  },
  {
   "cell_type": "code",
   "execution_count": 59,
   "metadata": {},
   "outputs": [],
   "source": [
    "def df_withsentiments(keyword,order):\n",
    "    df_test=get_80movies(keyword,order)\n",
    "    y=len(df_test['link'])\n",
    "    for x in range(0,y):\n",
    "        df_test.at[x,'url']=df_test.at[x,'link'][\"url\"]\n",
    "        df_test.at[x,'sentiment']=sentiment_norm(get_reviewtext(df_test.at[x,'url']))\n",
    "        df_test.at[x,'text']=get_reviewtext(df_test.at[x,'url'])\n",
    "    return df_test"
   ]
  },
  {
   "cell_type": "code",
   "execution_count": 60,
   "metadata": {},
   "outputs": [
    {
     "data": {
      "text/html": [
       "<div>\n",
       "<style scoped>\n",
       "    .dataframe tbody tr th:only-of-type {\n",
       "        vertical-align: middle;\n",
       "    }\n",
       "\n",
       "    .dataframe tbody tr th {\n",
       "        vertical-align: top;\n",
       "    }\n",
       "\n",
       "    .dataframe thead th {\n",
       "        text-align: right;\n",
       "    }\n",
       "</style>\n",
       "<table border=\"1\" class=\"dataframe\">\n",
       "  <thead>\n",
       "    <tr style=\"text-align: right;\">\n",
       "      <th></th>\n",
       "      <th>byline</th>\n",
       "      <th>critics_pick</th>\n",
       "      <th>date_updated</th>\n",
       "      <th>display_title</th>\n",
       "      <th>headline</th>\n",
       "      <th>link</th>\n",
       "      <th>mpaa_rating</th>\n",
       "      <th>multimedia</th>\n",
       "      <th>opening_date</th>\n",
       "      <th>publication_date</th>\n",
       "      <th>summary_short</th>\n",
       "      <th>url</th>\n",
       "      <th>sentiment</th>\n",
       "      <th>text</th>\n",
       "    </tr>\n",
       "  </thead>\n",
       "  <tbody>\n",
       "    <tr>\n",
       "      <th>0</th>\n",
       "      <td>STEPHEN HOLDEN</td>\n",
       "      <td>0</td>\n",
       "      <td>2017-11-02 04:16:10</td>\n",
       "      <td>A Captive in the Land</td>\n",
       "      <td>CAPTIVE IN THE LAND, A (MOVIE)</td>\n",
       "      <td>{'type': 'article', 'url': 'http://www.nytimes.com/1993/01/15/movies/review-film-discovering-brotherhood-in-the-arctic-wilderness.html', 'suggested_link_text': 'Read the New York Times Review of A Captive in the Land'}</td>\n",
       "      <td></td>\n",
       "      <td>None</td>\n",
       "      <td>None</td>\n",
       "      <td>1993-01-15</td>\n",
       "      <td></td>\n",
       "      <td>http://www.nytimes.com/1993/01/15/movies/review-film-discovering-brotherhood-in-the-arctic-wilderness.html</td>\n",
       "      <td>0.023026</td>\n",
       "      <td>John Berry's film \"A Captive in the Land\" is the perfect winter movie for people who can't get enough cold, snow, darkness and gloom. Set in northeast Siberia near the Arctic Circle, where much of it was filmed, it lards a taut, Jack London-like survival story with a sticky dollop of humanistic uplift.When an American meteorologist (Sam Waterston), bumming a ride in an R.A.F. transport plane over the polar ice cap, spots some aircraft wreckage, he rashly insists on parachuting down with first aid. Upon landing, he finds only one survivor, a Soviet airman (Aleksandr Potapov) who is too badly injured to walk. Once they repair to the shell of the crashed plane, a storm closes in and shifts the position of the ice cap on which they are situated, all but dashing their chances of rescue. Eventually they give up hope of being found, and using the sun to guide them, set out on a desperate journey through the Arctic wilderness toward civilizationHad it stuck to the stark physical realities ...</td>\n",
       "    </tr>\n",
       "    <tr>\n",
       "      <th>1</th>\n",
       "      <td>CARYN JAMES</td>\n",
       "      <td>0</td>\n",
       "      <td>2017-11-02 04:16:09</td>\n",
       "      <td>Water, Wind, Sand</td>\n",
       "      <td>WATER, WIND, SAND (MOVIE)</td>\n",
       "      <td>{'type': 'article', 'url': 'http://www.nytimes.com/1990/03/17/movies/film-festival-a-speck-of-mankind-in-the-boundless-sands.html', 'suggested_link_text': 'Read the New York Times Review of Water, Wind, Sand'}</td>\n",
       "      <td></td>\n",
       "      <td>None</td>\n",
       "      <td>None</td>\n",
       "      <td>1990-03-17</td>\n",
       "      <td></td>\n",
       "      <td>http://www.nytimes.com/1990/03/17/movies/film-festival-a-speck-of-mankind-in-the-boundless-sands.html</td>\n",
       "      <td>0.004144</td>\n",
       "      <td>An almost-silent film shot in the violent sandstorms of the Iranian desert, ''Water, Wind and Sand'' fulfills one purpose of the New Directors/New Films series: it is stylistically fresh and daring. The story begins when an adolescent boy returns from working in a distant city and learns that his family has left its drought-stricken village. Passing by corpses of sheep and cattle, he sets out to find his family and discovers the brutal need to fight hunger, thirst and isolation.This meandering tale scarcely acknowledges contemporary society or politics, relying instead on a classic quest motif more common in Eastern and African films than those from the West. And though it was written and directed by Amir Naderi, an Iranian who has lived in the United States for 15 years, the film could never be confused with American commercial movies or even urbane European imports.That unfamiliarity is an asset and a problem. While the work offers a chance to discover an adept film maker, 70 min...</td>\n",
       "    </tr>\n",
       "    <tr>\n",
       "      <th>2</th>\n",
       "      <td>Vincent Canby</td>\n",
       "      <td>0</td>\n",
       "      <td>2017-11-02 04:17:35</td>\n",
       "      <td>Acqua E Sapone</td>\n",
       "      <td>ACQUA E SAPONE (MOVIE)</td>\n",
       "      <td>{'type': 'article', 'url': 'http://www.nytimes.com/1985/10/18/movies/screen-comedy-from-italy.html', 'suggested_link_text': 'Read the New York Times Review of Acqua E Sapone'}</td>\n",
       "      <td>PG</td>\n",
       "      <td>None</td>\n",
       "      <td>1985-10-18</td>\n",
       "      <td>1985-10-18</td>\n",
       "      <td></td>\n",
       "      <td>http://www.nytimes.com/1985/10/18/movies/screen-comedy-from-italy.html</td>\n",
       "      <td>0.045070</td>\n",
       "      <td>''ACQUA E SAPONE'' (Water and Soap), which opens today at the Embassy 72d Street Theater, is a sentimental little Italian comedy that self-destructs - it hangs itself by its own heartstrings.It's about Rolando (Carlo Verdone), a mid-thirtyish, moon-faced teacher of English, a fellow with a tendency toward portliness and a job as a janitor in a parochial school for girls. He's the sort of man who still lives at home with his doting granny and who, when a pretty young woman offers to make love to him, says with humility, ''Why me? I'm just a nobody.''This occurs after Rolando, desperate to work, disguises himself as a priest to obtain a job as tutor to Sandy (Natasha Hovey), a beautiful, teenage American model on an assignment in Rome. In spite of the presense of her possessive mother, the sheltered, overworked Sandy falls in love with her tubby teacher, which isn't easy to believe.It also isn't easy to believe Mr. Verdone as modest and innocent, especially when you realize that, in ...</td>\n",
       "    </tr>\n",
       "  </tbody>\n",
       "</table>\n",
       "</div>"
      ],
      "text/plain": [
       "           byline  critics_pick         date_updated          display_title  \\\n",
       "0  STEPHEN HOLDEN             0  2017-11-02 04:16:10  A Captive in the Land   \n",
       "1     CARYN JAMES             0  2017-11-02 04:16:09      Water, Wind, Sand   \n",
       "2   Vincent Canby             0  2017-11-02 04:17:35         Acqua E Sapone   \n",
       "\n",
       "                         headline  \\\n",
       "0  CAPTIVE IN THE LAND, A (MOVIE)   \n",
       "1       WATER, WIND, SAND (MOVIE)   \n",
       "2          ACQUA E SAPONE (MOVIE)   \n",
       "\n",
       "                                                                                                                                                                                                                         link  \\\n",
       "0  {'type': 'article', 'url': 'http://www.nytimes.com/1993/01/15/movies/review-film-discovering-brotherhood-in-the-arctic-wilderness.html', 'suggested_link_text': 'Read the New York Times Review of A Captive in the Land'}   \n",
       "1           {'type': 'article', 'url': 'http://www.nytimes.com/1990/03/17/movies/film-festival-a-speck-of-mankind-in-the-boundless-sands.html', 'suggested_link_text': 'Read the New York Times Review of Water, Wind, Sand'}   \n",
       "2                                             {'type': 'article', 'url': 'http://www.nytimes.com/1985/10/18/movies/screen-comedy-from-italy.html', 'suggested_link_text': 'Read the New York Times Review of Acqua E Sapone'}   \n",
       "\n",
       "  mpaa_rating multimedia opening_date publication_date summary_short  \\\n",
       "0                   None         None       1993-01-15                 \n",
       "1                   None         None       1990-03-17                 \n",
       "2          PG       None   1985-10-18       1985-10-18                 \n",
       "\n",
       "                                                                                                          url  \\\n",
       "0  http://www.nytimes.com/1993/01/15/movies/review-film-discovering-brotherhood-in-the-arctic-wilderness.html   \n",
       "1       http://www.nytimes.com/1990/03/17/movies/film-festival-a-speck-of-mankind-in-the-boundless-sands.html   \n",
       "2                                      http://www.nytimes.com/1985/10/18/movies/screen-comedy-from-italy.html   \n",
       "\n",
       "   sentiment  \\\n",
       "0   0.023026   \n",
       "1   0.004144   \n",
       "2   0.045070   \n",
       "\n",
       "                                                                                                                                                                                                                                                                                                                                                                                                                                                                                                                                                                                                                                                                                                                                                                                                                                                                                                                                                                                                                                      text  \n",
       "0  John Berry's film \"A Captive in the Land\" is the perfect winter movie for people who can't get enough cold, snow, darkness and gloom. Set in northeast Siberia near the Arctic Circle, where much of it was filmed, it lards a taut, Jack London-like survival story with a sticky dollop of humanistic uplift.When an American meteorologist (Sam Waterston), bumming a ride in an R.A.F. transport plane over the polar ice cap, spots some aircraft wreckage, he rashly insists on parachuting down with first aid. Upon landing, he finds only one survivor, a Soviet airman (Aleksandr Potapov) who is too badly injured to walk. Once they repair to the shell of the crashed plane, a storm closes in and shifts the position of the ice cap on which they are situated, all but dashing their chances of rescue. Eventually they give up hope of being found, and using the sun to guide them, set out on a desperate journey through the Arctic wilderness toward civilizationHad it stuck to the stark physical realities ...  \n",
       "1  An almost-silent film shot in the violent sandstorms of the Iranian desert, ''Water, Wind and Sand'' fulfills one purpose of the New Directors/New Films series: it is stylistically fresh and daring. The story begins when an adolescent boy returns from working in a distant city and learns that his family has left its drought-stricken village. Passing by corpses of sheep and cattle, he sets out to find his family and discovers the brutal need to fight hunger, thirst and isolation.This meandering tale scarcely acknowledges contemporary society or politics, relying instead on a classic quest motif more common in Eastern and African films than those from the West. And though it was written and directed by Amir Naderi, an Iranian who has lived in the United States for 15 years, the film could never be confused with American commercial movies or even urbane European imports.That unfamiliarity is an asset and a problem. While the work offers a chance to discover an adept film maker, 70 min...  \n",
       "2  ''ACQUA E SAPONE'' (Water and Soap), which opens today at the Embassy 72d Street Theater, is a sentimental little Italian comedy that self-destructs - it hangs itself by its own heartstrings.It's about Rolando (Carlo Verdone), a mid-thirtyish, moon-faced teacher of English, a fellow with a tendency toward portliness and a job as a janitor in a parochial school for girls. He's the sort of man who still lives at home with his doting granny and who, when a pretty young woman offers to make love to him, says with humility, ''Why me? I'm just a nobody.''This occurs after Rolando, desperate to work, disguises himself as a priest to obtain a job as tutor to Sandy (Natasha Hovey), a beautiful, teenage American model on an assignment in Rome. In spite of the presense of her possessive mother, the sheltered, overworked Sandy falls in love with her tubby teacher, which isn't easy to believe.It also isn't easy to believe Mr. Verdone as modest and innocent, especially when you realize that, in ...  "
      ]
     },
     "execution_count": 60,
     "metadata": {},
     "output_type": "execute_result"
    }
   ],
   "source": [
    "trail=df_withsentiments('water','by-title')\n",
    "trail.head(3)"
   ]
  },
  {
   "cell_type": "markdown",
   "metadata": {},
   "source": [
    "## PART 5 PREDICTION"
   ]
  },
  {
   "cell_type": "markdown",
   "metadata": {},
   "source": [
    "The last part of my project is to predict whether the movie is a critics pick or not. The critics pick is a binary variable that indicates whether the critic recommends the movie or not. First I construct my training and test set. Next, I conduct a small exploratory analysis. Since there is a class imbalance, I upsample the critics picks. Further, the features entail an array of dummy variables of words. This is created with CountVectorizer. TF-IDF is also applied to give smart weights to the words. Futher I fit logistic regression, k-nearest neighbors and multinomial naive bayes. The parameters of the algorithms are optimalized with GridSearch. Each model is evaluated on the test set and compared to the previous models."
   ]
  },
  {
   "cell_type": "markdown",
   "metadata": {},
   "source": [
    "### Construction of the dataset"
   ]
  },
  {
   "cell_type": "markdown",
   "metadata": {},
   "source": [
    "First, I need to contstruct a training set in order to train my model. I will use the API with the word 'man'. In addition, I want more than 80 movies in my training set. Therefore, I alter the function with a higher 'offset' parameter."
   ]
  },
  {
   "cell_type": "code",
   "execution_count": 61,
   "metadata": {},
   "outputs": [],
   "source": [
    "def get_660movies(keyword,order):\n",
    "    dfs = []\n",
    "    pm=[0,20,40,60,80,100,120,140,160,180,200,220,240,260,280,300,320,340,360,380,400,420,440,460,480,500,520,540,560,580,600,620,640]\n",
    "    for x in pm:\n",
    "        new_df = get_movie(keyword,x,order)    \n",
    "        dfs.append(new_df) \n",
    "        sleep(10)\n",
    "  \n",
    "    df = pd.concat(dfs, ignore_index = True)\n",
    "    return df"
   ]
  },
  {
   "cell_type": "markdown",
   "metadata": {},
   "source": [
    "I also alter my function to get the API dataframe together with the url, sentiment and text. The only thing I am changing is the use of the get_660movies function instead of the get_80movies function."
   ]
  },
  {
   "cell_type": "code",
   "execution_count": 62,
   "metadata": {},
   "outputs": [],
   "source": [
    "def df_660withsentiments(keyword,order):\n",
    "    df_test=get_660movies(keyword,order)\n",
    "    y=len(df_test['link'])\n",
    "    for x in range(0,y):\n",
    "        df_test.at[x,'url']=df_test.at[x,'link'][\"url\"]\n",
    "        df_test.at[x,'sentiment']=sentiment_norm(get_reviewtext(df_test.at[x,'url']))\n",
    "        df_test.at[x,'text']=get_reviewtext(df_test.at[x,'url'])\n",
    "    return df_test"
   ]
  },
  {
   "cell_type": "markdown",
   "metadata": {},
   "source": [
    "I create my dataset."
   ]
  },
  {
   "cell_type": "code",
   "execution_count": 63,
   "metadata": {},
   "outputs": [],
   "source": [
    "dataset=df_660withsentiments('man','by_title')"
   ]
  },
  {
   "cell_type": "markdown",
   "metadata": {},
   "source": [
    "I display the last two movies of my dataset. The dataframe looks to be correct."
   ]
  },
  {
   "cell_type": "code",
   "execution_count": 64,
   "metadata": {},
   "outputs": [
    {
     "data": {
      "text/html": [
       "<div>\n",
       "<style scoped>\n",
       "    .dataframe tbody tr th:only-of-type {\n",
       "        vertical-align: middle;\n",
       "    }\n",
       "\n",
       "    .dataframe tbody tr th {\n",
       "        vertical-align: top;\n",
       "    }\n",
       "\n",
       "    .dataframe thead th {\n",
       "        text-align: right;\n",
       "    }\n",
       "</style>\n",
       "<table border=\"1\" class=\"dataframe\">\n",
       "  <thead>\n",
       "    <tr style=\"text-align: right;\">\n",
       "      <th></th>\n",
       "      <th>byline</th>\n",
       "      <th>critics_pick</th>\n",
       "      <th>date_updated</th>\n",
       "      <th>display_title</th>\n",
       "      <th>headline</th>\n",
       "      <th>link</th>\n",
       "      <th>mpaa_rating</th>\n",
       "      <th>multimedia</th>\n",
       "      <th>opening_date</th>\n",
       "      <th>publication_date</th>\n",
       "      <th>summary_short</th>\n",
       "      <th>url</th>\n",
       "      <th>sentiment</th>\n",
       "      <th>text</th>\n",
       "    </tr>\n",
       "  </thead>\n",
       "  <tbody>\n",
       "    <tr>\n",
       "      <th>658</th>\n",
       "      <td>MANOHLA DARGIS</td>\n",
       "      <td>0</td>\n",
       "      <td>2017-11-02 04:18:17</td>\n",
       "      <td>Monsters University</td>\n",
       "      <td>A College Where the Exams Are Terrifying</td>\n",
       "      <td>{'type': 'article', 'url': 'http://www.nytimes.com/2013/06/21/movies/monsters-university-unfolds-before-monsters-inc.html', 'suggested_link_text': 'Read the New York Times Review of Monsters University'}</td>\n",
       "      <td>G</td>\n",
       "      <td>None</td>\n",
       "      <td>2013-06-21</td>\n",
       "      <td>2013-06-20</td>\n",
       "      <td>Pixar’s “Monsters University” tells the story of how Mike and Sulley of “Monsters Inc.” met, became friends and learned to be really scary.</td>\n",
       "      <td>http://www.nytimes.com/2013/06/21/movies/monsters-university-unfolds-before-monsters-inc.html</td>\n",
       "      <td>0.037158</td>\n",
       "      <td>What are little boy monsters made of? In Pixar’s “Monsters University,” they aren’t made of slugs, snails and puppy dog tails — they’re monstrous versions of those ingredients, only cuter, fuzzier, brighter, wilder and woollier. A stomping, creeping menagerie, they embody a Popsicle-hued rainbow of seeming diversity, from their googly eyes to their hydra heads and sticky tentacles. In this passable prequel to Pixar’s magical 2001 film “Monsters, Inc.,” anything and every being seems possible. Or so believes the young Mike Wazowski (voiced by Noah Johnson and Billy Crystal), who thinks that if he studies hard enough, he too can become one of his world’s Scarers.\\nScarers are the heroic frighteners who, by traveling through literal doors into the human world, are able to terrify children, inspiring the kiddie screams that literally light up the monsters’ world. Among the greatest Scarers is Mike’s B.F.F., the mighty Sulley, a k a James P. Sullivan (John Goodman), a mammoth teal fur b...</td>\n",
       "    </tr>\n",
       "    <tr>\n",
       "      <th>659</th>\n",
       "      <td>NICOLAS RAPOLD</td>\n",
       "      <td>0</td>\n",
       "      <td>2017-11-02 04:16:37</td>\n",
       "      <td>Maniac</td>\n",
       "      <td>The Timid Guy With the Slasher Knife</td>\n",
       "      <td>{'type': 'article', 'url': 'http://www.nytimes.com/2013/06/21/movies/maniac-goes-inside-a-killer-played-by-elijah-wood.html', 'suggested_link_text': 'Read the New York Times Review of Maniac'}</td>\n",
       "      <td>Not Rated</td>\n",
       "      <td>{'type': 'mediumThreeByTwo210', 'src': 'https://static01.nyt.com/images/2013/06/21/arts/21RDP_MANIAC_SPAN/21RDP_MANIAC_SPAN-mediumThreeByTwo210.jpg', 'width': 210, 'height': 140}</td>\n",
       "      <td>None</td>\n",
       "      <td>2013-06-20</td>\n",
       "      <td>Elijah Wood stars as a stalker killer in “Maniac,” a remake of a 1980 thriller.</td>\n",
       "      <td>http://www.nytimes.com/2013/06/21/movies/maniac-goes-inside-a-killer-played-by-elijah-wood.html</td>\n",
       "      <td>-0.079545</td>\n",
       "      <td>Opens on Friday in Manhattan.\\nDirected by Franck Khalfoun\\n1 hour 29 minutes; not rated\\nThe first-person slasher “Maniac” will be hell for anyone who has ever feared murder at the hands of a timid mannequin restorer. Franck Khalfoun’s efficiently grisly remake of William Lustig’s 1980 original of the same title stars Elijah Wood as the delusional, damaged Frank. Living in the back of a little-used store full of dummies and limbs that he talks to (and repairs), he spends his nights stalking and scalping women who are walking home alone.\\nSince the film is shot from Frank’s point of view (à la Robert Montgomery’s “Lady in the Lake”), we glimpse Mr. Wood obliquely through reflections, fantasies and memories of his mother’s obscenely bad parenting. The gimmick traps us in a psychopath’s body, but this is less scary than it could have been because of Mr. Wood’s unimposing presence and delivery. By not centering on the victims, Mr. Khalfoun nearly makes the film about pitying the panic...</td>\n",
       "    </tr>\n",
       "  </tbody>\n",
       "</table>\n",
       "</div>"
      ],
      "text/plain": [
       "             byline  critics_pick         date_updated        display_title  \\\n",
       "658  MANOHLA DARGIS             0  2017-11-02 04:18:17  Monsters University   \n",
       "659  NICOLAS RAPOLD             0  2017-11-02 04:16:37               Maniac   \n",
       "\n",
       "                                      headline  \\\n",
       "658  A College Where the Exams Are Terrifying    \n",
       "659       The Timid Guy With the Slasher Knife   \n",
       "\n",
       "                                                                                                                                                                                                            link  \\\n",
       "658  {'type': 'article', 'url': 'http://www.nytimes.com/2013/06/21/movies/monsters-university-unfolds-before-monsters-inc.html', 'suggested_link_text': 'Read the New York Times Review of Monsters University'}   \n",
       "659             {'type': 'article', 'url': 'http://www.nytimes.com/2013/06/21/movies/maniac-goes-inside-a-killer-played-by-elijah-wood.html', 'suggested_link_text': 'Read the New York Times Review of Maniac'}   \n",
       "\n",
       "    mpaa_rating  \\\n",
       "658           G   \n",
       "659   Not Rated   \n",
       "\n",
       "                                                                                                                                                                             multimedia  \\\n",
       "658                                                                                                                                                                                None   \n",
       "659  {'type': 'mediumThreeByTwo210', 'src': 'https://static01.nyt.com/images/2013/06/21/arts/21RDP_MANIAC_SPAN/21RDP_MANIAC_SPAN-mediumThreeByTwo210.jpg', 'width': 210, 'height': 140}   \n",
       "\n",
       "    opening_date publication_date  \\\n",
       "658   2013-06-21       2013-06-20   \n",
       "659         None       2013-06-20   \n",
       "\n",
       "                                                                                                                                   summary_short  \\\n",
       "658  Pixar’s “Monsters University” tells the story of how Mike and Sulley of “Monsters Inc.” met, became friends and learned to be really scary.   \n",
       "659                                                              Elijah Wood stars as a stalker killer in “Maniac,” a remake of a 1980 thriller.   \n",
       "\n",
       "                                                                                                 url  \\\n",
       "658    http://www.nytimes.com/2013/06/21/movies/monsters-university-unfolds-before-monsters-inc.html   \n",
       "659  http://www.nytimes.com/2013/06/21/movies/maniac-goes-inside-a-killer-played-by-elijah-wood.html   \n",
       "\n",
       "     sentiment  \\\n",
       "658   0.037158   \n",
       "659  -0.079545   \n",
       "\n",
       "                                                                                                                                                                                                                                                                                                                                                                                                                                                                                                                                                                                                                                                                                                                                                                                                                                                                                                                                                                                                                                        text  \n",
       "658  What are little boy monsters made of? In Pixar’s “Monsters University,” they aren’t made of slugs, snails and puppy dog tails — they’re monstrous versions of those ingredients, only cuter, fuzzier, brighter, wilder and woollier. A stomping, creeping menagerie, they embody a Popsicle-hued rainbow of seeming diversity, from their googly eyes to their hydra heads and sticky tentacles. In this passable prequel to Pixar’s magical 2001 film “Monsters, Inc.,” anything and every being seems possible. Or so believes the young Mike Wazowski (voiced by Noah Johnson and Billy Crystal), who thinks that if he studies hard enough, he too can become one of his world’s Scarers.\\nScarers are the heroic frighteners who, by traveling through literal doors into the human world, are able to terrify children, inspiring the kiddie screams that literally light up the monsters’ world. Among the greatest Scarers is Mike’s B.F.F., the mighty Sulley, a k a James P. Sullivan (John Goodman), a mammoth teal fur b...  \n",
       "659  Opens on Friday in Manhattan.\\nDirected by Franck Khalfoun\\n1 hour 29 minutes; not rated\\nThe first-person slasher “Maniac” will be hell for anyone who has ever feared murder at the hands of a timid mannequin restorer. Franck Khalfoun’s efficiently grisly remake of William Lustig’s 1980 original of the same title stars Elijah Wood as the delusional, damaged Frank. Living in the back of a little-used store full of dummies and limbs that he talks to (and repairs), he spends his nights stalking and scalping women who are walking home alone.\\nSince the film is shot from Frank’s point of view (à la Robert Montgomery’s “Lady in the Lake”), we glimpse Mr. Wood obliquely through reflections, fantasies and memories of his mother’s obscenely bad parenting. The gimmick traps us in a psychopath’s body, but this is less scary than it could have been because of Mr. Wood’s unimposing presence and delivery. By not centering on the victims, Mr. Khalfoun nearly makes the film about pitying the panic...  "
      ]
     },
     "execution_count": 64,
     "metadata": {},
     "output_type": "execute_result"
    }
   ],
   "source": [
    "dataset.tail(2)"
   ]
  },
  {
   "cell_type": "markdown",
   "metadata": {},
   "source": [
    "### Construction of the test set"
   ]
  },
  {
   "cell_type": "markdown",
   "metadata": {},
   "source": [
    "I will tune the offset parameter in the function to create the test set. Hence, the test set will consist of movies with names later in the alpabet on the next pages of results. I expect that there are no systematical differences between the movies with titles earlier and later in the alpabet. Therefore, the split is random. Alternatively, I could have used train_test_split from skikit-learn on a bigger dataset."
   ]
  },
  {
   "cell_type": "code",
   "execution_count": 65,
   "metadata": {},
   "outputs": [],
   "source": [
    "def get_test_movies(keyword,order):\n",
    "    dfs = []\n",
    "    pm=[660,680,700,720,740,760,780,800]\n",
    "    for x in pm:\n",
    "        new_df = get_movie(keyword,x,order)    \n",
    "        dfs.append(new_df) \n",
    "        sleep(10)\n",
    "\n",
    "    df = pd.concat(dfs, ignore_index = True)\n",
    "    return df\n"
   ]
  },
  {
   "cell_type": "markdown",
   "metadata": {},
   "source": [
    "I alter the function to not compute the sentiment of every movie of the test set. The reasons are that it takes a long time to compute and I will not use it in the prediction."
   ]
  },
  {
   "cell_type": "code",
   "execution_count": 66,
   "metadata": {},
   "outputs": [],
   "source": [
    "def df_testdf(keyword,order):\n",
    "    df_test=get_test_movies(keyword,order)\n",
    "    y=len(df_test['link'])\n",
    "    for x in range(0,y):\n",
    "        df_test.at[x,'url']=df_test.at[x,'link'][\"url\"]\n",
    "        df_test.at[x,'text']=get_reviewtext(df_test.at[x,'url'])\n",
    "    return df_test"
   ]
  },
  {
   "cell_type": "code",
   "execution_count": 67,
   "metadata": {},
   "outputs": [],
   "source": [
    "testdata=df_testdf('man','by-title')"
   ]
  },
  {
   "cell_type": "code",
   "execution_count": 68,
   "metadata": {},
   "outputs": [
    {
     "data": {
      "text/html": [
       "<div>\n",
       "<style scoped>\n",
       "    .dataframe tbody tr th:only-of-type {\n",
       "        vertical-align: middle;\n",
       "    }\n",
       "\n",
       "    .dataframe tbody tr th {\n",
       "        vertical-align: top;\n",
       "    }\n",
       "\n",
       "    .dataframe thead th {\n",
       "        text-align: right;\n",
       "    }\n",
       "</style>\n",
       "<table border=\"1\" class=\"dataframe\">\n",
       "  <thead>\n",
       "    <tr style=\"text-align: right;\">\n",
       "      <th></th>\n",
       "      <th>byline</th>\n",
       "      <th>critics_pick</th>\n",
       "      <th>date_updated</th>\n",
       "      <th>display_title</th>\n",
       "      <th>headline</th>\n",
       "      <th>link</th>\n",
       "      <th>mpaa_rating</th>\n",
       "      <th>multimedia</th>\n",
       "      <th>opening_date</th>\n",
       "      <th>publication_date</th>\n",
       "      <th>summary_short</th>\n",
       "      <th>url</th>\n",
       "      <th>text</th>\n",
       "    </tr>\n",
       "  </thead>\n",
       "  <tbody>\n",
       "    <tr>\n",
       "      <th>158</th>\n",
       "      <td>Caryn James</td>\n",
       "      <td>1</td>\n",
       "      <td>2017-11-02 04:17:40</td>\n",
       "      <td>Dead Calm</td>\n",
       "      <td>DEAD CALM (MOVIE)</td>\n",
       "      <td>{'type': 'article', 'url': 'http://www.nytimes.com/1989/04/07/movies/reviews-film-a-psychological-drama-of-nightmares-and-death.html', 'suggested_link_text': 'Read the New York Times Review of Dead Calm'}</td>\n",
       "      <td>R</td>\n",
       "      <td>None</td>\n",
       "      <td>1989-04-07</td>\n",
       "      <td>1989-04-07</td>\n",
       "      <td>Woman trapped on yacht with killer. Unfortunate hybrid of escapist suspense and pure trash.</td>\n",
       "      <td>http://www.nytimes.com/1989/04/07/movies/reviews-film-a-psychological-drama-of-nightmares-and-death.html</td>\n",
       "      <td>Phillip Noyce's ''Dead Calm'' is an unsettling hybrid of escapist suspense and the kind of pure trash that depends on dead babies and murdered dogs for effect. In it, John and Rae Ingram (Sam Neill and Nicole Kidman) are a husband and wife alone on their yacht in still waters. They are joined by a classic intruder, the mysterious stranger, who in this case doesn't arrive nearly soon enough.First, we hear about a car accident in which Rae was injured and their small son killed. This is the excuse Mr. Noyce needs to send his characters on their restful cruise, but he doesn't leave things there. He re-creates one of Rae's nightmares, and we watch a beautiful little boy clutching a teddy bear smash through the windshield of the car. ''Dead Calm'' moves above this shoddy beginning and sinks back to its sleazy level a dizzying number of times.Based on the Charles Williams novel, which did not have dead babies or dogs, the story has no surprises, but there are plenty of opportunities for ...</td>\n",
       "    </tr>\n",
       "    <tr>\n",
       "      <th>159</th>\n",
       "      <td>Stephen Holden</td>\n",
       "      <td>0</td>\n",
       "      <td>2017-11-02 04:17:50</td>\n",
       "      <td>Dead Man</td>\n",
       "      <td>DEAD MAN (MOVIE)</td>\n",
       "      <td>{'type': 'article', 'url': 'http://www.nytimes.com/1996/05/10/movies/film-review-weirdos-and-allegory-in-the-old-west.html', 'suggested_link_text': 'Read the New York Times Review of Dead Man'}</td>\n",
       "      <td>R</td>\n",
       "      <td>None</td>\n",
       "      <td>1996-05-10</td>\n",
       "      <td>1996-05-10</td>\n",
       "      <td>Mild-mannered accountant turns gunslinger in Wild West. Quirky allegory, via Jarmusch.</td>\n",
       "      <td>http://www.nytimes.com/1996/05/10/movies/film-review-weirdos-and-allegory-in-the-old-west.html</td>\n",
       "      <td>Dead Man,\" Jim Jarmusch's sardonic nightmare vision of the Old West, begins with a display of grotesquerie that is so sensational it sets up expectations that the movie might be the surreal last word on the Hollywood western and its mythic legacy.Those expectations, unfortunately, are not fulfilled. The film's energy begins to flag after less than an hour, and as its pulse slackens it turns into a quirky allegory, punctuated with brilliant visionary flashes that partially redeem a philosophic ham-handedness. Audiences attuned to Mr. Jarmusch's drolly hip sensibility should be delighted with the film, but to the uninitiated, its drier patches are just as likely to induce yawns.This story of a young man's passage through a frontier crawling with violence, death and decay begins on a train whose soot-faced fireman (Crispin Glover) delivers an ominous prediction. Appearing in the car where William Blake (Johnny Depp), the film's protagonist, is playing solitaire, he warns Blake that wh...</td>\n",
       "    </tr>\n",
       "  </tbody>\n",
       "</table>\n",
       "</div>"
      ],
      "text/plain": [
       "             byline  critics_pick         date_updated display_title  \\\n",
       "158     Caryn James             1  2017-11-02 04:17:40     Dead Calm   \n",
       "159  Stephen Holden             0  2017-11-02 04:17:50      Dead Man   \n",
       "\n",
       "              headline  \\\n",
       "158  DEAD CALM (MOVIE)   \n",
       "159   DEAD MAN (MOVIE)   \n",
       "\n",
       "                                                                                                                                                                                                             link  \\\n",
       "158  {'type': 'article', 'url': 'http://www.nytimes.com/1989/04/07/movies/reviews-film-a-psychological-drama-of-nightmares-and-death.html', 'suggested_link_text': 'Read the New York Times Review of Dead Calm'}   \n",
       "159             {'type': 'article', 'url': 'http://www.nytimes.com/1996/05/10/movies/film-review-weirdos-and-allegory-in-the-old-west.html', 'suggested_link_text': 'Read the New York Times Review of Dead Man'}   \n",
       "\n",
       "    mpaa_rating multimedia opening_date publication_date  \\\n",
       "158           R       None   1989-04-07       1989-04-07   \n",
       "159           R       None   1996-05-10       1996-05-10   \n",
       "\n",
       "                                                                                   summary_short  \\\n",
       "158  Woman trapped on yacht with killer. Unfortunate hybrid of escapist suspense and pure trash.   \n",
       "159       Mild-mannered accountant turns gunslinger in Wild West. Quirky allegory, via Jarmusch.   \n",
       "\n",
       "                                                                                                          url  \\\n",
       "158  http://www.nytimes.com/1989/04/07/movies/reviews-film-a-psychological-drama-of-nightmares-and-death.html   \n",
       "159            http://www.nytimes.com/1996/05/10/movies/film-review-weirdos-and-allegory-in-the-old-west.html   \n",
       "\n",
       "                                                                                                                                                                                                                                                                                                                                                                                                                                                                                                                                                                                                                                                                                                                                                                                                                                                                                                                                                                                                                                        text  \n",
       "158  Phillip Noyce's ''Dead Calm'' is an unsettling hybrid of escapist suspense and the kind of pure trash that depends on dead babies and murdered dogs for effect. In it, John and Rae Ingram (Sam Neill and Nicole Kidman) are a husband and wife alone on their yacht in still waters. They are joined by a classic intruder, the mysterious stranger, who in this case doesn't arrive nearly soon enough.First, we hear about a car accident in which Rae was injured and their small son killed. This is the excuse Mr. Noyce needs to send his characters on their restful cruise, but he doesn't leave things there. He re-creates one of Rae's nightmares, and we watch a beautiful little boy clutching a teddy bear smash through the windshield of the car. ''Dead Calm'' moves above this shoddy beginning and sinks back to its sleazy level a dizzying number of times.Based on the Charles Williams novel, which did not have dead babies or dogs, the story has no surprises, but there are plenty of opportunities for ...  \n",
       "159  Dead Man,\" Jim Jarmusch's sardonic nightmare vision of the Old West, begins with a display of grotesquerie that is so sensational it sets up expectations that the movie might be the surreal last word on the Hollywood western and its mythic legacy.Those expectations, unfortunately, are not fulfilled. The film's energy begins to flag after less than an hour, and as its pulse slackens it turns into a quirky allegory, punctuated with brilliant visionary flashes that partially redeem a philosophic ham-handedness. Audiences attuned to Mr. Jarmusch's drolly hip sensibility should be delighted with the film, but to the uninitiated, its drier patches are just as likely to induce yawns.This story of a young man's passage through a frontier crawling with violence, death and decay begins on a train whose soot-faced fireman (Crispin Glover) delivers an ominous prediction. Appearing in the car where William Blake (Johnny Depp), the film's protagonist, is playing solitaire, he warns Blake that wh...  "
      ]
     },
     "execution_count": 68,
     "metadata": {},
     "output_type": "execute_result"
    }
   ],
   "source": [
    "testdata.tail(2)"
   ]
  },
  {
   "cell_type": "markdown",
   "metadata": {},
   "source": [
    "### Exploratory analysis"
   ]
  },
  {
   "cell_type": "markdown",
   "metadata": {},
   "source": [
    "Movies that are a critics pick have higher sentiment scores than movies that are not recommended by the NYT critic. This confirms the value of the sentiment analysis."
   ]
  },
  {
   "cell_type": "code",
   "execution_count": 71,
   "metadata": {},
   "outputs": [
    {
     "data": {
      "text/html": [
       "<div>\n",
       "<style scoped>\n",
       "    .dataframe tbody tr th:only-of-type {\n",
       "        vertical-align: middle;\n",
       "    }\n",
       "\n",
       "    .dataframe tbody tr th {\n",
       "        vertical-align: top;\n",
       "    }\n",
       "\n",
       "    .dataframe thead th {\n",
       "        text-align: right;\n",
       "    }\n",
       "</style>\n",
       "<table border=\"1\" class=\"dataframe\">\n",
       "  <thead>\n",
       "    <tr style=\"text-align: right;\">\n",
       "      <th></th>\n",
       "      <th>sentiment</th>\n",
       "    </tr>\n",
       "    <tr>\n",
       "      <th>critics_pick</th>\n",
       "      <th></th>\n",
       "    </tr>\n",
       "  </thead>\n",
       "  <tbody>\n",
       "    <tr>\n",
       "      <th>0</th>\n",
       "      <td>0.005292</td>\n",
       "    </tr>\n",
       "    <tr>\n",
       "      <th>1</th>\n",
       "      <td>0.009025</td>\n",
       "    </tr>\n",
       "  </tbody>\n",
       "</table>\n",
       "</div>"
      ],
      "text/plain": [
       "              sentiment\n",
       "critics_pick           \n",
       "0              0.005292\n",
       "1              0.009025"
      ]
     },
     "execution_count": 71,
     "metadata": {},
     "output_type": "execute_result"
    }
   ],
   "source": [
    "dataset.groupby('critics_pick').mean()"
   ]
  },
  {
   "cell_type": "markdown",
   "metadata": {},
   "source": [
    "Sentiment is almost normally distributed arround 0.006."
   ]
  },
  {
   "cell_type": "code",
   "execution_count": 69,
   "metadata": {},
   "outputs": [
    {
     "data": {
      "text/plain": [
       "Text(0, 0.5, 'Frequency')"
      ]
     },
     "execution_count": 69,
     "metadata": {},
     "output_type": "execute_result"
    },
    {
     "data": {
      "image/png": "[encoded data removed]",
      "text/plain": [
       "<Figure size 432x288 with 1 Axes>"
      ]
     },
     "metadata": {
      "needs_background": "light"
     },
     "output_type": "display_data"
    }
   ],
   "source": [
    "dataset.sentiment.hist()\n",
    "plt.title('Histogram of sentiment')\n",
    "plt.xlabel('sentiment')\n",
    "plt.ylabel('Frequency')"
   ]
  },
  {
   "cell_type": "markdown",
   "metadata": {},
   "source": [
    "I display some descriptive statistics of the sentiment analysis. I will further investigate the minimum value of the variable, -0.137."
   ]
  },
  {
   "cell_type": "code",
   "execution_count": 70,
   "metadata": {},
   "outputs": [
    {
     "data": {
      "text/plain": [
       "count    660.000000\n",
       "mean       0.006157\n",
       "std        0.042987\n",
       "min       -0.136929\n",
       "25%       -0.022412\n",
       "50%        0.007822\n",
       "75%        0.034402\n",
       "max        0.125828\n",
       "Name: sentiment, dtype: float64"
      ]
     },
     "execution_count": 70,
     "metadata": {},
     "output_type": "execute_result"
    }
   ],
   "source": [
    "dataset['sentiment'].describe()"
   ]
  },
  {
   "cell_type": "markdown",
   "metadata": {},
   "source": [
    "For illustrative purposes, I look for the most negative movie review in the test data. The worst review is the movie on index 166, which is called 'Shot Caller'. Not surprisingly, it is not a critics pick.  "
   ]
  },
  {
   "cell_type": "code",
   "execution_count": 72,
   "metadata": {},
   "outputs": [
    {
     "name": "stdout",
     "output_type": "stream",
     "text": [
      "166    Shot Caller\n",
      "Name: display_title, dtype: object\n",
      "166   -0.136929\n",
      "Name: sentiment, dtype: float64\n",
      "166    0\n",
      "Name: critics_pick, dtype: int64\n",
      "166    http://www.nytimes.com/2017/08/17/movies/shot-caller-review.html\n",
      "Name: url, dtype: object\n"
     ]
    }
   ],
   "source": [
    "x=dataset.sort_values(by='sentiment',ascending=True)\n",
    "worst=x.head(1)\n",
    "print(worst['display_title'])\n",
    "print(worst['sentiment'])\n",
    "print(worst['critics_pick'])\n",
    "print(worst['url'])"
   ]
  },
  {
   "cell_type": "markdown",
   "metadata": {},
   "source": [
    "The review indicates the NYT critic does not like the movie at all. He calls the movie ludicrous at the end of the review. This provides additional evidence for the value of the sentiment analysis."
   ]
  },
  {
   "cell_type": "code",
   "execution_count": 73,
   "metadata": {},
   "outputs": [
    {
     "data": {
      "text/plain": [
       "'“Shot Caller” is the third feature from Ric Roman Waugh (“Snitch,” “Felon”) to illustrate the notion that prisons make criminals instead of reforming them. Once a man is institutionalized, a character in “Shot Caller” says, “anything is possible.”\\nTo prove that thesis, “Shot Caller” stretches “anything” well beyond credulity. Involving yet trivializing, the movie unfolds as a would-be “Breaking Bad” of the prison genre, following an inadvertent criminal who is hardened by a gangland behind bars and eventually becomes one of its cleverest members.\\nBefore incarceration, Jacob Harlon (Nikolaj Coster-Waldau, from “Game of Thrones”) is a stockbroker from Pasadena. When he’s arrested after a fatal drunken-driving accident, concomitant charges and sentencing guidelines leave him in a bind that sends him to prison for far longer than he and his wife (Lake Bell) anticipated. Once there, he falls under the protection of a white-power gang; proves his cred by murdering a snitch; and meets the Beast (Holt McCallany), a prison leader who spouts aphorisms (“a warrior’s deadliest weapon is his mind”) and who supposedly runs California from his open-air cage.\\n“Shot Caller” interweaves before-and-after timelines, toggling between Jacob’s initiation and his life after release, a decade later, as a tattooed, muscular ex-con plotting an arms deal. Both the prison and the gangs have rules, Jacob says, but the gangs’ rules matter. “Shot Caller” effectively conveys the vise grip of Jacob’s options, but that doesn’t make it less ludicrous from scene to scene.'"
      ]
     },
     "execution_count": 73,
     "metadata": {},
     "output_type": "execute_result"
    }
   ],
   "source": [
    "get_reviewtext('http://www.nytimes.com/2017/08/17/movies/shot-caller-review.html')"
   ]
  },
  {
   "cell_type": "markdown",
   "metadata": {},
   "source": [
    "### Data preparation"
   ]
  },
  {
   "cell_type": "markdown",
   "metadata": {},
   "source": [
    "The frequency table of the critics pick indicates that most movies are not recommended by the NYT critic. As a consequence, there is a class imbalance present."
   ]
  },
  {
   "cell_type": "code",
   "execution_count": 74,
   "metadata": {},
   "outputs": [
    {
     "data": {
      "text/plain": [
       "0    507\n",
       "1    153\n",
       "Name: critics_pick, dtype: int64"
      ]
     },
     "execution_count": 74,
     "metadata": {},
     "output_type": "execute_result"
    }
   ],
   "source": [
    "dataset['critics_pick'].value_counts()"
   ]
  },
  {
   "cell_type": "markdown",
   "metadata": {},
   "source": [
    "I upsample my training set in order to have an equal amount of critics picks and non critics picks. One of the dangers of having a large imbalance between the frequencies of the response binary variable, is that the algorithm will always predict the most frequent class. In this way, my algorithm can get an accuracy of 0.768, while it does not provide any insight in the data. "
   ]
  },
  {
   "cell_type": "code",
   "execution_count": 75,
   "metadata": {},
   "outputs": [],
   "source": [
    "train2=dataset"
   ]
  },
  {
   "cell_type": "code",
   "execution_count": 76,
   "metadata": {},
   "outputs": [],
   "source": [
    "not_pick = train2[train2.critics_pick==0]\n",
    "pick = train2[train2.critics_pick==1]"
   ]
  },
  {
   "cell_type": "code",
   "execution_count": 77,
   "metadata": {},
   "outputs": [
    {
     "data": {
      "text/plain": [
       "1    507\n",
       "0    507\n",
       "Name: critics_pick, dtype: int64"
      ]
     },
     "execution_count": 77,
     "metadata": {},
     "output_type": "execute_result"
    }
   ],
   "source": [
    "# upsample minority\n",
    "pick_upsampled = resample(pick,\n",
    "                          replace=True, # sample with replacement\n",
    "                          n_samples=len(not_pick), # match number in majority class\n",
    "                          random_state=99) # reproducible results\n",
    "\n",
    "# combine majority and upsampled minority\n",
    "upsampled = pd.concat([not_pick, pick_upsampled])\n",
    "\n",
    "# check new class counts\n",
    "upsampled.critics_pick.value_counts()"
   ]
  },
  {
   "cell_type": "markdown",
   "metadata": {},
   "source": [
    "### Feature engineering"
   ]
  },
  {
   "cell_type": "markdown",
   "metadata": {},
   "source": [
    "In order to create features from the words, I will now apply the CountVectorizer on the training set. Notice that I use the training set in order to not bias the results, since some texts are copied. Further, the english stop words are excluded, since these words do not provide much analytical leverage. In addition, I only include the words that appear in more than 2% of the documents and in less than 80% of the documents. In this way I exclude corpus specific stop words. The lower bound excludes very rare words, which are dangerous for overfitting. I include unigrams and bigrams in the analysis. "
   ]
  },
  {
   "cell_type": "code",
   "execution_count": 78,
   "metadata": {},
   "outputs": [],
   "source": [
    "vectorizer = CountVectorizer(lowercase   = True,\n",
    "                             ngram_range = (1,2),\n",
    "                             max_df      = .80,\n",
    "                             min_df      = .02,\n",
    "                             stop_words   = 'english',\n",
    "                             max_features = None)"
   ]
  },
  {
   "cell_type": "code",
   "execution_count": 79,
   "metadata": {
    "scrolled": false
   },
   "outputs": [
    {
     "data": {
      "text/plain": [
       "CountVectorizer(analyzer='word', binary=False, decode_error='strict',\n",
       "        dtype=<class 'numpy.int64'>, encoding='utf-8', input='content',\n",
       "        lowercase=True, max_df=0.8, max_features=None, min_df=0.02,\n",
       "        ngram_range=(1, 2), preprocessor=None, stop_words='english',\n",
       "        strip_accents=None, token_pattern='(?u)\\\\b\\\\w\\\\w+\\\\b',\n",
       "        tokenizer=None, vocabulary=None)"
      ]
     },
     "execution_count": 79,
     "metadata": {},
     "output_type": "execute_result"
    }
   ],
   "source": [
    "vectorizer.fit(dataset['text'])"
   ]
  },
  {
   "cell_type": "code",
   "execution_count": 80,
   "metadata": {},
   "outputs": [
    {
     "data": {
      "text/plain": [
       "2044"
      ]
     },
     "execution_count": 80,
     "metadata": {},
     "output_type": "execute_result"
    }
   ],
   "source": [
    "len(vectorizer.get_feature_names())"
   ]
  },
  {
   "cell_type": "markdown",
   "metadata": {},
   "source": [
    "I will now print some random feature names to check if the features are correctly created. The result demonstrates the countvectorizer performs well."
   ]
  },
  {
   "cell_type": "code",
   "execution_count": 81,
   "metadata": {},
   "outputs": [
    {
     "data": {
      "text/plain": [
       "['vulnerable', 'wade', 'wade crush', 'wait', 'waiting']"
      ]
     },
     "execution_count": 81,
     "metadata": {},
     "output_type": "execute_result"
    }
   ],
   "source": [
    "x=vectorizer.get_feature_names()\n",
    "x[1950:1955]"
   ]
  },
  {
   "cell_type": "markdown",
   "metadata": {},
   "source": [
    "I now plot the most frequent words in the vectorizer. The large amount of 'mr' is not surprising since all these movies contain man in the title. Movie and film are respectively on the second and third place."
   ]
  },
  {
   "cell_type": "code",
   "execution_count": 82,
   "metadata": {
    "scrolled": false
   },
   "outputs": [
    {
     "data": {
      "image/png": "[encoded data removed]",
      "text/plain": [
       "<Figure size 864x720 with 1 Axes>"
      ]
     },
     "metadata": {
      "needs_background": "light"
     },
     "output_type": "display_data"
    }
   ],
   "source": [
    "bow = vectorizer.fit_transform(train2['text'])\n",
    "word_freq = dict(zip(vectorizer.get_feature_names(), np.asarray(bow.sum(axis=0)).ravel()))\n",
    "word_counter = collections.Counter(word_freq)\n",
    "word_counter_df = pd.DataFrame(word_counter.most_common(20), columns = ['word', 'freq'])\n",
    "fig, ax = plt.subplots(figsize=(12, 10))\n",
    "sns.barplot(x=\"word\", y=\"freq\", data=word_counter_df, palette=\"PuBuGn_d\", ax=ax)\n",
    "plt.show();"
   ]
  },
  {
   "cell_type": "markdown",
   "metadata": {},
   "source": [
    "An alternative to excluding words is giving them smart weights. TF-IDF (term frequency-inverse document frequency) can be used to give a high weight to words that occur often in one or a couple documents, but do not often occur in many other documents. As a consequence, these words have a higer analytical leverage than words that occur in every document or only occur seldomly in a single document."
   ]
  },
  {
   "cell_type": "code",
   "execution_count": 84,
   "metadata": {},
   "outputs": [],
   "source": [
    "vectorizer= TfidfVectorizer(lowercase   = True,\n",
    "                             ngram_range = (1,2),\n",
    "                             max_features = None)"
   ]
  },
  {
   "cell_type": "markdown",
   "metadata": {},
   "source": [
    "I fit the vectorizer on the original training data. Fitting the vectorizer on the oversampled dataset would have biased the results since some movies are cloned. Words in cloned movie reviews would have lower TF-IDF values. "
   ]
  },
  {
   "cell_type": "code",
   "execution_count": 85,
   "metadata": {},
   "outputs": [
    {
     "data": {
      "text/plain": [
       "TfidfVectorizer(analyzer='word', binary=False, decode_error='strict',\n",
       "        dtype=<class 'numpy.float64'>, encoding='utf-8', input='content',\n",
       "        lowercase=True, max_df=1.0, max_features=None, min_df=1,\n",
       "        ngram_range=(1, 2), norm='l2', preprocessor=None, smooth_idf=True,\n",
       "        stop_words=None, strip_accents=None, sublinear_tf=False,\n",
       "        token_pattern='(?u)\\\\b\\\\w\\\\w+\\\\b', tokenizer=None, use_idf=True,\n",
       "        vocabulary=None)"
      ]
     },
     "execution_count": 85,
     "metadata": {},
     "output_type": "execute_result"
    }
   ],
   "source": [
    "vectorizer.fit(dataset['text'])"
   ]
  },
  {
   "cell_type": "markdown",
   "metadata": {},
   "source": [
    "The amount of features is very large, since I did not exclude words."
   ]
  },
  {
   "cell_type": "code",
   "execution_count": 86,
   "metadata": {},
   "outputs": [
    {
     "data": {
      "text/plain": [
       "210544"
      ]
     },
     "execution_count": 86,
     "metadata": {},
     "output_type": "execute_result"
    }
   ],
   "source": [
    "len(vectorizer.get_feature_names())"
   ]
  },
  {
   "cell_type": "markdown",
   "metadata": {},
   "source": [
    "I apply the vectorizer on the training set, oversampled training set and the test set."
   ]
  },
  {
   "cell_type": "code",
   "execution_count": 87,
   "metadata": {
    "scrolled": true
   },
   "outputs": [],
   "source": [
    "vector_upsampled=vectorizer.transform(upsampled['text'])\n",
    "vector_test=vectorizer.transform(testdata['text'])"
   ]
  },
  {
   "cell_type": "code",
   "execution_count": 88,
   "metadata": {},
   "outputs": [],
   "source": [
    "vector_train=vectorizer.transform(dataset['text'])"
   ]
  },
  {
   "cell_type": "markdown",
   "metadata": {},
   "source": [
    "### Logistic regression model"
   ]
  },
  {
   "cell_type": "markdown",
   "metadata": {},
   "source": [
    "I first apply a classic logistic regression model on the upsampled data. For illustrative purposes, I first fitted the model on the original training data and next applied it on the test set. The logistic regression model predicted all critics picks wrongly as non critics pick. Hence, it is important to use the oversampled training data."
   ]
  },
  {
   "cell_type": "markdown",
   "metadata": {},
   "source": [
    "The logistic regression model of skikit-learn contains by default regularization. Hence, there is a lambda parameter that controls the complexity of the model to prevent overfitting. A small lambda results in a complexer model with large coefficients, while a large lambda develops a simpler model with small coefficients. I finetune this parameter with 10-fold crossvalidation in GridSearch."
   ]
  },
  {
   "cell_type": "code",
   "execution_count": 89,
   "metadata": {},
   "outputs": [],
   "source": [
    "pipeline = Pipeline([('classifier' , LogisticRegression(penalty = 'l2',random_state = 0))\n",
    "                    ])\n",
    "\n",
    "parameters = {'classifier__C' : [0.0000000001, 0.000000001, 0.0000001, 0.000001, 0.00001, 0.0001,0.001,0.01,0.1,1,10,15,20,30,40,50,60,70,80,90,100,200,500] }"
   ]
  },
  {
   "cell_type": "code",
   "execution_count": 90,
   "metadata": {},
   "outputs": [],
   "source": [
    "grid_search = GridSearchCV(pipeline,\n",
    "                           parameters,\n",
    "                           n_jobs = -1,\n",
    "                           cv = 10,\n",
    "                           verbose = 1)"
   ]
  },
  {
   "cell_type": "code",
   "execution_count": 91,
   "metadata": {},
   "outputs": [
    {
     "name": "stdout",
     "output_type": "stream",
     "text": [
      "Fitting 10 folds for each of 23 candidates, totalling 230 fits\n"
     ]
    },
    {
     "name": "stderr",
     "output_type": "stream",
     "text": [
      "[Parallel(n_jobs=-1)]: Using backend LokyBackend with 4 concurrent workers.\n",
      "[Parallel(n_jobs=-1)]: Done  42 tasks      | elapsed:    8.4s\n",
      "[Parallel(n_jobs=-1)]: Done 192 tasks      | elapsed:  1.0min\n",
      "[Parallel(n_jobs=-1)]: Done 230 out of 230 | elapsed:  1.3min finished\n",
      "C:\\Users\\r0595384\\AppData\\Local\\Continuum\\anaconda3\\lib\\site-packages\\sklearn\\linear_model\\logistic.py:433: FutureWarning: Default solver will be changed to 'lbfgs' in 0.22. Specify a solver to silence this warning.\n",
      "  FutureWarning)\n"
     ]
    },
    {
     "data": {
      "text/plain": [
       "GridSearchCV(cv=10, error_score='raise-deprecating',\n",
       "       estimator=Pipeline(memory=None,\n",
       "     steps=[('classifier', LogisticRegression(C=1.0, class_weight=None, dual=False, fit_intercept=True,\n",
       "          intercept_scaling=1, max_iter=100, multi_class='warn',\n",
       "          n_jobs=None, penalty='l2', random_state=0, solver='warn',\n",
       "          tol=0.0001, verbose=0, warm_start=False))]),\n",
       "       fit_params=None, iid='warn', n_jobs=-1,\n",
       "       param_grid={'classifier__C': [1e-10, 1e-09, 1e-07, 1e-06, 1e-05, 0.0001, 0.001, 0.01, 0.1, 1, 10, 15, 20, 30, 40, 50, 60, 70, 80, 90, 100, 200, 500]},\n",
       "       pre_dispatch='2*n_jobs', refit=True, return_train_score='warn',\n",
       "       scoring=None, verbose=1)"
      ]
     },
     "execution_count": 91,
     "metadata": {},
     "output_type": "execute_result"
    }
   ],
   "source": [
    "grid_search.fit(vector_upsampled,\n",
    "                upsampled['critics_pick'])"
   ]
  },
  {
   "cell_type": "markdown",
   "metadata": {},
   "source": [
    "The best cross-validation score is 0.9643. This model has a regularization parameter of 10. "
   ]
  },
  {
   "cell_type": "code",
   "execution_count": 92,
   "metadata": {},
   "outputs": [
    {
     "data": {
      "text/plain": [
       "0.9694280078895463"
      ]
     },
     "execution_count": 92,
     "metadata": {},
     "output_type": "execute_result"
    }
   ],
   "source": [
    "grid_search.best_score_"
   ]
  },
  {
   "cell_type": "code",
   "execution_count": 93,
   "metadata": {},
   "outputs": [
    {
     "data": {
      "text/plain": [
       "<bound method Pipeline.get_params of Pipeline(memory=None,\n",
       "     steps=[('classifier', LogisticRegression(C=10, class_weight=None, dual=False, fit_intercept=True,\n",
       "          intercept_scaling=1, max_iter=100, multi_class='warn',\n",
       "          n_jobs=None, penalty='l2', random_state=0, solver='warn',\n",
       "          tol=0.0001, verbose=0, warm_start=False))])>"
      ]
     },
     "execution_count": 93,
     "metadata": {},
     "output_type": "execute_result"
    }
   ],
   "source": [
    "grid_search.best_estimator_.get_params"
   ]
  },
  {
   "cell_type": "markdown",
   "metadata": {},
   "source": [
    "I will now fit the logistic regresion model again, but with the optimal regularization parameter, 10."
   ]
  },
  {
   "cell_type": "code",
   "execution_count": 94,
   "metadata": {},
   "outputs": [],
   "source": [
    "ln_classifier = LogisticRegression(penalty = 'l2', C = 10,random_state = 0)"
   ]
  },
  {
   "cell_type": "code",
   "execution_count": 95,
   "metadata": {},
   "outputs": [
    {
     "name": "stderr",
     "output_type": "stream",
     "text": [
      "C:\\Users\\r0595384\\AppData\\Local\\Continuum\\anaconda3\\lib\\site-packages\\sklearn\\linear_model\\logistic.py:433: FutureWarning: Default solver will be changed to 'lbfgs' in 0.22. Specify a solver to silence this warning.\n",
      "  FutureWarning)\n"
     ]
    },
    {
     "data": {
      "text/plain": [
       "LogisticRegression(C=10, class_weight=None, dual=False, fit_intercept=True,\n",
       "          intercept_scaling=1, max_iter=100, multi_class='warn',\n",
       "          n_jobs=None, penalty='l2', random_state=0, solver='warn',\n",
       "          tol=0.0001, verbose=0, warm_start=False)"
      ]
     },
     "execution_count": 95,
     "metadata": {},
     "output_type": "execute_result"
    }
   ],
   "source": [
    "ln_classifier.fit(vector_upsampled, upsampled['critics_pick'])"
   ]
  },
  {
   "cell_type": "markdown",
   "metadata": {},
   "source": [
    "The model is now evaluated on the oversampled training data. In order to do so, I first make a prediction. Next, I compute the accuracy and a classification report. The report and accuracy demonstrate I can predict my training data perfectly. "
   ]
  },
  {
   "cell_type": "code",
   "execution_count": 96,
   "metadata": {},
   "outputs": [],
   "source": [
    " predict_upsampled=ln_classifier.predict(vector_upsampled)"
   ]
  },
  {
   "cell_type": "code",
   "execution_count": 97,
   "metadata": {},
   "outputs": [
    {
     "name": "stdout",
     "output_type": "stream",
     "text": [
      "1.0\n",
      "              precision    recall  f1-score   support\n",
      "\n",
      "           0       1.00      1.00      1.00       507\n",
      "           1       1.00      1.00      1.00       507\n",
      "\n",
      "   micro avg       1.00      1.00      1.00      1014\n",
      "   macro avg       1.00      1.00      1.00      1014\n",
      "weighted avg       1.00      1.00      1.00      1014\n",
      "\n"
     ]
    }
   ],
   "source": [
    "print(accuracy_score(upsampled['critics_pick'],predict_upsampled))\n",
    "print(classification_report(upsampled['critics_pick'],predict_upsampled))"
   ]
  },
  {
   "cell_type": "markdown",
   "metadata": {},
   "source": [
    "#### Evaluate the model on the test set"
   ]
  },
  {
   "cell_type": "markdown",
   "metadata": {},
   "source": [
    "Now I predict the testdata and compute the accuracy and other evaluation metrics. In this way I can assess how good my model performs on new data and whether my model was overfitting or not. The accuracy is lower compared to the test set, but is still quite high. The drop can mainly be attributed to the lower precision and recall in the predictions of critics picks."
   ]
  },
  {
   "cell_type": "code",
   "execution_count": 123,
   "metadata": {},
   "outputs": [],
   "source": [
    " predict_test=ln_classifier.predict(vector_test)"
   ]
  },
  {
   "cell_type": "code",
   "execution_count": 124,
   "metadata": {},
   "outputs": [
    {
     "name": "stdout",
     "output_type": "stream",
     "text": [
      "0.84375\n",
      "              precision    recall  f1-score   support\n",
      "\n",
      "           0       0.96      0.86      0.91       142\n",
      "           1       0.39      0.72      0.51        18\n",
      "\n",
      "   micro avg       0.84      0.84      0.84       160\n",
      "   macro avg       0.68      0.79      0.71       160\n",
      "weighted avg       0.90      0.84      0.86       160\n",
      "\n"
     ]
    }
   ],
   "source": [
    "print(accuracy_score(testdata['critics_pick'],predict_test))\n",
    "print(classification_report(testdata['critics_pick'],predict_test))"
   ]
  },
  {
   "cell_type": "code",
   "execution_count": 126,
   "metadata": {},
   "outputs": [
    {
     "data": {
      "text/plain": [
       "<matplotlib.axes._subplots.AxesSubplot at 0x1867ced3e80>"
      ]
     },
     "execution_count": 126,
     "metadata": {},
     "output_type": "execute_result"
    },
    {
     "data": {
      "image/png": "[encoded data removed]",
      "text/plain": [
       "<Figure size 432x288 with 2 Axes>"
      ]
     },
     "metadata": {
      "needs_background": "light"
     },
     "output_type": "display_data"
    }
   ],
   "source": [
    "cm = confusion_matrix(testdata['critics_pick'], predict_test)\n",
    "sns.heatmap(cm, annot=True, cmap=\"Greens\", fmt='g', \n",
    "            yticklabels = ln_classifier.classes_,\n",
    "            xticklabels =ln_classifier.classes_,)"
   ]
  },
  {
   "cell_type": "markdown",
   "metadata": {},
   "source": [
    "### Nearest neighbor model"
   ]
  },
  {
   "cell_type": "markdown",
   "metadata": {},
   "source": [
    "K-nearest neighbors is a method that predicts for a new instance the mode of his k neighbors. An important parameter is k, the number of neighbors. I will first finetune this parameter with crossvalidation. For the nearest neighbour model, I will not use the oversampled training set. The reason is that the model picks one as the optimal number of nearest neighbors. This is quite logical, since predicting the class of the nearest neighbor results in predicting the class of the clone in some cases. Hence, this will also bias the accuracy on the training data in a positive way. The reason is that the nearest neighbout is always the clone for the upsampled cases. As a consequence, I only use the training data."
   ]
  },
  {
   "cell_type": "markdown",
   "metadata": {},
   "source": [
    "10-fold cross-validation is performed to obtain the optimal number of neighbors. I search the optimal number of neigbors in a large range of possible parameters; the algorithms with 1 up to 30 neighbors are compared."
   ]
  },
  {
   "cell_type": "code",
   "execution_count": 100,
   "metadata": {},
   "outputs": [],
   "source": [
    "pipeline = Pipeline([('classifier' , KNeighborsClassifier())\n",
    "                    ])\n",
    "\n",
    "parameters = {'classifier__n_neighbors' : [1,2,3,4,5,6,7,8,9,10,11,12,13,14,15,16,17,18,19,20,21,22,23,24,25,26,27,28,29,30] }"
   ]
  },
  {
   "cell_type": "code",
   "execution_count": 101,
   "metadata": {},
   "outputs": [],
   "source": [
    "grid_search = GridSearchCV(pipeline,\n",
    "                           parameters,\n",
    "                           n_jobs = -1,\n",
    "                           cv = 10,\n",
    "                           verbose = 1)"
   ]
  },
  {
   "cell_type": "code",
   "execution_count": 102,
   "metadata": {},
   "outputs": [
    {
     "name": "stdout",
     "output_type": "stream",
     "text": [
      "Fitting 10 folds for each of 30 candidates, totalling 300 fits\n"
     ]
    },
    {
     "name": "stderr",
     "output_type": "stream",
     "text": [
      "[Parallel(n_jobs=-1)]: Using backend LokyBackend with 4 concurrent workers.\n",
      "[Parallel(n_jobs=-1)]: Done  42 tasks      | elapsed:    5.6s\n",
      "[Parallel(n_jobs=-1)]: Done 192 tasks      | elapsed:   24.6s\n",
      "[Parallel(n_jobs=-1)]: Done 300 out of 300 | elapsed:   38.3s finished\n",
      "C:\\Users\\r0595384\\AppData\\Local\\Continuum\\anaconda3\\lib\\site-packages\\sklearn\\model_selection\\_search.py:841: DeprecationWarning: The default of the `iid` parameter will change from True to False in version 0.22 and will be removed in 0.24. This will change numeric results when test-set sizes are unequal.\n",
      "  DeprecationWarning)\n"
     ]
    },
    {
     "data": {
      "text/plain": [
       "GridSearchCV(cv=10, error_score='raise-deprecating',\n",
       "       estimator=Pipeline(memory=None,\n",
       "     steps=[('classifier', KNeighborsClassifier(algorithm='auto', leaf_size=30, metric='minkowski',\n",
       "           metric_params=None, n_jobs=None, n_neighbors=5, p=2,\n",
       "           weights='uniform'))]),\n",
       "       fit_params=None, iid='warn', n_jobs=-1,\n",
       "       param_grid={'classifier__n_neighbors': [1, 2, 3, 4, 5, 6, 7, 8, 9, 10, 11, 12, 13, 14, 15, 16, 17, 18, 19, 20, 21, 22, 23, 24, 25, 26, 27, 28, 29, 30]},\n",
       "       pre_dispatch='2*n_jobs', refit=True, return_train_score='warn',\n",
       "       scoring=None, verbose=1)"
      ]
     },
     "execution_count": 102,
     "metadata": {},
     "output_type": "execute_result"
    }
   ],
   "source": [
    "grid_search.fit(vector_train, dataset['critics_pick'])"
   ]
  },
  {
   "cell_type": "markdown",
   "metadata": {},
   "source": [
    "The model with the best crossvalidation score (0.65) predicts a new instance based on two neighbors."
   ]
  },
  {
   "cell_type": "code",
   "execution_count": 103,
   "metadata": {},
   "outputs": [
    {
     "name": "stdout",
     "output_type": "stream",
     "text": [
      "0.65\n",
      "<bound method Pipeline.get_params of Pipeline(memory=None,\n",
      "     steps=[('classifier', KNeighborsClassifier(algorithm='auto', leaf_size=30, metric='minkowski',\n",
      "           metric_params=None, n_jobs=None, n_neighbors=2, p=2,\n",
      "           weights='uniform'))])>\n"
     ]
    }
   ],
   "source": [
    "print(grid_search.best_score_)\n",
    "print(grid_search.best_estimator_.get_params)"
   ]
  },
  {
   "cell_type": "markdown",
   "metadata": {},
   "source": [
    "As an alternative to GridSearch, a loop is created that saves the results in a list."
   ]
  },
  {
   "cell_type": "code",
   "execution_count": 104,
   "metadata": {},
   "outputs": [],
   "source": [
    " neighbours= list(range(1,30))"
   ]
  },
  {
   "cell_type": "code",
   "execution_count": 105,
   "metadata": {},
   "outputs": [],
   "source": [
    "cv_scores = []\n",
    "for k in neighbours:\n",
    "    knn = KNeighborsClassifier(n_neighbors=k)\n",
    "    scores = cross_val_score(knn, vectorizer.transform(train2['text']), train2['critics_pick'], cv=10, scoring='accuracy')\n",
    "    cv_scores.append(scores.mean())"
   ]
  },
  {
   "cell_type": "markdown",
   "metadata": {},
   "source": [
    "The results are displayed in a plot. The plot demonstrates that two is by far the best number of neighbors."
   ]
  },
  {
   "cell_type": "code",
   "execution_count": 106,
   "metadata": {},
   "outputs": [
    {
     "data": {
      "text/plain": [
       "Text(0, 0.5, 'Accuracy')"
      ]
     },
     "execution_count": 106,
     "metadata": {},
     "output_type": "execute_result"
    },
    {
     "data": {
      "image/png": "[encoded data removed]",
      "text/plain": [
       "<Figure size 432x288 with 1 Axes>"
      ]
     },
     "metadata": {
      "needs_background": "light"
     },
     "output_type": "display_data"
    }
   ],
   "source": [
    "plt.plot(neighbours, cv_scores)\n",
    "plt.xlabel('Number of Neighbors K')\n",
    "plt.ylabel('Accuracy')"
   ]
  },
  {
   "cell_type": "markdown",
   "metadata": {},
   "source": [
    "The algorithm is fitted again with the optimal number of neighbors. "
   ]
  },
  {
   "cell_type": "code",
   "execution_count": 107,
   "metadata": {},
   "outputs": [],
   "source": [
    "knn_classifier = KNeighborsClassifier(n_neighbors = 2)"
   ]
  },
  {
   "cell_type": "code",
   "execution_count": 108,
   "metadata": {},
   "outputs": [
    {
     "data": {
      "text/plain": [
       "KNeighborsClassifier(algorithm='auto', leaf_size=30, metric='minkowski',\n",
       "           metric_params=None, n_jobs=None, n_neighbors=2, p=2,\n",
       "           weights='uniform')"
      ]
     },
     "execution_count": 108,
     "metadata": {},
     "output_type": "execute_result"
    }
   ],
   "source": [
    "knn_classifier.fit(vectorizer.transform(dataset['text']), dataset['critics_pick'])\n"
   ]
  },
  {
   "cell_type": "markdown",
   "metadata": {},
   "source": [
    "Now the training data is predicted in order to evaluate the model."
   ]
  },
  {
   "cell_type": "code",
   "execution_count": 109,
   "metadata": {},
   "outputs": [],
   "source": [
    "knn_prediction = knn_classifier.predict(vectorizer.transform(dataset['text']))\n"
   ]
  },
  {
   "cell_type": "markdown",
   "metadata": {},
   "source": [
    "The accuracy on the training is lower compared to the logistic regression model. Note that the measures are not exactly comparable; this algorithm is evaluated on the original training set. In contrast, logistic regression is evaluated on the oversampled training set. "
   ]
  },
  {
   "cell_type": "code",
   "execution_count": 110,
   "metadata": {},
   "outputs": [
    {
     "name": "stdout",
     "output_type": "stream",
     "text": [
      "0.8803030303030303\n",
      "              precision    recall  f1-score   support\n",
      "\n",
      "           0       0.87      1.00      0.93       507\n",
      "           1       1.00      0.48      0.65       153\n",
      "\n",
      "   micro avg       0.88      0.88      0.88       660\n",
      "   macro avg       0.93      0.74      0.79       660\n",
      "weighted avg       0.90      0.88      0.86       660\n",
      "\n"
     ]
    }
   ],
   "source": [
    "print(accuracy_score(dataset['critics_pick'], knn_prediction))\n",
    "print(classification_report(dataset['critics_pick'], knn_prediction))\n"
   ]
  },
  {
   "cell_type": "markdown",
   "metadata": {},
   "source": [
    "#### Evaluate model on test set"
   ]
  },
  {
   "cell_type": "markdown",
   "metadata": {},
   "source": [
    "The algorithm predicts the test data."
   ]
  },
  {
   "cell_type": "code",
   "execution_count": 120,
   "metadata": {},
   "outputs": [],
   "source": [
    "knn_test_prediction = knn_classifier.predict(vector_test)\n"
   ]
  },
  {
   "cell_type": "markdown",
   "metadata": {},
   "source": [
    "The accuracy on the test set is lower than the logistic regression model. In addition, the recall and precision in the prediction of critics picks is even lower than logistic regression. Hence, in this case the logistic regression model is superior to k-nearest neigbors."
   ]
  },
  {
   "cell_type": "code",
   "execution_count": 121,
   "metadata": {},
   "outputs": [
    {
     "name": "stdout",
     "output_type": "stream",
     "text": [
      "0.7125\n",
      "              precision    recall  f1-score   support\n",
      "\n",
      "           0       0.91      0.75      0.82       142\n",
      "           1       0.18      0.44      0.26        18\n",
      "\n",
      "   micro avg       0.71      0.71      0.71       160\n",
      "   macro avg       0.55      0.60      0.54       160\n",
      "weighted avg       0.83      0.71      0.76       160\n",
      "\n"
     ]
    }
   ],
   "source": [
    "print(accuracy_score(testdata['critics_pick'], knn_test_prediction ))\n",
    "print(classification_report(testdata['critics_pick'], knn_test_prediction))\n"
   ]
  },
  {
   "cell_type": "code",
   "execution_count": 122,
   "metadata": {},
   "outputs": [
    {
     "data": {
      "text/plain": [
       "<matplotlib.axes._subplots.AxesSubplot at 0x1867cc30748>"
      ]
     },
     "execution_count": 122,
     "metadata": {},
     "output_type": "execute_result"
    },
    {
     "data": {
      "image/png": "[encoded data removed]",
      "text/plain": [
       "<Figure size 432x288 with 2 Axes>"
      ]
     },
     "metadata": {
      "needs_background": "light"
     },
     "output_type": "display_data"
    }
   ],
   "source": [
    "cm = confusion_matrix(testdata['critics_pick'], knn_test_prediction)\n",
    "sns.heatmap(cm, annot=True, cmap=\"Greens\", fmt='g', \n",
    "            yticklabels = knn_classifier.classes_,\n",
    "            xticklabels =knn_classifier.classes_,)"
   ]
  },
  {
   "cell_type": "markdown",
   "metadata": {},
   "source": [
    "### Multinomial naive bayes model\n"
   ]
  },
  {
   "cell_type": "markdown",
   "metadata": {},
   "source": [
    "My last model is a multinomial naive bayes model. This model calculates probabilities of class membership by applying the Bayes theorem. The model makes a strong assumption: the value of a particular feature is independent of the value of any other feature, given the class variable. One can discuss whether the assumption holds in this data; it means that the presence or absence of a word is independent of the presence or absence of another word, given whether the movie is a critics pick or not. However, some literature suggest this algorithm works well when the assumption does not hold (e.g. Zhang H., The Optimality of Naive Bayes, AAAI 1, no. 2 (2004))"
   ]
  },
  {
   "cell_type": "code",
   "execution_count": 113,
   "metadata": {},
   "outputs": [],
   "source": [
    "nb_classifier = MultinomialNB()"
   ]
  },
  {
   "cell_type": "markdown",
   "metadata": {},
   "source": [
    "I fit the model and immediately make predictions of the upsampled training data."
   ]
  },
  {
   "cell_type": "code",
   "execution_count": 114,
   "metadata": {},
   "outputs": [],
   "source": [
    "nb_classifier.fit(vectorizer.transform(upsampled['text']), upsampled['critics_pick'])\n",
    "nb_prediction = nb_classifier.predict(vectorizer.transform(upsampled['text']))"
   ]
  },
  {
   "cell_type": "markdown",
   "metadata": {},
   "source": [
    "The accuracy on the upsampled training set is quite high, the accuracy equals 0.998. Still, this is a little bit lower lower than the logistic regression model.  "
   ]
  },
  {
   "cell_type": "code",
   "execution_count": 115,
   "metadata": {},
   "outputs": [
    {
     "name": "stdout",
     "output_type": "stream",
     "text": [
      "0.9980276134122288\n",
      "              precision    recall  f1-score   support\n",
      "\n",
      "           0       1.00      1.00      1.00       507\n",
      "           1       1.00      1.00      1.00       507\n",
      "\n",
      "   micro avg       1.00      1.00      1.00      1014\n",
      "   macro avg       1.00      1.00      1.00      1014\n",
      "weighted avg       1.00      1.00      1.00      1014\n",
      "\n"
     ]
    }
   ],
   "source": [
    "print(accuracy_score(upsampled['critics_pick'], nb_prediction))\n",
    "print(classification_report(upsampled['critics_pick'], nb_prediction))"
   ]
  },
  {
   "cell_type": "markdown",
   "metadata": {},
   "source": [
    "#### Evaluate model on test set"
   ]
  },
  {
   "cell_type": "markdown",
   "metadata": {},
   "source": [
    "Now the algorithm makes predictions for the test data."
   ]
  },
  {
   "cell_type": "code",
   "execution_count": 116,
   "metadata": {},
   "outputs": [],
   "source": [
    "predict_test=nb_classifier.predict(vector_test)"
   ]
  },
  {
   "cell_type": "markdown",
   "metadata": {},
   "source": [
    "The accuracy on the test set demonstrates that this model performs worse than the logistic regression model. Still, the recall on the critics picks equals one, which is higher than the logistic regression model. This indicates that the model does not predict any non critics pick as a critic pick. Equivalently, the precision of the non critics picks equals one. Suppose that the misclassification costs would be unequal, with a higher cost predicting a non critics pick as a critic pick, this model would be preferred. However, in this case the misclassification costs are equal."
   ]
  },
  {
   "cell_type": "code",
   "execution_count": 117,
   "metadata": {},
   "outputs": [
    {
     "name": "stdout",
     "output_type": "stream",
     "text": [
      "0.41875\n",
      "              precision    recall  f1-score   support\n",
      "\n",
      "           0       1.00      0.35      0.51       142\n",
      "           1       0.16      1.00      0.28        18\n",
      "\n",
      "   micro avg       0.42      0.42      0.42       160\n",
      "   macro avg       0.58      0.67      0.40       160\n",
      "weighted avg       0.91      0.42      0.49       160\n",
      "\n"
     ]
    }
   ],
   "source": [
    "print(accuracy_score(testdata['critics_pick'], predict_test))\n",
    "print(classification_report(testdata['critics_pick'], predict_test))"
   ]
  },
  {
   "cell_type": "code",
   "execution_count": 119,
   "metadata": {},
   "outputs": [
    {
     "data": {
      "text/plain": [
       "<matplotlib.axes._subplots.AxesSubplot at 0x18600846c18>"
      ]
     },
     "execution_count": 119,
     "metadata": {},
     "output_type": "execute_result"
    },
    {
     "data": {
      "image/png": "[encoded data removed]",
      "text/plain": [
       "<Figure size 432x288 with 2 Axes>"
      ]
     },
     "metadata": {
      "needs_background": "light"
     },
     "output_type": "display_data"
    }
   ],
   "source": [
    "cm = confusion_matrix(testdata['critics_pick'], predict_test)\n",
    "sns.heatmap(cm, annot=True, cmap=\"Greens\", fmt='g', \n",
    "            yticklabels = nb_classifier.classes_,\n",
    "            xticklabels =nb_classifier.classes_,)"
   ]
  },
  {
   "cell_type": "markdown",
   "metadata": {},
   "source": [
    "### Conclusion"
   ]
  },
  {
   "cell_type": "markdown",
   "metadata": {},
   "source": [
    "To conclude, logistic regression makes good predictions whether the critic recommends the movie or not based on the words in the movie reviews. The accuracy of the model on new data equals 0.84375. This is higher than the k-nearest neighbors and multinomial naive bayes algorithms.  "
   ]
  },
  {
   "cell_type": "code",
   "execution_count": null,
   "metadata": {},
   "outputs": [],
   "source": []
  }
 ],
 "metadata": {
  "kernelspec": {
   "display_name": "Python 3",
   "language": "python",
   "name": "python3"
  },
  "language_info": {
   "codemirror_mode": {
    "name": "ipython",
    "version": 3
   },
   "file_extension": ".py",
   "mimetype": "text/x-python",
   "name": "python",
   "nbconvert_exporter": "python",
   "pygments_lexer": "ipython3",
   "version": "3.7.0"
  }
 },
 "nbformat": 4,
 "nbformat_minor": 2
}
